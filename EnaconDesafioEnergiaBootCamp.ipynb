{
 "cells": [
  {
   "cell_type": "markdown",
   "metadata": {},
   "source": [
    "# DESAFIO\n",
    "\n",
    "**Desenvolva um modelo de predição utilizando um conjunto de dados que detalha a geração horária de\n",
    "energia elétrica no Brasil, de 2000 a 2018. Apesar da granularidade horária dos dados, o modelo deve\n",
    "focar em previsões na frequência mensal. Você tem a liberdade de escolher como agrupar os dados\n",
    "para a previsão - seja por total geral, por tipo de usina, tipo de combustível, região ou estado. Essa\n",
    "escolha deve ser justificada com base na relevância e impacto esperado no resultado da previsão. Para\n",
    "a validação do modelo, utilize os dados correspondentes aos anos de 2019 e 2020**\n"
   ]
  },
  {
   "cell_type": "markdown",
   "metadata": {},
   "source": [
    "# IMPORTAÇÃO DE PACOTES"
   ]
  },
  {
   "cell_type": "code",
   "execution_count": 1,
   "metadata": {},
   "outputs": [],
   "source": [
    "import warnings\n",
    "import pandas as pd\n",
    "import matplotlib.pyplot as plt\n",
    "import seaborn as sns\n",
    "from sklearn.model_selection import train_test_split\n",
    "import numpy as np\n",
    "import joblib # Utilizado para salvar o modelo preditivo\n",
    "from sklearn.preprocessing import LabelEncoder #Utilizada para fazer o OneHotEncoding\n",
    "from sklearn.metrics import mean_squared_error,precision_score, recall_score, f1_score, accuracy_score, roc_auc_score, confusion_matrix\n",
    "from sklearn.metrics import r2_score # Utilizado para medir a acuracia do modelo preditivo\n",
    "warnings.filterwarnings(\"ignore\") \n",
    "pd.set_option('display.max_columns', None)\n",
    "pd.set_option('display.max_rows', None)\n",
    "#pd.options.display.float_format = '{:.2f}'.format"
   ]
  },
  {
   "cell_type": "markdown",
   "metadata": {},
   "source": [
    "# IMPORTAÇÃO DOS DADOS"
   ]
  },
  {
   "cell_type": "markdown",
   "metadata": {},
   "source": [
    "## TABELAS DOS DADOS DE 2000"
   ]
  },
  {
   "cell_type": "code",
   "execution_count": 2,
   "metadata": {},
   "outputs": [
    {
     "data": {
      "text/html": [
       "<div>\n",
       "<style scoped>\n",
       "    .dataframe tbody tr th:only-of-type {\n",
       "        vertical-align: middle;\n",
       "    }\n",
       "\n",
       "    .dataframe tbody tr th {\n",
       "        vertical-align: top;\n",
       "    }\n",
       "\n",
       "    .dataframe thead th {\n",
       "        text-align: right;\n",
       "    }\n",
       "</style>\n",
       "<table border=\"1\" class=\"dataframe\">\n",
       "  <thead>\n",
       "    <tr style=\"text-align: right;\">\n",
       "      <th></th>\n",
       "      <th>din_instante</th>\n",
       "      <th>id_subsistema</th>\n",
       "      <th>nom_subsistema</th>\n",
       "      <th>id_estado</th>\n",
       "      <th>nom_estado</th>\n",
       "      <th>cod_modalidadeoperacao</th>\n",
       "      <th>nom_tipousina</th>\n",
       "      <th>nom_tipo_combustivel</th>\n",
       "      <th>nom_usina</th>\n",
       "      <th>ceg</th>\n",
       "      <th>val_geracao</th>\n",
       "    </tr>\n",
       "  </thead>\n",
       "  <tbody>\n",
       "    <tr>\n",
       "      <th>0</th>\n",
       "      <td>01/01/2000 00:00</td>\n",
       "      <td>N</td>\n",
       "      <td>NORTE</td>\n",
       "      <td>PA</td>\n",
       "      <td>PARA</td>\n",
       "      <td>TIPO I</td>\n",
       "      <td>HIDROELÉTRICA</td>\n",
       "      <td>Hidráulica</td>\n",
       "      <td>Tucuruí</td>\n",
       "      <td>UHE.PH.PA.002889-4.01</td>\n",
       "      <td>242.250.000.000</td>\n",
       "    </tr>\n",
       "  </tbody>\n",
       "</table>\n",
       "</div>"
      ],
      "text/plain": [
       "       din_instante id_subsistema nom_subsistema id_estado nom_estado  \\\n",
       "0  01/01/2000 00:00             N          NORTE        PA       PARA   \n",
       "\n",
       "  cod_modalidadeoperacao  nom_tipousina nom_tipo_combustivel nom_usina  \\\n",
       "0                 TIPO I  HIDROELÉTRICA           Hidráulica   Tucuruí   \n",
       "\n",
       "                     ceg      val_geracao  \n",
       "0  UHE.PH.PA.002889-4.01  242.250.000.000  "
      ]
     },
     "execution_count": 2,
     "metadata": {},
     "output_type": "execute_result"
    }
   ],
   "source": [
    "dados = pd.read_csv('GERACAO_USINA2000.csv', sep=';', decimal='.') \n",
    "dados.head(1)\n"
   ]
  },
  {
   "cell_type": "code",
   "execution_count": 3,
   "metadata": {},
   "outputs": [],
   "source": [
    "del dados['id_subsistema']\n",
    "del dados['id_estado']\n",
    "del dados['ceg']"
   ]
  },
  {
   "cell_type": "code",
   "execution_count": 4,
   "metadata": {},
   "outputs": [],
   "source": [
    "dados['din_instante'] = pd.to_datetime(dados['din_instante'],errors='coerce')\n"
   ]
  },
  {
   "cell_type": "code",
   "execution_count": 5,
   "metadata": {},
   "outputs": [],
   "source": [
    "dados = dados.rename(columns={'nom_tipocombustivel':'nom_tipo_combustivel'})"
   ]
  },
  {
   "cell_type": "markdown",
   "metadata": {},
   "source": [
    "### TABELAS DE DADOS 2001"
   ]
  },
  {
   "cell_type": "code",
   "execution_count": 6,
   "metadata": {},
   "outputs": [],
   "source": [
    "dados1 = pd.read_csv('GERACAO_USINA_2001.csv', sep=';', decimal='.')"
   ]
  },
  {
   "cell_type": "code",
   "execution_count": 7,
   "metadata": {},
   "outputs": [],
   "source": [
    "del dados1['id_subsistema']\n",
    "del dados1['id_estado']\n",
    "del dados1['ceg']"
   ]
  },
  {
   "cell_type": "code",
   "execution_count": 8,
   "metadata": {},
   "outputs": [],
   "source": [
    "dados1 = dados1.rename(columns={'nom_tipocombustivel':'nom_tipo_combustivel'})"
   ]
  },
  {
   "cell_type": "code",
   "execution_count": 9,
   "metadata": {},
   "outputs": [
    {
     "name": "stdout",
     "output_type": "stream",
     "text": [
      "<class 'pandas.core.frame.DataFrame'>\n",
      "RangeIndex: 1054365 entries, 0 to 1054364\n",
      "Data columns (total 8 columns):\n",
      " #   Column                  Non-Null Count    Dtype  \n",
      "---  ------                  --------------    -----  \n",
      " 0   din_instante            1054365 non-null  object \n",
      " 1   nom_subsistema          1054365 non-null  object \n",
      " 2   nom_estado              1054365 non-null  object \n",
      " 3   cod_modalidadeoperacao  1054365 non-null  object \n",
      " 4   nom_tipousina           1054365 non-null  object \n",
      " 5   nom_tipo_combustivel    1054365 non-null  object \n",
      " 6   nom_usina               1054365 non-null  object \n",
      " 7   val_geracao             1054365 non-null  float64\n",
      "dtypes: float64(1), object(7)\n",
      "memory usage: 64.4+ MB\n"
     ]
    }
   ],
   "source": [
    "dados1.info()"
   ]
  },
  {
   "cell_type": "markdown",
   "metadata": {},
   "source": [
    "### TABELAS DADOS 2002"
   ]
  },
  {
   "cell_type": "code",
   "execution_count": 10,
   "metadata": {},
   "outputs": [],
   "source": [
    "dados2 = pd.read_csv('GERACAO_USINA_2002.csv', sep=';', decimal='.')"
   ]
  },
  {
   "cell_type": "code",
   "execution_count": 11,
   "metadata": {},
   "outputs": [],
   "source": [
    "dados2 = dados2.rename(columns={'nom_tipocombustivel':'nom_tipo_combustivel'})"
   ]
  },
  {
   "cell_type": "code",
   "execution_count": 12,
   "metadata": {},
   "outputs": [
    {
     "data": {
      "text/html": [
       "<div>\n",
       "<style scoped>\n",
       "    .dataframe tbody tr th:only-of-type {\n",
       "        vertical-align: middle;\n",
       "    }\n",
       "\n",
       "    .dataframe tbody tr th {\n",
       "        vertical-align: top;\n",
       "    }\n",
       "\n",
       "    .dataframe thead th {\n",
       "        text-align: right;\n",
       "    }\n",
       "</style>\n",
       "<table border=\"1\" class=\"dataframe\">\n",
       "  <thead>\n",
       "    <tr style=\"text-align: right;\">\n",
       "      <th></th>\n",
       "      <th>din_instante</th>\n",
       "      <th>id_subsistema</th>\n",
       "      <th>nom_subsistema</th>\n",
       "      <th>id_estado</th>\n",
       "      <th>nom_estado</th>\n",
       "      <th>cod_modalidadeoperacao</th>\n",
       "      <th>nom_tipousina</th>\n",
       "      <th>nom_tipo_combustivel</th>\n",
       "      <th>nom_usina</th>\n",
       "      <th>ceg</th>\n",
       "      <th>val_geracao</th>\n",
       "    </tr>\n",
       "  </thead>\n",
       "  <tbody>\n",
       "    <tr>\n",
       "      <th>0</th>\n",
       "      <td>2002-01-01 00:00:00</td>\n",
       "      <td>N</td>\n",
       "      <td>NORTE</td>\n",
       "      <td>PA</td>\n",
       "      <td>PARA</td>\n",
       "      <td>TIPO I</td>\n",
       "      <td>HIDROELÉTRICA</td>\n",
       "      <td>Hidráulica</td>\n",
       "      <td>Tucuruí</td>\n",
       "      <td>UHE.PH.PA.002889-4.01</td>\n",
       "      <td>3309.1</td>\n",
       "    </tr>\n",
       "  </tbody>\n",
       "</table>\n",
       "</div>"
      ],
      "text/plain": [
       "          din_instante id_subsistema nom_subsistema id_estado nom_estado  \\\n",
       "0  2002-01-01 00:00:00             N          NORTE        PA       PARA   \n",
       "\n",
       "  cod_modalidadeoperacao  nom_tipousina nom_tipo_combustivel nom_usina  \\\n",
       "0                 TIPO I  HIDROELÉTRICA           Hidráulica   Tucuruí   \n",
       "\n",
       "                     ceg  val_geracao  \n",
       "0  UHE.PH.PA.002889-4.01       3309.1  "
      ]
     },
     "execution_count": 12,
     "metadata": {},
     "output_type": "execute_result"
    }
   ],
   "source": [
    "dados2.head(1)"
   ]
  },
  {
   "cell_type": "code",
   "execution_count": 13,
   "metadata": {},
   "outputs": [],
   "source": [
    "del dados2['id_subsistema']\n",
    "del dados2['id_estado']\n",
    "del dados2['ceg']"
   ]
  },
  {
   "cell_type": "code",
   "execution_count": 14,
   "metadata": {},
   "outputs": [
    {
     "name": "stdout",
     "output_type": "stream",
     "text": [
      "<class 'pandas.core.frame.DataFrame'>\n",
      "RangeIndex: 1423928 entries, 0 to 1423927\n",
      "Data columns (total 8 columns):\n",
      " #   Column                  Non-Null Count    Dtype  \n",
      "---  ------                  --------------    -----  \n",
      " 0   din_instante            1423928 non-null  object \n",
      " 1   nom_subsistema          1423928 non-null  object \n",
      " 2   nom_estado              1423928 non-null  object \n",
      " 3   cod_modalidadeoperacao  1423928 non-null  object \n",
      " 4   nom_tipousina           1423928 non-null  object \n",
      " 5   nom_tipo_combustivel    1423928 non-null  object \n",
      " 6   nom_usina               1423928 non-null  object \n",
      " 7   val_geracao             1423928 non-null  float64\n",
      "dtypes: float64(1), object(7)\n",
      "memory usage: 86.9+ MB\n"
     ]
    }
   ],
   "source": [
    "dados2.info()"
   ]
  },
  {
   "cell_type": "markdown",
   "metadata": {},
   "source": [
    "### TABELAS DADOS 2003"
   ]
  },
  {
   "cell_type": "code",
   "execution_count": 15,
   "metadata": {},
   "outputs": [],
   "source": [
    "dados3 = pd.read_csv('GERACAO_USINA_2003.csv', sep=';', decimal='.')"
   ]
  },
  {
   "cell_type": "code",
   "execution_count": 16,
   "metadata": {},
   "outputs": [],
   "source": [
    "dados3 = dados3.rename(columns={'nom_tipocombustivel':'nom_tipo_combustivel'})"
   ]
  },
  {
   "cell_type": "code",
   "execution_count": 17,
   "metadata": {},
   "outputs": [
    {
     "data": {
      "text/html": [
       "<div>\n",
       "<style scoped>\n",
       "    .dataframe tbody tr th:only-of-type {\n",
       "        vertical-align: middle;\n",
       "    }\n",
       "\n",
       "    .dataframe tbody tr th {\n",
       "        vertical-align: top;\n",
       "    }\n",
       "\n",
       "    .dataframe thead th {\n",
       "        text-align: right;\n",
       "    }\n",
       "</style>\n",
       "<table border=\"1\" class=\"dataframe\">\n",
       "  <thead>\n",
       "    <tr style=\"text-align: right;\">\n",
       "      <th></th>\n",
       "      <th>din_instante</th>\n",
       "      <th>id_subsistema</th>\n",
       "      <th>nom_subsistema</th>\n",
       "      <th>id_estado</th>\n",
       "      <th>nom_estado</th>\n",
       "      <th>cod_modalidadeoperacao</th>\n",
       "      <th>nom_tipousina</th>\n",
       "      <th>nom_tipo_combustivel</th>\n",
       "      <th>nom_usina</th>\n",
       "      <th>ceg</th>\n",
       "      <th>val_geracao</th>\n",
       "    </tr>\n",
       "  </thead>\n",
       "  <tbody>\n",
       "    <tr>\n",
       "      <th>0</th>\n",
       "      <td>2003-01-01 00:00:00</td>\n",
       "      <td>N</td>\n",
       "      <td>NORTE</td>\n",
       "      <td>PA</td>\n",
       "      <td>PARA</td>\n",
       "      <td>TIPO I</td>\n",
       "      <td>HIDROELÉTRICA</td>\n",
       "      <td>Hidráulica</td>\n",
       "      <td>Tucuruí</td>\n",
       "      <td>UHE.PH.PA.002889-4.01</td>\n",
       "      <td>2356.1</td>\n",
       "    </tr>\n",
       "  </tbody>\n",
       "</table>\n",
       "</div>"
      ],
      "text/plain": [
       "          din_instante id_subsistema nom_subsistema id_estado nom_estado  \\\n",
       "0  2003-01-01 00:00:00             N          NORTE        PA       PARA   \n",
       "\n",
       "  cod_modalidadeoperacao  nom_tipousina nom_tipo_combustivel nom_usina  \\\n",
       "0                 TIPO I  HIDROELÉTRICA           Hidráulica   Tucuruí   \n",
       "\n",
       "                     ceg  val_geracao  \n",
       "0  UHE.PH.PA.002889-4.01       2356.1  "
      ]
     },
     "execution_count": 17,
     "metadata": {},
     "output_type": "execute_result"
    }
   ],
   "source": [
    "dados3.head(1)"
   ]
  },
  {
   "cell_type": "code",
   "execution_count": 18,
   "metadata": {},
   "outputs": [],
   "source": [
    "del dados3['id_subsistema']\n",
    "del dados3['id_estado']\n",
    "del dados3['ceg']"
   ]
  },
  {
   "cell_type": "code",
   "execution_count": 19,
   "metadata": {},
   "outputs": [
    {
     "name": "stdout",
     "output_type": "stream",
     "text": [
      "<class 'pandas.core.frame.DataFrame'>\n",
      "RangeIndex: 1740448 entries, 0 to 1740447\n",
      "Data columns (total 8 columns):\n",
      " #   Column                  Dtype  \n",
      "---  ------                  -----  \n",
      " 0   din_instante            object \n",
      " 1   nom_subsistema          object \n",
      " 2   nom_estado              object \n",
      " 3   cod_modalidadeoperacao  object \n",
      " 4   nom_tipousina           object \n",
      " 5   nom_tipo_combustivel    object \n",
      " 6   nom_usina               object \n",
      " 7   val_geracao             float64\n",
      "dtypes: float64(1), object(7)\n",
      "memory usage: 106.2+ MB\n"
     ]
    }
   ],
   "source": [
    "dados3.info()"
   ]
  },
  {
   "cell_type": "markdown",
   "metadata": {},
   "source": [
    "### TABELAS DADOS 2004"
   ]
  },
  {
   "cell_type": "code",
   "execution_count": 20,
   "metadata": {},
   "outputs": [],
   "source": [
    "dados4 = pd.read_csv('GERACAO_USINA_2004.csv', sep=';', decimal='.')"
   ]
  },
  {
   "cell_type": "code",
   "execution_count": 21,
   "metadata": {},
   "outputs": [],
   "source": [
    "dados4 = dados4.rename(columns={'nom_tipocombustivel':'nom_tipo_combustivel'})"
   ]
  },
  {
   "cell_type": "code",
   "execution_count": 22,
   "metadata": {},
   "outputs": [
    {
     "data": {
      "text/html": [
       "<div>\n",
       "<style scoped>\n",
       "    .dataframe tbody tr th:only-of-type {\n",
       "        vertical-align: middle;\n",
       "    }\n",
       "\n",
       "    .dataframe tbody tr th {\n",
       "        vertical-align: top;\n",
       "    }\n",
       "\n",
       "    .dataframe thead th {\n",
       "        text-align: right;\n",
       "    }\n",
       "</style>\n",
       "<table border=\"1\" class=\"dataframe\">\n",
       "  <thead>\n",
       "    <tr style=\"text-align: right;\">\n",
       "      <th></th>\n",
       "      <th>din_instante</th>\n",
       "      <th>id_subsistema</th>\n",
       "      <th>nom_subsistema</th>\n",
       "      <th>id_estado</th>\n",
       "      <th>nom_estado</th>\n",
       "      <th>cod_modalidadeoperacao</th>\n",
       "      <th>nom_tipousina</th>\n",
       "      <th>nom_tipo_combustivel</th>\n",
       "      <th>nom_usina</th>\n",
       "      <th>ceg</th>\n",
       "      <th>val_geracao</th>\n",
       "    </tr>\n",
       "  </thead>\n",
       "  <tbody>\n",
       "    <tr>\n",
       "      <th>0</th>\n",
       "      <td>2004-01-01 00:00:00</td>\n",
       "      <td>N</td>\n",
       "      <td>NORTE</td>\n",
       "      <td>PA</td>\n",
       "      <td>PARA</td>\n",
       "      <td>TIPO I</td>\n",
       "      <td>HIDROELÉTRICA</td>\n",
       "      <td>Hidráulica</td>\n",
       "      <td>Curuá-Una</td>\n",
       "      <td>UHE.PH.PA.027130-6.01</td>\n",
       "      <td>12.0</td>\n",
       "    </tr>\n",
       "  </tbody>\n",
       "</table>\n",
       "</div>"
      ],
      "text/plain": [
       "          din_instante id_subsistema nom_subsistema id_estado nom_estado  \\\n",
       "0  2004-01-01 00:00:00             N          NORTE        PA       PARA   \n",
       "\n",
       "  cod_modalidadeoperacao  nom_tipousina nom_tipo_combustivel  nom_usina  \\\n",
       "0                 TIPO I  HIDROELÉTRICA           Hidráulica  Curuá-Una   \n",
       "\n",
       "                     ceg  val_geracao  \n",
       "0  UHE.PH.PA.027130-6.01         12.0  "
      ]
     },
     "execution_count": 22,
     "metadata": {},
     "output_type": "execute_result"
    }
   ],
   "source": [
    "dados4.head(1)"
   ]
  },
  {
   "cell_type": "code",
   "execution_count": 23,
   "metadata": {},
   "outputs": [],
   "source": [
    "del dados4['id_subsistema']\n",
    "del dados4['id_estado']\n",
    "del dados4['ceg']"
   ]
  },
  {
   "cell_type": "code",
   "execution_count": 24,
   "metadata": {},
   "outputs": [
    {
     "name": "stdout",
     "output_type": "stream",
     "text": [
      "<class 'pandas.core.frame.DataFrame'>\n",
      "RangeIndex: 1799984 entries, 0 to 1799983\n",
      "Data columns (total 8 columns):\n",
      " #   Column                  Dtype  \n",
      "---  ------                  -----  \n",
      " 0   din_instante            object \n",
      " 1   nom_subsistema          object \n",
      " 2   nom_estado              object \n",
      " 3   cod_modalidadeoperacao  object \n",
      " 4   nom_tipousina           object \n",
      " 5   nom_tipo_combustivel    object \n",
      " 6   nom_usina               object \n",
      " 7   val_geracao             float64\n",
      "dtypes: float64(1), object(7)\n",
      "memory usage: 109.9+ MB\n"
     ]
    }
   ],
   "source": [
    "dados4.info()"
   ]
  },
  {
   "cell_type": "markdown",
   "metadata": {},
   "source": [
    "### TABELAS DADOS 2005"
   ]
  },
  {
   "cell_type": "code",
   "execution_count": 25,
   "metadata": {},
   "outputs": [],
   "source": [
    "dados5 = pd.read_csv('GERACAO_USINA_2005.csv', sep=';', decimal='.')"
   ]
  },
  {
   "cell_type": "code",
   "execution_count": 26,
   "metadata": {},
   "outputs": [],
   "source": [
    "dados5 = dados5.rename(columns={'nom_tipocombustivel':'nom_tipo_combustivel'})"
   ]
  },
  {
   "cell_type": "code",
   "execution_count": 27,
   "metadata": {},
   "outputs": [
    {
     "data": {
      "text/html": [
       "<div>\n",
       "<style scoped>\n",
       "    .dataframe tbody tr th:only-of-type {\n",
       "        vertical-align: middle;\n",
       "    }\n",
       "\n",
       "    .dataframe tbody tr th {\n",
       "        vertical-align: top;\n",
       "    }\n",
       "\n",
       "    .dataframe thead th {\n",
       "        text-align: right;\n",
       "    }\n",
       "</style>\n",
       "<table border=\"1\" class=\"dataframe\">\n",
       "  <thead>\n",
       "    <tr style=\"text-align: right;\">\n",
       "      <th></th>\n",
       "      <th>din_instante</th>\n",
       "      <th>id_subsistema</th>\n",
       "      <th>nom_subsistema</th>\n",
       "      <th>id_estado</th>\n",
       "      <th>nom_estado</th>\n",
       "      <th>cod_modalidadeoperacao</th>\n",
       "      <th>nom_tipousina</th>\n",
       "      <th>nom_tipo_combustivel</th>\n",
       "      <th>nom_usina</th>\n",
       "      <th>ceg</th>\n",
       "      <th>val_geracao</th>\n",
       "    </tr>\n",
       "  </thead>\n",
       "  <tbody>\n",
       "    <tr>\n",
       "      <th>0</th>\n",
       "      <td>2005-01-01 00:00:00</td>\n",
       "      <td>N</td>\n",
       "      <td>NORTE</td>\n",
       "      <td>PA</td>\n",
       "      <td>PARA</td>\n",
       "      <td>TIPO I</td>\n",
       "      <td>HIDROELÉTRICA</td>\n",
       "      <td>Hidráulica</td>\n",
       "      <td>Tucuruí</td>\n",
       "      <td>UHE.PH.PA.002889-4.01</td>\n",
       "      <td>2234.7</td>\n",
       "    </tr>\n",
       "  </tbody>\n",
       "</table>\n",
       "</div>"
      ],
      "text/plain": [
       "          din_instante id_subsistema nom_subsistema id_estado nom_estado  \\\n",
       "0  2005-01-01 00:00:00             N          NORTE        PA       PARA   \n",
       "\n",
       "  cod_modalidadeoperacao  nom_tipousina nom_tipo_combustivel nom_usina  \\\n",
       "0                 TIPO I  HIDROELÉTRICA           Hidráulica   Tucuruí   \n",
       "\n",
       "                     ceg  val_geracao  \n",
       "0  UHE.PH.PA.002889-4.01       2234.7  "
      ]
     },
     "execution_count": 27,
     "metadata": {},
     "output_type": "execute_result"
    }
   ],
   "source": [
    "dados5.head(1)"
   ]
  },
  {
   "cell_type": "code",
   "execution_count": 28,
   "metadata": {},
   "outputs": [],
   "source": [
    "del dados5['id_subsistema']\n",
    "del dados5['id_estado']\n",
    "del dados5['ceg']"
   ]
  },
  {
   "cell_type": "code",
   "execution_count": 29,
   "metadata": {},
   "outputs": [
    {
     "name": "stdout",
     "output_type": "stream",
     "text": [
      "<class 'pandas.core.frame.DataFrame'>\n",
      "RangeIndex: 1762877 entries, 0 to 1762876\n",
      "Data columns (total 8 columns):\n",
      " #   Column                  Dtype  \n",
      "---  ------                  -----  \n",
      " 0   din_instante            object \n",
      " 1   nom_subsistema          object \n",
      " 2   nom_estado              object \n",
      " 3   cod_modalidadeoperacao  object \n",
      " 4   nom_tipousina           object \n",
      " 5   nom_tipo_combustivel    object \n",
      " 6   nom_usina               object \n",
      " 7   val_geracao             float64\n",
      "dtypes: float64(1), object(7)\n",
      "memory usage: 107.6+ MB\n"
     ]
    }
   ],
   "source": [
    "dados5.info()"
   ]
  },
  {
   "cell_type": "markdown",
   "metadata": {},
   "source": [
    "### TABELAS DADOS 2006"
   ]
  },
  {
   "cell_type": "code",
   "execution_count": 30,
   "metadata": {},
   "outputs": [],
   "source": [
    "dados6 = pd.read_csv('GERACAO_USINA_2006.csv', sep=';', decimal='.')"
   ]
  },
  {
   "cell_type": "code",
   "execution_count": 31,
   "metadata": {},
   "outputs": [],
   "source": [
    "dados6 = dados6.rename(columns={'nom_tipocombustivel':'nom_tipo_combustivel'})"
   ]
  },
  {
   "cell_type": "code",
   "execution_count": 32,
   "metadata": {},
   "outputs": [
    {
     "data": {
      "text/html": [
       "<div>\n",
       "<style scoped>\n",
       "    .dataframe tbody tr th:only-of-type {\n",
       "        vertical-align: middle;\n",
       "    }\n",
       "\n",
       "    .dataframe tbody tr th {\n",
       "        vertical-align: top;\n",
       "    }\n",
       "\n",
       "    .dataframe thead th {\n",
       "        text-align: right;\n",
       "    }\n",
       "</style>\n",
       "<table border=\"1\" class=\"dataframe\">\n",
       "  <thead>\n",
       "    <tr style=\"text-align: right;\">\n",
       "      <th></th>\n",
       "      <th>din_instante</th>\n",
       "      <th>id_subsistema</th>\n",
       "      <th>nom_subsistema</th>\n",
       "      <th>id_estado</th>\n",
       "      <th>nom_estado</th>\n",
       "      <th>cod_modalidadeoperacao</th>\n",
       "      <th>nom_tipousina</th>\n",
       "      <th>nom_tipo_combustivel</th>\n",
       "      <th>nom_usina</th>\n",
       "      <th>id_ons</th>\n",
       "      <th>ceg</th>\n",
       "      <th>val_geracao</th>\n",
       "    </tr>\n",
       "  </thead>\n",
       "  <tbody>\n",
       "    <tr>\n",
       "      <th>0</th>\n",
       "      <td>2006-01-01 00:00:00</td>\n",
       "      <td>N</td>\n",
       "      <td>NORTE</td>\n",
       "      <td>PA</td>\n",
       "      <td>PARA</td>\n",
       "      <td>TIPO I</td>\n",
       "      <td>HIDROELÉTRICA</td>\n",
       "      <td>Hidráulica</td>\n",
       "      <td>Tucuruí</td>\n",
       "      <td>PATU</td>\n",
       "      <td>UHE.PH.PA.002889-4.01</td>\n",
       "      <td>4613.86</td>\n",
       "    </tr>\n",
       "  </tbody>\n",
       "</table>\n",
       "</div>"
      ],
      "text/plain": [
       "          din_instante id_subsistema nom_subsistema id_estado nom_estado  \\\n",
       "0  2006-01-01 00:00:00             N          NORTE        PA       PARA   \n",
       "\n",
       "  cod_modalidadeoperacao  nom_tipousina nom_tipo_combustivel nom_usina id_ons  \\\n",
       "0                 TIPO I  HIDROELÉTRICA           Hidráulica   Tucuruí   PATU   \n",
       "\n",
       "                     ceg  val_geracao  \n",
       "0  UHE.PH.PA.002889-4.01      4613.86  "
      ]
     },
     "execution_count": 32,
     "metadata": {},
     "output_type": "execute_result"
    }
   ],
   "source": [
    "dados6.head(1)"
   ]
  },
  {
   "cell_type": "code",
   "execution_count": 33,
   "metadata": {},
   "outputs": [],
   "source": [
    "del dados6['id_subsistema']\n",
    "del dados6['id_estado']\n",
    "del dados6['ceg']\n",
    "del dados6['id_ons']"
   ]
  },
  {
   "cell_type": "code",
   "execution_count": 34,
   "metadata": {},
   "outputs": [
    {
     "name": "stdout",
     "output_type": "stream",
     "text": [
      "<class 'pandas.core.frame.DataFrame'>\n",
      "RangeIndex: 1456679 entries, 0 to 1456678\n",
      "Data columns (total 8 columns):\n",
      " #   Column                  Non-Null Count    Dtype  \n",
      "---  ------                  --------------    -----  \n",
      " 0   din_instante            1456679 non-null  object \n",
      " 1   nom_subsistema          1456679 non-null  object \n",
      " 2   nom_estado              1456679 non-null  object \n",
      " 3   cod_modalidadeoperacao  1456679 non-null  object \n",
      " 4   nom_tipousina           1456679 non-null  object \n",
      " 5   nom_tipo_combustivel    1456679 non-null  object \n",
      " 6   nom_usina               1456679 non-null  object \n",
      " 7   val_geracao             1456583 non-null  float64\n",
      "dtypes: float64(1), object(7)\n",
      "memory usage: 88.9+ MB\n"
     ]
    }
   ],
   "source": [
    "dados6.info()"
   ]
  },
  {
   "cell_type": "markdown",
   "metadata": {},
   "source": [
    "### TABELAS DADOS 2007"
   ]
  },
  {
   "cell_type": "code",
   "execution_count": 35,
   "metadata": {},
   "outputs": [],
   "source": [
    "dados7 = pd.read_csv('GERACAO_USINA_2007.csv', sep=';', decimal='.')"
   ]
  },
  {
   "cell_type": "code",
   "execution_count": 36,
   "metadata": {},
   "outputs": [],
   "source": [
    "dados7 = dados7.rename(columns={'nom_tipocombustivel':'nom_tipo_combustivel'})"
   ]
  },
  {
   "cell_type": "code",
   "execution_count": 37,
   "metadata": {},
   "outputs": [
    {
     "data": {
      "text/html": [
       "<div>\n",
       "<style scoped>\n",
       "    .dataframe tbody tr th:only-of-type {\n",
       "        vertical-align: middle;\n",
       "    }\n",
       "\n",
       "    .dataframe tbody tr th {\n",
       "        vertical-align: top;\n",
       "    }\n",
       "\n",
       "    .dataframe thead th {\n",
       "        text-align: right;\n",
       "    }\n",
       "</style>\n",
       "<table border=\"1\" class=\"dataframe\">\n",
       "  <thead>\n",
       "    <tr style=\"text-align: right;\">\n",
       "      <th></th>\n",
       "      <th>din_instante</th>\n",
       "      <th>id_subsistema</th>\n",
       "      <th>nom_subsistema</th>\n",
       "      <th>id_estado</th>\n",
       "      <th>nom_estado</th>\n",
       "      <th>cod_modalidadeoperacao</th>\n",
       "      <th>nom_tipousina</th>\n",
       "      <th>nom_tipo_combustivel</th>\n",
       "      <th>nom_usina</th>\n",
       "      <th>ceg</th>\n",
       "      <th>val_geracao</th>\n",
       "    </tr>\n",
       "  </thead>\n",
       "  <tbody>\n",
       "    <tr>\n",
       "      <th>0</th>\n",
       "      <td>2007-01-01 00:00:00</td>\n",
       "      <td>N</td>\n",
       "      <td>NORTE</td>\n",
       "      <td>PA</td>\n",
       "      <td>PARA</td>\n",
       "      <td>TIPO I</td>\n",
       "      <td>HIDROELÉTRICA</td>\n",
       "      <td>Hidráulica</td>\n",
       "      <td>Tucuruí</td>\n",
       "      <td>UHE.PH.PA.002889-4.01</td>\n",
       "      <td>2148.85</td>\n",
       "    </tr>\n",
       "  </tbody>\n",
       "</table>\n",
       "</div>"
      ],
      "text/plain": [
       "          din_instante id_subsistema nom_subsistema id_estado nom_estado  \\\n",
       "0  2007-01-01 00:00:00             N          NORTE        PA       PARA   \n",
       "\n",
       "  cod_modalidadeoperacao  nom_tipousina nom_tipo_combustivel nom_usina  \\\n",
       "0                 TIPO I  HIDROELÉTRICA           Hidráulica   Tucuruí   \n",
       "\n",
       "                     ceg  val_geracao  \n",
       "0  UHE.PH.PA.002889-4.01      2148.85  "
      ]
     },
     "execution_count": 37,
     "metadata": {},
     "output_type": "execute_result"
    }
   ],
   "source": [
    "dados7.head(1)"
   ]
  },
  {
   "cell_type": "code",
   "execution_count": 38,
   "metadata": {},
   "outputs": [],
   "source": [
    "del dados7['id_subsistema']\n",
    "del dados7['id_estado']\n",
    "del dados7['ceg']"
   ]
  },
  {
   "cell_type": "code",
   "execution_count": 39,
   "metadata": {},
   "outputs": [
    {
     "name": "stdout",
     "output_type": "stream",
     "text": [
      "<class 'pandas.core.frame.DataFrame'>\n",
      "RangeIndex: 1518067 entries, 0 to 1518066\n",
      "Data columns (total 8 columns):\n",
      " #   Column                  Non-Null Count    Dtype  \n",
      "---  ------                  --------------    -----  \n",
      " 0   din_instante            1518067 non-null  object \n",
      " 1   nom_subsistema          1518067 non-null  object \n",
      " 2   nom_estado              1518067 non-null  object \n",
      " 3   cod_modalidadeoperacao  1518067 non-null  object \n",
      " 4   nom_tipousina           1518067 non-null  object \n",
      " 5   nom_tipo_combustivel    1518067 non-null  object \n",
      " 6   nom_usina               1518067 non-null  object \n",
      " 7   val_geracao             1518067 non-null  float64\n",
      "dtypes: float64(1), object(7)\n",
      "memory usage: 92.7+ MB\n"
     ]
    }
   ],
   "source": [
    "dados7.info()"
   ]
  },
  {
   "cell_type": "markdown",
   "metadata": {},
   "source": [
    "### TABELAS DADOS 2008"
   ]
  },
  {
   "cell_type": "code",
   "execution_count": 40,
   "metadata": {},
   "outputs": [],
   "source": [
    "dados8 = pd.read_csv('GERACAO_USINA_2008.csv', sep=';', decimal='.')"
   ]
  },
  {
   "cell_type": "code",
   "execution_count": 41,
   "metadata": {},
   "outputs": [],
   "source": [
    "dados8 = dados8.rename(columns={'nom_tipocombustivel':'nom_tipo_combustivel'})"
   ]
  },
  {
   "cell_type": "code",
   "execution_count": 42,
   "metadata": {},
   "outputs": [
    {
     "data": {
      "text/html": [
       "<div>\n",
       "<style scoped>\n",
       "    .dataframe tbody tr th:only-of-type {\n",
       "        vertical-align: middle;\n",
       "    }\n",
       "\n",
       "    .dataframe tbody tr th {\n",
       "        vertical-align: top;\n",
       "    }\n",
       "\n",
       "    .dataframe thead th {\n",
       "        text-align: right;\n",
       "    }\n",
       "</style>\n",
       "<table border=\"1\" class=\"dataframe\">\n",
       "  <thead>\n",
       "    <tr style=\"text-align: right;\">\n",
       "      <th></th>\n",
       "      <th>din_instante</th>\n",
       "      <th>id_subsistema</th>\n",
       "      <th>nom_subsistema</th>\n",
       "      <th>id_estado</th>\n",
       "      <th>nom_estado</th>\n",
       "      <th>cod_modalidadeoperacao</th>\n",
       "      <th>nom_tipousina</th>\n",
       "      <th>nom_tipo_combustivel</th>\n",
       "      <th>nom_usina</th>\n",
       "      <th>ceg</th>\n",
       "      <th>val_geracao</th>\n",
       "    </tr>\n",
       "  </thead>\n",
       "  <tbody>\n",
       "    <tr>\n",
       "      <th>0</th>\n",
       "      <td>2008-01-01 00:00:00</td>\n",
       "      <td>N</td>\n",
       "      <td>NORTE</td>\n",
       "      <td>PA</td>\n",
       "      <td>PARA</td>\n",
       "      <td>TIPO I</td>\n",
       "      <td>HIDROELÉTRICA</td>\n",
       "      <td>Hidráulica</td>\n",
       "      <td>Curuá-Una</td>\n",
       "      <td>UHE.PH.PA.027130-6.01</td>\n",
       "      <td>18.0</td>\n",
       "    </tr>\n",
       "  </tbody>\n",
       "</table>\n",
       "</div>"
      ],
      "text/plain": [
       "          din_instante id_subsistema nom_subsistema id_estado nom_estado  \\\n",
       "0  2008-01-01 00:00:00             N          NORTE        PA       PARA   \n",
       "\n",
       "  cod_modalidadeoperacao  nom_tipousina nom_tipo_combustivel  nom_usina  \\\n",
       "0                 TIPO I  HIDROELÉTRICA           Hidráulica  Curuá-Una   \n",
       "\n",
       "                     ceg  val_geracao  \n",
       "0  UHE.PH.PA.027130-6.01         18.0  "
      ]
     },
     "execution_count": 42,
     "metadata": {},
     "output_type": "execute_result"
    }
   ],
   "source": [
    "dados8.head(1)"
   ]
  },
  {
   "cell_type": "code",
   "execution_count": 43,
   "metadata": {},
   "outputs": [],
   "source": [
    "del dados8['id_subsistema']\n",
    "del dados8['id_estado']\n",
    "del dados8['ceg']"
   ]
  },
  {
   "cell_type": "markdown",
   "metadata": {},
   "source": [
    "### TABELAS DADOS 2009"
   ]
  },
  {
   "cell_type": "code",
   "execution_count": 44,
   "metadata": {},
   "outputs": [],
   "source": [
    "dados9 = pd.read_csv('GERACAO_USINA_2009.csv', sep=';', decimal='.')"
   ]
  },
  {
   "cell_type": "code",
   "execution_count": 45,
   "metadata": {},
   "outputs": [],
   "source": [
    "dados9 = dados9.rename(columns={'nom_tipocombustivel':'nom_tipo_combustivel'})"
   ]
  },
  {
   "cell_type": "code",
   "execution_count": 46,
   "metadata": {},
   "outputs": [
    {
     "data": {
      "text/html": [
       "<div>\n",
       "<style scoped>\n",
       "    .dataframe tbody tr th:only-of-type {\n",
       "        vertical-align: middle;\n",
       "    }\n",
       "\n",
       "    .dataframe tbody tr th {\n",
       "        vertical-align: top;\n",
       "    }\n",
       "\n",
       "    .dataframe thead th {\n",
       "        text-align: right;\n",
       "    }\n",
       "</style>\n",
       "<table border=\"1\" class=\"dataframe\">\n",
       "  <thead>\n",
       "    <tr style=\"text-align: right;\">\n",
       "      <th></th>\n",
       "      <th>din_instante</th>\n",
       "      <th>id_subsistema</th>\n",
       "      <th>nom_subsistema</th>\n",
       "      <th>id_estado</th>\n",
       "      <th>nom_estado</th>\n",
       "      <th>cod_modalidadeoperacao</th>\n",
       "      <th>nom_tipousina</th>\n",
       "      <th>nom_tipo_combustivel</th>\n",
       "      <th>nom_usina</th>\n",
       "      <th>ceg</th>\n",
       "      <th>val_geracao</th>\n",
       "    </tr>\n",
       "  </thead>\n",
       "  <tbody>\n",
       "    <tr>\n",
       "      <th>0</th>\n",
       "      <td>2009-01-01 00:00:00</td>\n",
       "      <td>N</td>\n",
       "      <td>NORTE</td>\n",
       "      <td>PA</td>\n",
       "      <td>PARA</td>\n",
       "      <td>TIPO I</td>\n",
       "      <td>HIDROELÉTRICA</td>\n",
       "      <td>Hidráulica</td>\n",
       "      <td>Curuá-Una</td>\n",
       "      <td>UHE.PH.PA.027130-6.01</td>\n",
       "      <td>30.45</td>\n",
       "    </tr>\n",
       "  </tbody>\n",
       "</table>\n",
       "</div>"
      ],
      "text/plain": [
       "          din_instante id_subsistema nom_subsistema id_estado nom_estado  \\\n",
       "0  2009-01-01 00:00:00             N          NORTE        PA       PARA   \n",
       "\n",
       "  cod_modalidadeoperacao  nom_tipousina nom_tipo_combustivel  nom_usina  \\\n",
       "0                 TIPO I  HIDROELÉTRICA           Hidráulica  Curuá-Una   \n",
       "\n",
       "                     ceg  val_geracao  \n",
       "0  UHE.PH.PA.027130-6.01        30.45  "
      ]
     },
     "execution_count": 46,
     "metadata": {},
     "output_type": "execute_result"
    }
   ],
   "source": [
    "dados9.head(1)"
   ]
  },
  {
   "cell_type": "code",
   "execution_count": 47,
   "metadata": {},
   "outputs": [],
   "source": [
    "del dados9['id_subsistema']\n",
    "del dados9['id_estado']\n",
    "del dados9['ceg']"
   ]
  },
  {
   "cell_type": "code",
   "execution_count": 48,
   "metadata": {},
   "outputs": [
    {
     "name": "stdout",
     "output_type": "stream",
     "text": [
      "<class 'pandas.core.frame.DataFrame'>\n",
      "RangeIndex: 1806338 entries, 0 to 1806337\n",
      "Data columns (total 8 columns):\n",
      " #   Column                  Dtype  \n",
      "---  ------                  -----  \n",
      " 0   din_instante            object \n",
      " 1   nom_subsistema          object \n",
      " 2   nom_estado              object \n",
      " 3   cod_modalidadeoperacao  object \n",
      " 4   nom_tipousina           object \n",
      " 5   nom_tipo_combustivel    object \n",
      " 6   nom_usina               object \n",
      " 7   val_geracao             float64\n",
      "dtypes: float64(1), object(7)\n",
      "memory usage: 110.3+ MB\n"
     ]
    }
   ],
   "source": [
    "dados9.info()"
   ]
  },
  {
   "cell_type": "markdown",
   "metadata": {},
   "source": [
    "### TABELAS DADOS 2010"
   ]
  },
  {
   "cell_type": "code",
   "execution_count": 49,
   "metadata": {},
   "outputs": [],
   "source": [
    "dados10 = pd.read_csv('GERACAO_USINA_2010.csv', sep=';', decimal='.')"
   ]
  },
  {
   "cell_type": "code",
   "execution_count": 50,
   "metadata": {},
   "outputs": [],
   "source": [
    "dados10 = dados10.rename(columns={'nom_tipocombustivel':'nom_tipo_combustivel'})"
   ]
  },
  {
   "cell_type": "code",
   "execution_count": 51,
   "metadata": {},
   "outputs": [
    {
     "data": {
      "text/html": [
       "<div>\n",
       "<style scoped>\n",
       "    .dataframe tbody tr th:only-of-type {\n",
       "        vertical-align: middle;\n",
       "    }\n",
       "\n",
       "    .dataframe tbody tr th {\n",
       "        vertical-align: top;\n",
       "    }\n",
       "\n",
       "    .dataframe thead th {\n",
       "        text-align: right;\n",
       "    }\n",
       "</style>\n",
       "<table border=\"1\" class=\"dataframe\">\n",
       "  <thead>\n",
       "    <tr style=\"text-align: right;\">\n",
       "      <th></th>\n",
       "      <th>din_instante</th>\n",
       "      <th>id_subsistema</th>\n",
       "      <th>nom_subsistema</th>\n",
       "      <th>id_estado</th>\n",
       "      <th>nom_estado</th>\n",
       "      <th>cod_modalidadeoperacao</th>\n",
       "      <th>nom_tipousina</th>\n",
       "      <th>nom_tipo_combustivel</th>\n",
       "      <th>nom_usina</th>\n",
       "      <th>ceg</th>\n",
       "      <th>val_geracao</th>\n",
       "    </tr>\n",
       "  </thead>\n",
       "  <tbody>\n",
       "    <tr>\n",
       "      <th>0</th>\n",
       "      <td>2010-01-01 00:00:00</td>\n",
       "      <td>N</td>\n",
       "      <td>NORTE</td>\n",
       "      <td>MA</td>\n",
       "      <td>MARANHAO</td>\n",
       "      <td>TIPO I</td>\n",
       "      <td>TÉRMICA</td>\n",
       "      <td>Óleo Combustível</td>\n",
       "      <td>Geramar I</td>\n",
       "      <td>UTE.PE.MA.029705-4.01</td>\n",
       "      <td>0.0</td>\n",
       "    </tr>\n",
       "  </tbody>\n",
       "</table>\n",
       "</div>"
      ],
      "text/plain": [
       "          din_instante id_subsistema nom_subsistema id_estado nom_estado  \\\n",
       "0  2010-01-01 00:00:00             N          NORTE        MA   MARANHAO   \n",
       "\n",
       "  cod_modalidadeoperacao nom_tipousina nom_tipo_combustivel  nom_usina  \\\n",
       "0                 TIPO I       TÉRMICA     Óleo Combustível  Geramar I   \n",
       "\n",
       "                     ceg  val_geracao  \n",
       "0  UTE.PE.MA.029705-4.01          0.0  "
      ]
     },
     "execution_count": 51,
     "metadata": {},
     "output_type": "execute_result"
    }
   ],
   "source": [
    "dados10.head(1)"
   ]
  },
  {
   "cell_type": "code",
   "execution_count": 52,
   "metadata": {},
   "outputs": [],
   "source": [
    "del dados10['id_subsistema']\n",
    "del dados10['id_estado']\n",
    "del dados10['ceg']"
   ]
  },
  {
   "cell_type": "code",
   "execution_count": 53,
   "metadata": {},
   "outputs": [
    {
     "name": "stdout",
     "output_type": "stream",
     "text": [
      "<class 'pandas.core.frame.DataFrame'>\n",
      "RangeIndex: 2084541 entries, 0 to 2084540\n",
      "Data columns (total 8 columns):\n",
      " #   Column                  Dtype  \n",
      "---  ------                  -----  \n",
      " 0   din_instante            object \n",
      " 1   nom_subsistema          object \n",
      " 2   nom_estado              object \n",
      " 3   cod_modalidadeoperacao  object \n",
      " 4   nom_tipousina           object \n",
      " 5   nom_tipo_combustivel    object \n",
      " 6   nom_usina               object \n",
      " 7   val_geracao             float64\n",
      "dtypes: float64(1), object(7)\n",
      "memory usage: 127.2+ MB\n"
     ]
    }
   ],
   "source": [
    "dados10.info()"
   ]
  },
  {
   "cell_type": "markdown",
   "metadata": {},
   "source": [
    "### TABELAS DADOS 2011"
   ]
  },
  {
   "cell_type": "code",
   "execution_count": 54,
   "metadata": {},
   "outputs": [],
   "source": [
    "dados11 = pd.read_csv('GERACAO_USINA_2011.csv', sep=';', decimal='.')"
   ]
  },
  {
   "cell_type": "code",
   "execution_count": 55,
   "metadata": {},
   "outputs": [],
   "source": [
    "dados11 = dados11.rename(columns={'nom_tipocombustivel':'nom_tipo_combustivel'})"
   ]
  },
  {
   "cell_type": "code",
   "execution_count": 56,
   "metadata": {},
   "outputs": [
    {
     "data": {
      "text/html": [
       "<div>\n",
       "<style scoped>\n",
       "    .dataframe tbody tr th:only-of-type {\n",
       "        vertical-align: middle;\n",
       "    }\n",
       "\n",
       "    .dataframe tbody tr th {\n",
       "        vertical-align: top;\n",
       "    }\n",
       "\n",
       "    .dataframe thead th {\n",
       "        text-align: right;\n",
       "    }\n",
       "</style>\n",
       "<table border=\"1\" class=\"dataframe\">\n",
       "  <thead>\n",
       "    <tr style=\"text-align: right;\">\n",
       "      <th></th>\n",
       "      <th>din_instante</th>\n",
       "      <th>id_subsistema</th>\n",
       "      <th>nom_subsistema</th>\n",
       "      <th>id_estado</th>\n",
       "      <th>nom_estado</th>\n",
       "      <th>cod_modalidadeoperacao</th>\n",
       "      <th>nom_tipousina</th>\n",
       "      <th>nom_tipo_combustivel</th>\n",
       "      <th>nom_usina</th>\n",
       "      <th>ceg</th>\n",
       "      <th>val_geracao</th>\n",
       "    </tr>\n",
       "  </thead>\n",
       "  <tbody>\n",
       "    <tr>\n",
       "      <th>0</th>\n",
       "      <td>2011-01-01 00:00:00</td>\n",
       "      <td>N</td>\n",
       "      <td>NORTE</td>\n",
       "      <td>MA</td>\n",
       "      <td>MARANHAO</td>\n",
       "      <td>TIPO I</td>\n",
       "      <td>TÉRMICA</td>\n",
       "      <td>Óleo Combustível</td>\n",
       "      <td>Geramar II</td>\n",
       "      <td>UTE.PE.MA.029668-6.01</td>\n",
       "      <td>0.0</td>\n",
       "    </tr>\n",
       "  </tbody>\n",
       "</table>\n",
       "</div>"
      ],
      "text/plain": [
       "          din_instante id_subsistema nom_subsistema id_estado nom_estado  \\\n",
       "0  2011-01-01 00:00:00             N          NORTE        MA   MARANHAO   \n",
       "\n",
       "  cod_modalidadeoperacao nom_tipousina nom_tipo_combustivel   nom_usina  \\\n",
       "0                 TIPO I       TÉRMICA     Óleo Combustível  Geramar II   \n",
       "\n",
       "                     ceg  val_geracao  \n",
       "0  UTE.PE.MA.029668-6.01          0.0  "
      ]
     },
     "execution_count": 56,
     "metadata": {},
     "output_type": "execute_result"
    }
   ],
   "source": [
    "dados11.head(1)"
   ]
  },
  {
   "cell_type": "code",
   "execution_count": 57,
   "metadata": {},
   "outputs": [],
   "source": [
    "del dados11['id_subsistema']\n",
    "del dados11['id_estado']\n",
    "del dados11['ceg']"
   ]
  },
  {
   "cell_type": "code",
   "execution_count": 58,
   "metadata": {},
   "outputs": [
    {
     "name": "stdout",
     "output_type": "stream",
     "text": [
      "<class 'pandas.core.frame.DataFrame'>\n",
      "RangeIndex: 2310919 entries, 0 to 2310918\n",
      "Data columns (total 8 columns):\n",
      " #   Column                  Dtype  \n",
      "---  ------                  -----  \n",
      " 0   din_instante            object \n",
      " 1   nom_subsistema          object \n",
      " 2   nom_estado              object \n",
      " 3   cod_modalidadeoperacao  object \n",
      " 4   nom_tipousina           object \n",
      " 5   nom_tipo_combustivel    object \n",
      " 6   nom_usina               object \n",
      " 7   val_geracao             float64\n",
      "dtypes: float64(1), object(7)\n",
      "memory usage: 141.0+ MB\n"
     ]
    }
   ],
   "source": [
    "dados11.info()"
   ]
  },
  {
   "cell_type": "markdown",
   "metadata": {},
   "source": [
    "### TABELAS DADOS 2012"
   ]
  },
  {
   "cell_type": "code",
   "execution_count": 59,
   "metadata": {},
   "outputs": [],
   "source": [
    "dados12 = pd.read_csv('GERACAO_USINA_2012.csv', sep=';', decimal='.')"
   ]
  },
  {
   "cell_type": "code",
   "execution_count": 60,
   "metadata": {},
   "outputs": [],
   "source": [
    "dados12 = dados12.rename(columns={'nom_tipocombustivel':'nom_tipo_combustivel'})"
   ]
  },
  {
   "cell_type": "code",
   "execution_count": 61,
   "metadata": {},
   "outputs": [
    {
     "data": {
      "text/html": [
       "<div>\n",
       "<style scoped>\n",
       "    .dataframe tbody tr th:only-of-type {\n",
       "        vertical-align: middle;\n",
       "    }\n",
       "\n",
       "    .dataframe tbody tr th {\n",
       "        vertical-align: top;\n",
       "    }\n",
       "\n",
       "    .dataframe thead th {\n",
       "        text-align: right;\n",
       "    }\n",
       "</style>\n",
       "<table border=\"1\" class=\"dataframe\">\n",
       "  <thead>\n",
       "    <tr style=\"text-align: right;\">\n",
       "      <th></th>\n",
       "      <th>din_instante</th>\n",
       "      <th>id_subsistema</th>\n",
       "      <th>nom_subsistema</th>\n",
       "      <th>id_estado</th>\n",
       "      <th>nom_estado</th>\n",
       "      <th>cod_modalidadeoperacao</th>\n",
       "      <th>nom_tipousina</th>\n",
       "      <th>nom_tipo_combustivel</th>\n",
       "      <th>nom_usina</th>\n",
       "      <th>ceg</th>\n",
       "      <th>val_geracao</th>\n",
       "    </tr>\n",
       "  </thead>\n",
       "  <tbody>\n",
       "    <tr>\n",
       "      <th>0</th>\n",
       "      <td>2012-01-01 00:00:00</td>\n",
       "      <td>N</td>\n",
       "      <td>NORTE</td>\n",
       "      <td>MA</td>\n",
       "      <td>MARANHAO</td>\n",
       "      <td>TIPO I</td>\n",
       "      <td>HIDROELÉTRICA</td>\n",
       "      <td>Hidráulica</td>\n",
       "      <td>Estreito</td>\n",
       "      <td>UHE.PH.MA.028863-2.01</td>\n",
       "      <td>543.29</td>\n",
       "    </tr>\n",
       "  </tbody>\n",
       "</table>\n",
       "</div>"
      ],
      "text/plain": [
       "          din_instante id_subsistema nom_subsistema id_estado nom_estado  \\\n",
       "0  2012-01-01 00:00:00             N          NORTE        MA   MARANHAO   \n",
       "\n",
       "  cod_modalidadeoperacao  nom_tipousina nom_tipo_combustivel nom_usina  \\\n",
       "0                 TIPO I  HIDROELÉTRICA           Hidráulica  Estreito   \n",
       "\n",
       "                     ceg  val_geracao  \n",
       "0  UHE.PH.MA.028863-2.01       543.29  "
      ]
     },
     "execution_count": 61,
     "metadata": {},
     "output_type": "execute_result"
    }
   ],
   "source": [
    "dados12.head(1)"
   ]
  },
  {
   "cell_type": "code",
   "execution_count": 62,
   "metadata": {},
   "outputs": [],
   "source": [
    "del dados12['id_subsistema']\n",
    "del dados12['id_estado']\n",
    "del dados12['ceg']"
   ]
  },
  {
   "cell_type": "code",
   "execution_count": 63,
   "metadata": {},
   "outputs": [
    {
     "name": "stdout",
     "output_type": "stream",
     "text": [
      "<class 'pandas.core.frame.DataFrame'>\n",
      "RangeIndex: 2651207 entries, 0 to 2651206\n",
      "Data columns (total 8 columns):\n",
      " #   Column                  Dtype  \n",
      "---  ------                  -----  \n",
      " 0   din_instante            object \n",
      " 1   nom_subsistema          object \n",
      " 2   nom_estado              object \n",
      " 3   cod_modalidadeoperacao  object \n",
      " 4   nom_tipousina           object \n",
      " 5   nom_tipo_combustivel    object \n",
      " 6   nom_usina               object \n",
      " 7   val_geracao             float64\n",
      "dtypes: float64(1), object(7)\n",
      "memory usage: 161.8+ MB\n"
     ]
    }
   ],
   "source": [
    "dados12.info()"
   ]
  },
  {
   "cell_type": "markdown",
   "metadata": {},
   "source": [
    "### TABELAS DADOS 2013"
   ]
  },
  {
   "cell_type": "code",
   "execution_count": 64,
   "metadata": {},
   "outputs": [],
   "source": [
    "dados13 = pd.read_csv('GERACAO_USINA_2013.csv', sep=';', decimal='.')"
   ]
  },
  {
   "cell_type": "code",
   "execution_count": 65,
   "metadata": {},
   "outputs": [],
   "source": [
    "dados13 = dados13.rename(columns={'nom_tipocombustivel':'nom_tipo_combustivel'})"
   ]
  },
  {
   "cell_type": "code",
   "execution_count": 66,
   "metadata": {},
   "outputs": [
    {
     "data": {
      "text/html": [
       "<div>\n",
       "<style scoped>\n",
       "    .dataframe tbody tr th:only-of-type {\n",
       "        vertical-align: middle;\n",
       "    }\n",
       "\n",
       "    .dataframe tbody tr th {\n",
       "        vertical-align: top;\n",
       "    }\n",
       "\n",
       "    .dataframe thead th {\n",
       "        text-align: right;\n",
       "    }\n",
       "</style>\n",
       "<table border=\"1\" class=\"dataframe\">\n",
       "  <thead>\n",
       "    <tr style=\"text-align: right;\">\n",
       "      <th></th>\n",
       "      <th>din_instante</th>\n",
       "      <th>id_subsistema</th>\n",
       "      <th>nom_subsistema</th>\n",
       "      <th>id_estado</th>\n",
       "      <th>nom_estado</th>\n",
       "      <th>cod_modalidadeoperacao</th>\n",
       "      <th>nom_tipousina</th>\n",
       "      <th>nom_tipo_combustivel</th>\n",
       "      <th>nom_usina</th>\n",
       "      <th>ceg</th>\n",
       "      <th>val_geracao</th>\n",
       "    </tr>\n",
       "  </thead>\n",
       "  <tbody>\n",
       "    <tr>\n",
       "      <th>0</th>\n",
       "      <td>2013-01-01 00:00:00</td>\n",
       "      <td>N</td>\n",
       "      <td>NORTE</td>\n",
       "      <td>MA</td>\n",
       "      <td>MARANHAO</td>\n",
       "      <td>TIPO I</td>\n",
       "      <td>HIDROELÉTRICA</td>\n",
       "      <td>Hidráulica</td>\n",
       "      <td>Estreito</td>\n",
       "      <td>UHE.PH.MA.028863-2.01</td>\n",
       "      <td>475.59</td>\n",
       "    </tr>\n",
       "  </tbody>\n",
       "</table>\n",
       "</div>"
      ],
      "text/plain": [
       "          din_instante id_subsistema nom_subsistema id_estado nom_estado  \\\n",
       "0  2013-01-01 00:00:00             N          NORTE        MA   MARANHAO   \n",
       "\n",
       "  cod_modalidadeoperacao  nom_tipousina nom_tipo_combustivel nom_usina  \\\n",
       "0                 TIPO I  HIDROELÉTRICA           Hidráulica  Estreito   \n",
       "\n",
       "                     ceg  val_geracao  \n",
       "0  UHE.PH.MA.028863-2.01       475.59  "
      ]
     },
     "execution_count": 66,
     "metadata": {},
     "output_type": "execute_result"
    }
   ],
   "source": [
    "dados13.head(1)"
   ]
  },
  {
   "cell_type": "code",
   "execution_count": 67,
   "metadata": {},
   "outputs": [],
   "source": [
    "del dados13['id_subsistema']\n",
    "del dados13['id_estado']\n",
    "del dados13['ceg']"
   ]
  },
  {
   "cell_type": "code",
   "execution_count": 68,
   "metadata": {},
   "outputs": [
    {
     "name": "stdout",
     "output_type": "stream",
     "text": [
      "<class 'pandas.core.frame.DataFrame'>\n",
      "RangeIndex: 2964021 entries, 0 to 2964020\n",
      "Data columns (total 8 columns):\n",
      " #   Column                  Dtype  \n",
      "---  ------                  -----  \n",
      " 0   din_instante            object \n",
      " 1   nom_subsistema          object \n",
      " 2   nom_estado              object \n",
      " 3   cod_modalidadeoperacao  object \n",
      " 4   nom_tipousina           object \n",
      " 5   nom_tipo_combustivel    object \n",
      " 6   nom_usina               object \n",
      " 7   val_geracao             float64\n",
      "dtypes: float64(1), object(7)\n",
      "memory usage: 180.9+ MB\n"
     ]
    }
   ],
   "source": [
    "dados13.info()"
   ]
  },
  {
   "cell_type": "markdown",
   "metadata": {},
   "source": [
    "### TABELAS DADOS 2014"
   ]
  },
  {
   "cell_type": "code",
   "execution_count": 69,
   "metadata": {},
   "outputs": [],
   "source": [
    "dados14 = pd.read_csv('GERACAO_USINA_2014.csv', sep=';', decimal='.')"
   ]
  },
  {
   "cell_type": "code",
   "execution_count": 70,
   "metadata": {},
   "outputs": [],
   "source": [
    "dados14 = dados14.rename(columns={'nom_tipocombustivel':'nom_tipo_combustivel'})"
   ]
  },
  {
   "cell_type": "code",
   "execution_count": 71,
   "metadata": {},
   "outputs": [
    {
     "data": {
      "text/html": [
       "<div>\n",
       "<style scoped>\n",
       "    .dataframe tbody tr th:only-of-type {\n",
       "        vertical-align: middle;\n",
       "    }\n",
       "\n",
       "    .dataframe tbody tr th {\n",
       "        vertical-align: top;\n",
       "    }\n",
       "\n",
       "    .dataframe thead th {\n",
       "        text-align: right;\n",
       "    }\n",
       "</style>\n",
       "<table border=\"1\" class=\"dataframe\">\n",
       "  <thead>\n",
       "    <tr style=\"text-align: right;\">\n",
       "      <th></th>\n",
       "      <th>din_instante</th>\n",
       "      <th>id_subsistema</th>\n",
       "      <th>nom_subsistema</th>\n",
       "      <th>id_estado</th>\n",
       "      <th>nom_estado</th>\n",
       "      <th>cod_modalidadeoperacao</th>\n",
       "      <th>nom_tipousina</th>\n",
       "      <th>nom_tipo_combustivel</th>\n",
       "      <th>nom_usina</th>\n",
       "      <th>ceg</th>\n",
       "      <th>val_geracao</th>\n",
       "    </tr>\n",
       "  </thead>\n",
       "  <tbody>\n",
       "    <tr>\n",
       "      <th>0</th>\n",
       "      <td>2014-01-01 00:00:00</td>\n",
       "      <td>N</td>\n",
       "      <td>NORTE</td>\n",
       "      <td>AM</td>\n",
       "      <td>AMAZONAS</td>\n",
       "      <td>TIPO I</td>\n",
       "      <td>HIDROELÉTRICA</td>\n",
       "      <td>Hidráulica</td>\n",
       "      <td>Balbina</td>\n",
       "      <td>UHE.PH.AM.000190-2.01</td>\n",
       "      <td>122.83</td>\n",
       "    </tr>\n",
       "  </tbody>\n",
       "</table>\n",
       "</div>"
      ],
      "text/plain": [
       "          din_instante id_subsistema nom_subsistema id_estado nom_estado  \\\n",
       "0  2014-01-01 00:00:00             N          NORTE        AM   AMAZONAS   \n",
       "\n",
       "  cod_modalidadeoperacao  nom_tipousina nom_tipo_combustivel nom_usina  \\\n",
       "0                 TIPO I  HIDROELÉTRICA           Hidráulica   Balbina   \n",
       "\n",
       "                     ceg  val_geracao  \n",
       "0  UHE.PH.AM.000190-2.01       122.83  "
      ]
     },
     "execution_count": 71,
     "metadata": {},
     "output_type": "execute_result"
    }
   ],
   "source": [
    "dados14.head(1)"
   ]
  },
  {
   "cell_type": "code",
   "execution_count": 72,
   "metadata": {},
   "outputs": [],
   "source": [
    "del dados14['id_subsistema']\n",
    "del dados14['id_estado']\n",
    "del dados14['ceg']"
   ]
  },
  {
   "cell_type": "code",
   "execution_count": 73,
   "metadata": {},
   "outputs": [
    {
     "name": "stdout",
     "output_type": "stream",
     "text": [
      "<class 'pandas.core.frame.DataFrame'>\n",
      "RangeIndex: 3522817 entries, 0 to 3522816\n",
      "Data columns (total 8 columns):\n",
      " #   Column                  Dtype  \n",
      "---  ------                  -----  \n",
      " 0   din_instante            object \n",
      " 1   nom_subsistema          object \n",
      " 2   nom_estado              object \n",
      " 3   cod_modalidadeoperacao  object \n",
      " 4   nom_tipousina           object \n",
      " 5   nom_tipo_combustivel    object \n",
      " 6   nom_usina               object \n",
      " 7   val_geracao             float64\n",
      "dtypes: float64(1), object(7)\n",
      "memory usage: 215.0+ MB\n"
     ]
    }
   ],
   "source": [
    "dados14.info()\n"
   ]
  },
  {
   "cell_type": "markdown",
   "metadata": {},
   "source": [
    "### TABELAS DADOS 2015"
   ]
  },
  {
   "cell_type": "code",
   "execution_count": 74,
   "metadata": {},
   "outputs": [],
   "source": [
    "dados15 = pd.read_csv('GERACAO_USINA_2015.csv', sep=';', decimal='.')"
   ]
  },
  {
   "cell_type": "code",
   "execution_count": 75,
   "metadata": {},
   "outputs": [],
   "source": [
    "dados15 = dados15.rename(columns={'nom_tipocombustivel':'nom_tipo_combustivel'})"
   ]
  },
  {
   "cell_type": "code",
   "execution_count": 76,
   "metadata": {},
   "outputs": [
    {
     "data": {
      "text/html": [
       "<div>\n",
       "<style scoped>\n",
       "    .dataframe tbody tr th:only-of-type {\n",
       "        vertical-align: middle;\n",
       "    }\n",
       "\n",
       "    .dataframe tbody tr th {\n",
       "        vertical-align: top;\n",
       "    }\n",
       "\n",
       "    .dataframe thead th {\n",
       "        text-align: right;\n",
       "    }\n",
       "</style>\n",
       "<table border=\"1\" class=\"dataframe\">\n",
       "  <thead>\n",
       "    <tr style=\"text-align: right;\">\n",
       "      <th></th>\n",
       "      <th>din_instante</th>\n",
       "      <th>id_subsistema</th>\n",
       "      <th>nom_subsistema</th>\n",
       "      <th>id_estado</th>\n",
       "      <th>nom_estado</th>\n",
       "      <th>cod_modalidadeoperacao</th>\n",
       "      <th>nom_tipousina</th>\n",
       "      <th>nom_tipo_combustivel</th>\n",
       "      <th>nom_usina</th>\n",
       "      <th>ceg</th>\n",
       "      <th>val_geracao</th>\n",
       "    </tr>\n",
       "  </thead>\n",
       "  <tbody>\n",
       "    <tr>\n",
       "      <th>0</th>\n",
       "      <td>2015-01-01 00:00:00</td>\n",
       "      <td>N</td>\n",
       "      <td>NORTE</td>\n",
       "      <td>AM</td>\n",
       "      <td>AMAZONAS</td>\n",
       "      <td>TIPO I</td>\n",
       "      <td>HIDROELÉTRICA</td>\n",
       "      <td>Hidráulica</td>\n",
       "      <td>Balbina</td>\n",
       "      <td>UHE.PH.AM.000190-2.01</td>\n",
       "      <td>76.616</td>\n",
       "    </tr>\n",
       "  </tbody>\n",
       "</table>\n",
       "</div>"
      ],
      "text/plain": [
       "          din_instante id_subsistema nom_subsistema id_estado nom_estado  \\\n",
       "0  2015-01-01 00:00:00             N          NORTE        AM   AMAZONAS   \n",
       "\n",
       "  cod_modalidadeoperacao  nom_tipousina nom_tipo_combustivel nom_usina  \\\n",
       "0                 TIPO I  HIDROELÉTRICA           Hidráulica   Balbina   \n",
       "\n",
       "                     ceg  val_geracao  \n",
       "0  UHE.PH.AM.000190-2.01       76.616  "
      ]
     },
     "execution_count": 76,
     "metadata": {},
     "output_type": "execute_result"
    }
   ],
   "source": [
    "dados15.head(1)"
   ]
  },
  {
   "cell_type": "code",
   "execution_count": 77,
   "metadata": {},
   "outputs": [],
   "source": [
    "del dados15['id_subsistema']\n",
    "del dados15['id_estado']\n",
    "del dados15['ceg']"
   ]
  },
  {
   "cell_type": "code",
   "execution_count": 78,
   "metadata": {},
   "outputs": [
    {
     "name": "stdout",
     "output_type": "stream",
     "text": [
      "<class 'pandas.core.frame.DataFrame'>\n",
      "RangeIndex: 3966455 entries, 0 to 3966454\n",
      "Data columns (total 8 columns):\n",
      " #   Column                  Dtype  \n",
      "---  ------                  -----  \n",
      " 0   din_instante            object \n",
      " 1   nom_subsistema          object \n",
      " 2   nom_estado              object \n",
      " 3   cod_modalidadeoperacao  object \n",
      " 4   nom_tipousina           object \n",
      " 5   nom_tipo_combustivel    object \n",
      " 6   nom_usina               object \n",
      " 7   val_geracao             float64\n",
      "dtypes: float64(1), object(7)\n",
      "memory usage: 242.1+ MB\n"
     ]
    }
   ],
   "source": [
    "dados15.info()"
   ]
  },
  {
   "cell_type": "markdown",
   "metadata": {},
   "source": [
    "### TABELAS DADOS 2016"
   ]
  },
  {
   "cell_type": "code",
   "execution_count": 79,
   "metadata": {},
   "outputs": [],
   "source": [
    "dados16 = pd.read_csv('GERACAO_USINA_2016.csv', sep=';', decimal='.')"
   ]
  },
  {
   "cell_type": "code",
   "execution_count": 80,
   "metadata": {},
   "outputs": [],
   "source": [
    "dados16 = dados16.rename(columns={'nom_tipocombustivel':'nom_tipo_combustivel'})"
   ]
  },
  {
   "cell_type": "code",
   "execution_count": 81,
   "metadata": {},
   "outputs": [
    {
     "data": {
      "text/html": [
       "<div>\n",
       "<style scoped>\n",
       "    .dataframe tbody tr th:only-of-type {\n",
       "        vertical-align: middle;\n",
       "    }\n",
       "\n",
       "    .dataframe tbody tr th {\n",
       "        vertical-align: top;\n",
       "    }\n",
       "\n",
       "    .dataframe thead th {\n",
       "        text-align: right;\n",
       "    }\n",
       "</style>\n",
       "<table border=\"1\" class=\"dataframe\">\n",
       "  <thead>\n",
       "    <tr style=\"text-align: right;\">\n",
       "      <th></th>\n",
       "      <th>din_instante</th>\n",
       "      <th>id_subsistema</th>\n",
       "      <th>nom_subsistema</th>\n",
       "      <th>id_estado</th>\n",
       "      <th>nom_estado</th>\n",
       "      <th>cod_modalidadeoperacao</th>\n",
       "      <th>nom_tipousina</th>\n",
       "      <th>nom_tipo_combustivel</th>\n",
       "      <th>nom_usina</th>\n",
       "      <th>ceg</th>\n",
       "      <th>val_geracao</th>\n",
       "    </tr>\n",
       "  </thead>\n",
       "  <tbody>\n",
       "    <tr>\n",
       "      <th>0</th>\n",
       "      <td>2016-01-01 00:00:00</td>\n",
       "      <td>N</td>\n",
       "      <td>NORTE</td>\n",
       "      <td>AM</td>\n",
       "      <td>AMAZONAS</td>\n",
       "      <td>TIPO I</td>\n",
       "      <td>HIDROELÉTRICA</td>\n",
       "      <td>Hidráulica</td>\n",
       "      <td>Balbina</td>\n",
       "      <td>UHE.PH.AM.000190-2.01</td>\n",
       "      <td>61.247</td>\n",
       "    </tr>\n",
       "  </tbody>\n",
       "</table>\n",
       "</div>"
      ],
      "text/plain": [
       "          din_instante id_subsistema nom_subsistema id_estado nom_estado  \\\n",
       "0  2016-01-01 00:00:00             N          NORTE        AM   AMAZONAS   \n",
       "\n",
       "  cod_modalidadeoperacao  nom_tipousina nom_tipo_combustivel nom_usina  \\\n",
       "0                 TIPO I  HIDROELÉTRICA           Hidráulica   Balbina   \n",
       "\n",
       "                     ceg  val_geracao  \n",
       "0  UHE.PH.AM.000190-2.01       61.247  "
      ]
     },
     "execution_count": 81,
     "metadata": {},
     "output_type": "execute_result"
    }
   ],
   "source": [
    "dados16.head(1)"
   ]
  },
  {
   "cell_type": "code",
   "execution_count": 82,
   "metadata": {},
   "outputs": [],
   "source": [
    "del dados16['id_subsistema']\n",
    "del dados16['id_estado']\n",
    "del dados16['ceg']"
   ]
  },
  {
   "cell_type": "code",
   "execution_count": 83,
   "metadata": {},
   "outputs": [
    {
     "name": "stdout",
     "output_type": "stream",
     "text": [
      "<class 'pandas.core.frame.DataFrame'>\n",
      "RangeIndex: 4206299 entries, 0 to 4206298\n",
      "Data columns (total 8 columns):\n",
      " #   Column                  Dtype  \n",
      "---  ------                  -----  \n",
      " 0   din_instante            object \n",
      " 1   nom_subsistema          object \n",
      " 2   nom_estado              object \n",
      " 3   cod_modalidadeoperacao  object \n",
      " 4   nom_tipousina           object \n",
      " 5   nom_tipo_combustivel    object \n",
      " 6   nom_usina               object \n",
      " 7   val_geracao             float64\n",
      "dtypes: float64(1), object(7)\n",
      "memory usage: 256.7+ MB\n"
     ]
    }
   ],
   "source": [
    "dados16.info()"
   ]
  },
  {
   "cell_type": "markdown",
   "metadata": {},
   "source": [
    "### TABELAS DADOS 2017"
   ]
  },
  {
   "cell_type": "code",
   "execution_count": 84,
   "metadata": {},
   "outputs": [],
   "source": [
    "dados17 = pd.read_csv('GERACAO_USINA_2017.csv', sep=';', decimal='.')"
   ]
  },
  {
   "cell_type": "code",
   "execution_count": 85,
   "metadata": {},
   "outputs": [],
   "source": [
    "dados17 = dados17.rename(columns={'nom_tipocombustivel':'nom_tipo_combustivel'})"
   ]
  },
  {
   "cell_type": "code",
   "execution_count": 86,
   "metadata": {},
   "outputs": [
    {
     "data": {
      "text/html": [
       "<div>\n",
       "<style scoped>\n",
       "    .dataframe tbody tr th:only-of-type {\n",
       "        vertical-align: middle;\n",
       "    }\n",
       "\n",
       "    .dataframe tbody tr th {\n",
       "        vertical-align: top;\n",
       "    }\n",
       "\n",
       "    .dataframe thead th {\n",
       "        text-align: right;\n",
       "    }\n",
       "</style>\n",
       "<table border=\"1\" class=\"dataframe\">\n",
       "  <thead>\n",
       "    <tr style=\"text-align: right;\">\n",
       "      <th></th>\n",
       "      <th>din_instante</th>\n",
       "      <th>id_subsistema</th>\n",
       "      <th>nom_subsistema</th>\n",
       "      <th>id_estado</th>\n",
       "      <th>nom_estado</th>\n",
       "      <th>cod_modalidadeoperacao</th>\n",
       "      <th>nom_tipousina</th>\n",
       "      <th>nom_tipo_combustivel</th>\n",
       "      <th>nom_usina</th>\n",
       "      <th>ceg</th>\n",
       "      <th>val_geracao</th>\n",
       "    </tr>\n",
       "  </thead>\n",
       "  <tbody>\n",
       "    <tr>\n",
       "      <th>0</th>\n",
       "      <td>2017-01-01 00:00:00</td>\n",
       "      <td>N</td>\n",
       "      <td>NORTE</td>\n",
       "      <td>AM</td>\n",
       "      <td>AMAZONAS</td>\n",
       "      <td>TIPO I</td>\n",
       "      <td>HIDROELÉTRICA</td>\n",
       "      <td>Hidráulica</td>\n",
       "      <td>Balbina</td>\n",
       "      <td>UHE.PH.AM.000190-2.01</td>\n",
       "      <td>61.024</td>\n",
       "    </tr>\n",
       "  </tbody>\n",
       "</table>\n",
       "</div>"
      ],
      "text/plain": [
       "          din_instante id_subsistema nom_subsistema id_estado nom_estado  \\\n",
       "0  2017-01-01 00:00:00             N          NORTE        AM   AMAZONAS   \n",
       "\n",
       "  cod_modalidadeoperacao  nom_tipousina nom_tipo_combustivel nom_usina  \\\n",
       "0                 TIPO I  HIDROELÉTRICA           Hidráulica   Balbina   \n",
       "\n",
       "                     ceg  val_geracao  \n",
       "0  UHE.PH.AM.000190-2.01       61.024  "
      ]
     },
     "execution_count": 86,
     "metadata": {},
     "output_type": "execute_result"
    }
   ],
   "source": [
    "dados17.head(1)"
   ]
  },
  {
   "cell_type": "code",
   "execution_count": 87,
   "metadata": {},
   "outputs": [],
   "source": [
    "del dados17['id_subsistema']\n",
    "del dados17['id_estado']\n",
    "del dados17['ceg']"
   ]
  },
  {
   "cell_type": "code",
   "execution_count": 88,
   "metadata": {},
   "outputs": [
    {
     "name": "stdout",
     "output_type": "stream",
     "text": [
      "<class 'pandas.core.frame.DataFrame'>\n",
      "RangeIndex: 4212102 entries, 0 to 4212101\n",
      "Data columns (total 8 columns):\n",
      " #   Column                  Dtype  \n",
      "---  ------                  -----  \n",
      " 0   din_instante            object \n",
      " 1   nom_subsistema          object \n",
      " 2   nom_estado              object \n",
      " 3   cod_modalidadeoperacao  object \n",
      " 4   nom_tipousina           object \n",
      " 5   nom_tipo_combustivel    object \n",
      " 6   nom_usina               object \n",
      " 7   val_geracao             float64\n",
      "dtypes: float64(1), object(7)\n",
      "memory usage: 257.1+ MB\n"
     ]
    }
   ],
   "source": [
    "dados17.info()"
   ]
  },
  {
   "cell_type": "markdown",
   "metadata": {},
   "source": [
    "### TABELAS DADOS 2018"
   ]
  },
  {
   "cell_type": "code",
   "execution_count": 89,
   "metadata": {},
   "outputs": [],
   "source": [
    "dados18 = pd.read_csv('GERACAO_USINA_2018.csv', sep=';', decimal='.')"
   ]
  },
  {
   "cell_type": "code",
   "execution_count": 90,
   "metadata": {},
   "outputs": [],
   "source": [
    "dados18 = dados18.rename(columns={'nom_tipocombustivel':'nom_tipo_combustivel'})"
   ]
  },
  {
   "cell_type": "code",
   "execution_count": 91,
   "metadata": {},
   "outputs": [
    {
     "data": {
      "text/html": [
       "<div>\n",
       "<style scoped>\n",
       "    .dataframe tbody tr th:only-of-type {\n",
       "        vertical-align: middle;\n",
       "    }\n",
       "\n",
       "    .dataframe tbody tr th {\n",
       "        vertical-align: top;\n",
       "    }\n",
       "\n",
       "    .dataframe thead th {\n",
       "        text-align: right;\n",
       "    }\n",
       "</style>\n",
       "<table border=\"1\" class=\"dataframe\">\n",
       "  <thead>\n",
       "    <tr style=\"text-align: right;\">\n",
       "      <th></th>\n",
       "      <th>din_instante</th>\n",
       "      <th>id_subsistema</th>\n",
       "      <th>nom_subsistema</th>\n",
       "      <th>id_estado</th>\n",
       "      <th>nom_estado</th>\n",
       "      <th>cod_modalidadeoperacao</th>\n",
       "      <th>nom_tipousina</th>\n",
       "      <th>nom_tipo_combustivel</th>\n",
       "      <th>nom_usina</th>\n",
       "      <th>ceg</th>\n",
       "      <th>val_geracao</th>\n",
       "    </tr>\n",
       "  </thead>\n",
       "  <tbody>\n",
       "    <tr>\n",
       "      <th>0</th>\n",
       "      <td>2018-01-01 00:00:00</td>\n",
       "      <td>N</td>\n",
       "      <td>NORTE</td>\n",
       "      <td>AM</td>\n",
       "      <td>AMAZONAS</td>\n",
       "      <td>TIPO I</td>\n",
       "      <td>HIDROELÉTRICA</td>\n",
       "      <td>Hidráulica</td>\n",
       "      <td>Balbina</td>\n",
       "      <td>UHE.PH.AM.000190-2.01</td>\n",
       "      <td>123.301</td>\n",
       "    </tr>\n",
       "  </tbody>\n",
       "</table>\n",
       "</div>"
      ],
      "text/plain": [
       "          din_instante id_subsistema nom_subsistema id_estado nom_estado  \\\n",
       "0  2018-01-01 00:00:00             N          NORTE        AM   AMAZONAS   \n",
       "\n",
       "  cod_modalidadeoperacao  nom_tipousina nom_tipo_combustivel nom_usina  \\\n",
       "0                 TIPO I  HIDROELÉTRICA           Hidráulica   Balbina   \n",
       "\n",
       "                     ceg  val_geracao  \n",
       "0  UHE.PH.AM.000190-2.01      123.301  "
      ]
     },
     "execution_count": 91,
     "metadata": {},
     "output_type": "execute_result"
    }
   ],
   "source": [
    "dados18.head(1)"
   ]
  },
  {
   "cell_type": "code",
   "execution_count": 92,
   "metadata": {},
   "outputs": [],
   "source": [
    "del dados18['id_subsistema']\n",
    "del dados18['id_estado']\n",
    "del dados18['ceg']"
   ]
  },
  {
   "cell_type": "code",
   "execution_count": 93,
   "metadata": {},
   "outputs": [
    {
     "name": "stdout",
     "output_type": "stream",
     "text": [
      "<class 'pandas.core.frame.DataFrame'>\n",
      "RangeIndex: 4288656 entries, 0 to 4288655\n",
      "Data columns (total 8 columns):\n",
      " #   Column                  Dtype  \n",
      "---  ------                  -----  \n",
      " 0   din_instante            object \n",
      " 1   nom_subsistema          object \n",
      " 2   nom_estado              object \n",
      " 3   cod_modalidadeoperacao  object \n",
      " 4   nom_tipousina           object \n",
      " 5   nom_tipo_combustivel    object \n",
      " 6   nom_usina               object \n",
      " 7   val_geracao             float64\n",
      "dtypes: float64(1), object(7)\n",
      "memory usage: 261.8+ MB\n"
     ]
    }
   ],
   "source": [
    "dados18.info()"
   ]
  },
  {
   "cell_type": "markdown",
   "metadata": {},
   "source": [
    "### FAZENDO A JUNÇÃO DAS TABELAS"
   ]
  },
  {
   "cell_type": "code",
   "execution_count": 94,
   "metadata": {},
   "outputs": [],
   "source": [
    "tabelas_mescladas = pd.concat([dados, dados1,dados2,dados3,dados4,dados5,dados6,dados7,dados8,dados9,dados10,dados11,dados12,dados13,dados14,dados15,\n",
    "\n",
    "dados16,dados17,dados18])"
   ]
  },
  {
   "cell_type": "code",
   "execution_count": 95,
   "metadata": {},
   "outputs": [
    {
     "data": {
      "text/plain": [
       "(45461857, 8)"
      ]
     },
     "execution_count": 95,
     "metadata": {},
     "output_type": "execute_result"
    }
   ],
   "source": [
    "tabelas_mescladas.shape"
   ]
  },
  {
   "cell_type": "code",
   "execution_count": 96,
   "metadata": {},
   "outputs": [
    {
     "data": {
      "text/html": [
       "<div>\n",
       "<style scoped>\n",
       "    .dataframe tbody tr th:only-of-type {\n",
       "        vertical-align: middle;\n",
       "    }\n",
       "\n",
       "    .dataframe tbody tr th {\n",
       "        vertical-align: top;\n",
       "    }\n",
       "\n",
       "    .dataframe thead th {\n",
       "        text-align: right;\n",
       "    }\n",
       "</style>\n",
       "<table border=\"1\" class=\"dataframe\">\n",
       "  <thead>\n",
       "    <tr style=\"text-align: right;\">\n",
       "      <th></th>\n",
       "      <th>din_instante</th>\n",
       "      <th>nom_subsistema</th>\n",
       "      <th>nom_estado</th>\n",
       "      <th>cod_modalidadeoperacao</th>\n",
       "      <th>nom_tipousina</th>\n",
       "      <th>nom_tipo_combustivel</th>\n",
       "      <th>nom_usina</th>\n",
       "      <th>val_geracao</th>\n",
       "    </tr>\n",
       "  </thead>\n",
       "  <tbody>\n",
       "    <tr>\n",
       "      <th>0</th>\n",
       "      <td>2000-01-01 00:00:00</td>\n",
       "      <td>NORTE</td>\n",
       "      <td>PARA</td>\n",
       "      <td>TIPO I</td>\n",
       "      <td>HIDROELÉTRICA</td>\n",
       "      <td>Hidráulica</td>\n",
       "      <td>Tucuruí</td>\n",
       "      <td>242.250.000.000</td>\n",
       "    </tr>\n",
       "  </tbody>\n",
       "</table>\n",
       "</div>"
      ],
      "text/plain": [
       "          din_instante nom_subsistema nom_estado cod_modalidadeoperacao  \\\n",
       "0  2000-01-01 00:00:00          NORTE       PARA                 TIPO I   \n",
       "\n",
       "   nom_tipousina nom_tipo_combustivel nom_usina      val_geracao  \n",
       "0  HIDROELÉTRICA           Hidráulica   Tucuruí  242.250.000.000  "
      ]
     },
     "execution_count": 96,
     "metadata": {},
     "output_type": "execute_result"
    }
   ],
   "source": [
    "tabelas_mescladas.head(1)"
   ]
  },
  {
   "cell_type": "markdown",
   "metadata": {},
   "source": [
    "# ANÁLISE EXPLORATÓRIA"
   ]
  },
  {
   "cell_type": "markdown",
   "metadata": {},
   "source": [
    "### CONVERTENDO A VARIAVÉIS"
   ]
  },
  {
   "cell_type": "code",
   "execution_count": 97,
   "metadata": {},
   "outputs": [
    {
     "name": "stdout",
     "output_type": "stream",
     "text": [
      "<class 'pandas.core.frame.DataFrame'>\n",
      "Index: 45461857 entries, 0 to 4288655\n",
      "Data columns (total 8 columns):\n",
      " #   Column                  Dtype \n",
      "---  ------                  ----- \n",
      " 0   din_instante            object\n",
      " 1   nom_subsistema          object\n",
      " 2   nom_estado              object\n",
      " 3   cod_modalidadeoperacao  object\n",
      " 4   nom_tipousina           object\n",
      " 5   nom_tipo_combustivel    object\n",
      " 6   nom_usina               object\n",
      " 7   val_geracao             object\n",
      "dtypes: object(8)\n",
      "memory usage: 3.0+ GB\n"
     ]
    }
   ],
   "source": [
    "tabelas_mescladas.info()"
   ]
  },
  {
   "cell_type": "code",
   "execution_count": 98,
   "metadata": {},
   "outputs": [],
   "source": [
    "tabelas_mescladas['val_geracao'] = pd.to_numeric(tabelas_mescladas['val_geracao'], errors='coerce')"
   ]
  },
  {
   "cell_type": "code",
   "execution_count": 99,
   "metadata": {},
   "outputs": [],
   "source": [
    "tabelas_mescladas['din_instante'] = pd.to_datetime(tabelas_mescladas['din_instante'], format='%Y-%m-%d %H:%M:%S')"
   ]
  },
  {
   "cell_type": "markdown",
   "metadata": {},
   "source": [
    "### VERIFICANDO SE HÁ VALORES NULOS E DUPLICADOS"
   ]
  },
  {
   "cell_type": "code",
   "execution_count": 100,
   "metadata": {},
   "outputs": [
    {
     "data": {
      "text/plain": [
       "din_instante              1.326651\n",
       "nom_subsistema            0.000000\n",
       "nom_estado                0.000000\n",
       "cod_modalidadeoperacao    0.000053\n",
       "nom_tipousina             0.000000\n",
       "nom_tipo_combustivel      0.000000\n",
       "nom_usina                 0.000000\n",
       "val_geracao               2.473049\n",
       "dtype: float64"
      ]
     },
     "execution_count": 100,
     "metadata": {},
     "output_type": "execute_result"
    }
   ],
   "source": [
    "(tabelas_mescladas.isnull().sum() / len(tabelas_mescladas['val_geracao']))*100"
   ]
  },
  {
   "cell_type": "code",
   "execution_count": 101,
   "metadata": {},
   "outputs": [
    {
     "data": {
      "text/plain": [
       "609324"
      ]
     },
     "execution_count": 101,
     "metadata": {},
     "output_type": "execute_result"
    }
   ],
   "source": [
    "tabelas_mescladas.duplicated().sum()"
   ]
  },
  {
   "cell_type": "markdown",
   "metadata": {},
   "source": [
    "### EXCLUIDO OS VALORES NULOS E DUPLICADOS"
   ]
  },
  {
   "cell_type": "code",
   "execution_count": 102,
   "metadata": {},
   "outputs": [],
   "source": [
    "tabelas_mescladas = tabelas_mescladas.dropna()"
   ]
  },
  {
   "cell_type": "code",
   "execution_count": 103,
   "metadata": {},
   "outputs": [],
   "source": [
    "tabelas_mescladas = tabelas_mescladas.drop_duplicates()"
   ]
  },
  {
   "cell_type": "code",
   "execution_count": 104,
   "metadata": {},
   "outputs": [
    {
     "data": {
      "text/html": [
       "<div>\n",
       "<style scoped>\n",
       "    .dataframe tbody tr th:only-of-type {\n",
       "        vertical-align: middle;\n",
       "    }\n",
       "\n",
       "    .dataframe tbody tr th {\n",
       "        vertical-align: top;\n",
       "    }\n",
       "\n",
       "    .dataframe thead th {\n",
       "        text-align: right;\n",
       "    }\n",
       "</style>\n",
       "<table border=\"1\" class=\"dataframe\">\n",
       "  <thead>\n",
       "    <tr style=\"text-align: right;\">\n",
       "      <th></th>\n",
       "      <th>din_instante</th>\n",
       "      <th>nom_subsistema</th>\n",
       "      <th>nom_estado</th>\n",
       "      <th>cod_modalidadeoperacao</th>\n",
       "      <th>nom_tipousina</th>\n",
       "      <th>nom_tipo_combustivel</th>\n",
       "      <th>nom_usina</th>\n",
       "      <th>val_geracao</th>\n",
       "    </tr>\n",
       "  </thead>\n",
       "  <tbody>\n",
       "    <tr>\n",
       "      <th>7063</th>\n",
       "      <td>2000-03-01 15:00:00</td>\n",
       "      <td>SUDESTE</td>\n",
       "      <td>RIO DE JANEIRO</td>\n",
       "      <td>TIPO I</td>\n",
       "      <td>HIDROELÉTRICA</td>\n",
       "      <td>Hidráulica</td>\n",
       "      <td>Funil (Paraíba do Sul)</td>\n",
       "      <td>0.4</td>\n",
       "    </tr>\n",
       "  </tbody>\n",
       "</table>\n",
       "</div>"
      ],
      "text/plain": [
       "            din_instante nom_subsistema      nom_estado  \\\n",
       "7063 2000-03-01 15:00:00        SUDESTE  RIO DE JANEIRO   \n",
       "\n",
       "     cod_modalidadeoperacao  nom_tipousina nom_tipo_combustivel  \\\n",
       "7063                 TIPO I  HIDROELÉTRICA           Hidráulica   \n",
       "\n",
       "                   nom_usina  val_geracao  \n",
       "7063  Funil (Paraíba do Sul)          0.4  "
      ]
     },
     "execution_count": 104,
     "metadata": {},
     "output_type": "execute_result"
    }
   ],
   "source": [
    "tabelas_mescladas.head(1)"
   ]
  },
  {
   "cell_type": "code",
   "execution_count": 105,
   "metadata": {},
   "outputs": [
    {
     "name": "stdout",
     "output_type": "stream",
     "text": [
      "<class 'pandas.core.frame.DataFrame'>\n",
      "Index: 44330795 entries, 7063 to 4288655\n",
      "Data columns (total 8 columns):\n",
      " #   Column                  Dtype         \n",
      "---  ------                  -----         \n",
      " 0   din_instante            datetime64[ns]\n",
      " 1   nom_subsistema          object        \n",
      " 2   nom_estado              object        \n",
      " 3   cod_modalidadeoperacao  object        \n",
      " 4   nom_tipousina           object        \n",
      " 5   nom_tipo_combustivel    object        \n",
      " 6   nom_usina               object        \n",
      " 7   val_geracao             float64       \n",
      "dtypes: datetime64[ns](1), float64(1), object(6)\n",
      "memory usage: 3.0+ GB\n"
     ]
    }
   ],
   "source": [
    "tabelas_mescladas.info()"
   ]
  },
  {
   "cell_type": "markdown",
   "metadata": {},
   "source": [
    "### ESTATÍSTICA"
   ]
  },
  {
   "cell_type": "code",
   "execution_count": 106,
   "metadata": {},
   "outputs": [
    {
     "data": {
      "text/plain": [
       "count    4.433080e+07\n",
       "mean     1.865227e+02\n",
       "std      5.468172e+02\n",
       "min      0.000000e+00\n",
       "25%      0.000000e+00\n",
       "50%      3.464100e+01\n",
       "75%      1.281890e+02\n",
       "max      7.979900e+03\n",
       "Name: val_geracao, dtype: float64"
      ]
     },
     "execution_count": 106,
     "metadata": {},
     "output_type": "execute_result"
    }
   ],
   "source": [
    "tabelas_mescladas['val_geracao'].describe()"
   ]
  },
  {
   "cell_type": "markdown",
   "metadata": {},
   "source": [
    "### MODA"
   ]
  },
  {
   "cell_type": "code",
   "execution_count": 107,
   "metadata": {},
   "outputs": [
    {
     "data": {
      "text/plain": [
       "0.0"
      ]
     },
     "execution_count": 107,
     "metadata": {},
     "output_type": "execute_result"
    }
   ],
   "source": [
    "from statistics import mode\n",
    "\n",
    "mode(tabelas_mescladas['val_geracao'])"
   ]
  },
  {
   "cell_type": "markdown",
   "metadata": {},
   "source": [
    "### ASSIMETRIA"
   ]
  },
  {
   "cell_type": "code",
   "execution_count": 108,
   "metadata": {},
   "outputs": [
    {
     "data": {
      "text/plain": [
       "6.924930222691951"
      ]
     },
     "execution_count": 108,
     "metadata": {},
     "output_type": "execute_result"
    }
   ],
   "source": [
    "tabelas_mescladas['val_geracao'].skew()"
   ]
  },
  {
   "cell_type": "markdown",
   "metadata": {},
   "source": [
    "### CURTOSE"
   ]
  },
  {
   "cell_type": "code",
   "execution_count": 109,
   "metadata": {},
   "outputs": [
    {
     "data": {
      "text/plain": [
       "59.74601355306659"
      ]
     },
     "execution_count": 109,
     "metadata": {},
     "output_type": "execute_result"
    }
   ],
   "source": [
    "tabelas_mescladas['val_geracao'].kurt()"
   ]
  },
  {
   "cell_type": "markdown",
   "metadata": {},
   "source": [
    "### HISTOGRAMA"
   ]
  },
  {
   "cell_type": "code",
   "execution_count": 110,
   "metadata": {},
   "outputs": [
    {
     "data": {
      "text/plain": [
       "<Axes: >"
      ]
     },
     "execution_count": 110,
     "metadata": {},
     "output_type": "execute_result"
    },
    {
     "data": {
      "image/png": "[encoded data removed]",
      "text/plain": [
       "<Figure size 640x480 with 1 Axes>"
      ]
     },
     "metadata": {},
     "output_type": "display_data"
    }
   ],
   "source": [
    "tabelas_mescladas['val_geracao'].hist()"
   ]
  },
  {
   "cell_type": "markdown",
   "metadata": {},
   "source": [
    "## verificação de outliers "
   ]
  },
  {
   "cell_type": "code",
   "execution_count": 111,
   "metadata": {},
   "outputs": [
    {
     "name": "stdout",
     "output_type": "stream",
     "text": [
      "val_geracao : float64\n"
     ]
    },
    {
     "data": {
      "image/png": "[encoded data removed]",
      "text/plain": [
       "<Figure size 1400x1000 with 4 Axes>"
      ]
     },
     "metadata": {},
     "output_type": "display_data"
    }
   ],
   "source": [
    "variaveis_numericas = []\n",
    "for i in tabelas_mescladas.columns[0:16].tolist():\n",
    "        if tabelas_mescladas.dtypes[i] == 'int64' or tabelas_mescladas.dtypes[i] == 'float64':            \n",
    "            print(i, ':' , tabelas_mescladas.dtypes[i]) \n",
    "            variaveis_numericas.append(i)\n",
    " \n",
    "    \n",
    "    \n",
    "    \n",
    "plt.rcParams[\"figure.figsize\"] = [14.00, 10.00]\n",
    "plt.rcParams[\"figure.autolayout\"] = True\n",
    "\n",
    "plt.rcParams['font.size'] = 10 \n",
    "plt.rcParams['axes.titlesize'] = 20\n",
    "\n",
    "f, axes = plt.subplots(2, 2) #8 linhas e 4 colunas\n",
    "\n",
    "linha = 0\n",
    "coluna = 0\n",
    "for i in variaveis_numericas:\n",
    "    sns.boxplot(data = tabelas_mescladas, y=i, ax=axes[linha][coluna])\n",
    "    coluna += 1\n",
    "    if coluna == 3:\n",
    "        linha += 1\n",
    "        coluna = 0            \n"
   ]
  },
  {
   "cell_type": "markdown",
   "metadata": {},
   "source": [
    "### valores unicos em cada variavel"
   ]
  },
  {
   "cell_type": "code",
   "execution_count": 112,
   "metadata": {},
   "outputs": [
    {
     "name": "stdout",
     "output_type": "stream",
     "text": [
      "din_instante : 157946\n",
      "nom_subsistema : 5\n",
      "nom_estado : 27\n",
      "cod_modalidadeoperacao : 7\n",
      "nom_tipousina : 6\n",
      "nom_tipo_combustivel : 10\n",
      "nom_usina : 668\n",
      "val_geracao : 1818758\n"
     ]
    }
   ],
   "source": [
    "valores_unicos = []\n",
    "for i in tabelas_mescladas.columns[0:8].tolist():\n",
    "    print(i, ':', len(tabelas_mescladas[i].astype(str).value_counts()))\n",
    "    valores_unicos.append(len(tabelas_mescladas[i].astype(str).value_counts()))"
   ]
  },
  {
   "cell_type": "markdown",
   "metadata": {},
   "source": [
    "### VERIFICANDO AS CORRELÇÕES DAS VARIAVÉIS"
   ]
  },
  {
   "cell_type": "markdown",
   "metadata": {},
   "source": [
    "**AQUI ESTOU CRIANDO UMA COPIA DA BASE DE DADOS PARA CONVERTER AS VARIAVÍS STRING EM VALORES NÚMERICOS PARA A REALIZAÇÃO DA CORRELAÇÃO LINEAR QUE SO FAZEM CORRELAÇÕES COM VALORES NÚMERICOS**"
   ]
  },
  {
   "cell_type": "code",
   "execution_count": 113,
   "metadata": {},
   "outputs": [],
   "source": [
    "Nova_tabela = tabelas_mescladas[['din_instante', 'nom_subsistema', 'nom_estado','cod_modalidadeoperacao','nom_tipousina','nom_tipo_combustivel', 'nom_usina', 'val_geracao']].copy()\n"
   ]
  },
  {
   "cell_type": "code",
   "execution_count": 114,
   "metadata": {},
   "outputs": [
    {
     "data": {
      "text/plain": [
       "(44330795, 8)"
      ]
     },
     "execution_count": 114,
     "metadata": {},
     "output_type": "execute_result"
    }
   ],
   "source": [
    "Nova_tabela.shape"
   ]
  },
  {
   "cell_type": "code",
   "execution_count": 115,
   "metadata": {},
   "outputs": [
    {
     "name": "stdout",
     "output_type": "stream",
     "text": [
      "<class 'pandas.core.frame.DataFrame'>\n",
      "Index: 44330795 entries, 7063 to 4288655\n",
      "Data columns (total 8 columns):\n",
      " #   Column                  Dtype         \n",
      "---  ------                  -----         \n",
      " 0   din_instante            datetime64[ns]\n",
      " 1   nom_subsistema          object        \n",
      " 2   nom_estado              object        \n",
      " 3   cod_modalidadeoperacao  object        \n",
      " 4   nom_tipousina           object        \n",
      " 5   nom_tipo_combustivel    object        \n",
      " 6   nom_usina               object        \n",
      " 7   val_geracao             float64       \n",
      "dtypes: datetime64[ns](1), float64(1), object(6)\n",
      "memory usage: 3.0+ GB\n"
     ]
    }
   ],
   "source": [
    "Nova_tabela.info(1)"
   ]
  },
  {
   "cell_type": "code",
   "execution_count": 116,
   "metadata": {},
   "outputs": [],
   "source": [
    "lb = LabelEncoder()\n",
    "\n",
    "# Aplica o encoder nas variáveis que estão com string\n",
    "Nova_tabela['nom_subsistema'] = lb.fit_transform(Nova_tabela['nom_subsistema'])\n",
    "Nova_tabela['nom_estado'] = lb.fit_transform(Nova_tabela['nom_estado'])\n",
    "Nova_tabela['nom_tipousina'] = lb.fit_transform(Nova_tabela['nom_tipousina'])\n",
    "Nova_tabela['nom_usina'] = lb.fit_transform(Nova_tabela['nom_usina'])\n",
    "Nova_tabela['nom_tipo_combustivel'] = lb.fit_transform(Nova_tabela['nom_tipo_combustivel'])\n",
    "Nova_tabela['cod_modalidadeoperacao'] = lb.fit_transform(Nova_tabela['cod_modalidadeoperacao'])\n",
    "# Remove valores missing eventualmente gerados\n",
    "Nova_tabela.dropna(inplace = True)"
   ]
  },
  {
   "cell_type": "code",
   "execution_count": 117,
   "metadata": {},
   "outputs": [
    {
     "data": {
      "image/png": "[encoded data removed]",
      "text/plain": [
       "<Figure size 800x800 with 2 Axes>"
      ]
     },
     "metadata": {},
     "output_type": "display_data"
    }
   ],
   "source": [
    "\n",
    "df_numeric = Nova_tabela.select_dtypes(include=['float64', 'int32'])\n",
    "\n",
    "# Configurações de plot que você já especificou\n",
    "plt.rcParams['xtick.labelsize'] = 10\n",
    "plt.rcParams['ytick.labelsize'] = 10\n",
    "plt.rcParams['font.size'] = 10\n",
    "plt.rcParams['axes.titlesize'] = 20\n",
    "plt.rcParams[\"figure.figsize\"] = [8.00, 8.00]\n",
    "plt.rcParams[\"figure.autolayout\"] = True\n",
    "\n",
    "# Criando o heatmap apenas para as colunas numéricas\n",
    "sns.heatmap(df_numeric.corr(), annot=True)\n",
    "plt.show()"
   ]
  },
  {
   "cell_type": "markdown",
   "metadata": {},
   "source": [
    "**Como eu converti as variáveis categórica em numérica, a confiabilidade da correlação entre variáveis categóricas convertidas em numéricas depende fortemente do método de conversão utilizado( eu usei Onehotencoding) É crucial interpretar essas correlações com cautela, considerando as limitações e as premissas de conversão. Usarei mais pra frente o código de modelos baseados em Ensemble( variavéis que tenha mais importância) porque eles podem oferecer insights mais robustos e interpretações mais confiáveis**"
   ]
  },
  {
   "cell_type": "markdown",
   "metadata": {},
   "source": [
    "# ANÁLISE DE DADOS - VISUALIZAÇÃO DE DADOS"
   ]
  },
  {
   "cell_type": "markdown",
   "metadata": {},
   "source": [
    "### AGRUPAMENTO DE DADOS "
   ]
  },
  {
   "cell_type": "code",
   "execution_count": 118,
   "metadata": {},
   "outputs": [
    {
     "data": {
      "text/plain": [
       "nom_estado\n",
       "ACRE                    137528\n",
       "ALAGOAS                 265958\n",
       "AMAPA                   195719\n",
       "AMAZONAS               1188666\n",
       "BAHIA                  3735082\n",
       "CEARA                  2952267\n",
       "DISTRITO FEDERAL        298790\n",
       "ESPIRITO SANTO         1117189\n",
       "GOIAS                  2636995\n",
       "MARANHAO                571710\n",
       "MATO GROSSO            1496940\n",
       "MATO GROSSO DO SUL     1279443\n",
       "MINAS GERAIS           5147416\n",
       "PARA                    531850\n",
       "PARAIBA                 241219\n",
       "PARANA                 2173991\n",
       "PERNAMBUCO             1371941\n",
       "PIAUI                   820871\n",
       "RIO DE JANEIRO         2471845\n",
       "RIO GRANDE DO NORTE    1782846\n",
       "RIO GRANDE DO SUL      4430668\n",
       "RONDONIA                750539\n",
       "SANTA CATARINA         1815993\n",
       "SAO PAULO              6331095\n",
       "SERGIPE                  82092\n",
       "TOCANTINS               344672\n",
       "z - INTERNACIONAL       157470\n",
       "dtype: int64"
      ]
     },
     "execution_count": 118,
     "metadata": {},
     "output_type": "execute_result"
    }
   ],
   "source": [
    "tabelas_mescladas.groupby(tabelas_mescladas['nom_estado']).size() "
   ]
  },
  {
   "cell_type": "code",
   "execution_count": 119,
   "metadata": {},
   "outputs": [
    {
     "data": {
      "text/plain": [
       "cod_modalidadeoperacao\n",
       "Conjunto de Usinas             2914538\n",
       "Pequenas Usinas (Tipo III)     2490865\n",
       "TIPO I                        28967573\n",
       "TIPO II-A                      2321229\n",
       "TIPO II-B                       727517\n",
       "TIPO II-C                      2346082\n",
       "TIPO III                       4562991\n",
       "dtype: int64"
      ]
     },
     "execution_count": 119,
     "metadata": {},
     "output_type": "execute_result"
    }
   ],
   "source": [
    "tabelas_mescladas.groupby(tabelas_mescladas['cod_modalidadeoperacao']).size() "
   ]
  },
  {
   "cell_type": "code",
   "execution_count": 120,
   "metadata": {},
   "outputs": [
    {
     "data": {
      "text/plain": [
       "nom_tipousina\n",
       "BOMBEAMENTO         17686\n",
       "EOLIELÉTRICA      4911012\n",
       "FOTOVOLTAICA       187940\n",
       "HIDROELÉTRICA    23928303\n",
       "NUCLEAR            314940\n",
       "TÉRMICA          14970914\n",
       "dtype: int64"
      ]
     },
     "execution_count": 120,
     "metadata": {},
     "output_type": "execute_result"
    }
   ],
   "source": [
    "tabelas_mescladas.groupby(tabelas_mescladas['nom_tipousina']).size()"
   ]
  },
  {
   "cell_type": "code",
   "execution_count": 121,
   "metadata": {},
   "outputs": [
    {
     "data": {
      "text/plain": [
       "nom_usina\n",
       "14 de Julho                                            87686\n",
       "Aimorés                                               117610\n",
       "Alcídia                                                12622\n",
       "Alegrete                                              157470\n",
       "Alegria I                                              69736\n",
       "Alegria II                                             61121\n",
       "Alta Mogiana                                           57449\n",
       "Alto Chopim                                            52890\n",
       "Alto Sucuriú                                           64000\n",
       "Altos                                                 134075\n",
       "Amador Aguiar I                                       112907\n",
       "Amador Aguiar II                                      103884\n",
       "Amandina                                               31508\n",
       "Angelina                                               30476\n",
       "Angra 1                                               148711\n",
       "Angra 2                                               148711\n",
       "Angra I                                                 8759\n",
       "Angra II                                                8759\n",
       "Angélica                                               57449\n",
       "Anhanguera                                             29852\n",
       "Anta                                                    2135\n",
       "Aparecida                                              47778\n",
       "Apoena                                                 81518\n",
       "Apolônio Sales                                        157471\n",
       "Aquiraz                                                30260\n",
       "Aracati                                               127065\n",
       "Araguaia                                               23805\n",
       "Araucária                                             145063\n",
       "Areal                                                   8591\n",
       "Areia Branca                                           28029\n",
       "Arturo Andreoli                                          432\n",
       "Assis Chateaubriand                                     8759\n",
       "Assis Chateaubriand (Antiga Salto Mimoso)             136544\n",
       "Assú V                                                  9503\n",
       "Baguari                                                81494\n",
       "Baixada Fluminense                                     43411\n",
       "Balbina                                                47754\n",
       "Baraúnas II                                              768\n",
       "Bariri                                                157470\n",
       "Barra Bonita                                          157470\n",
       "Barra Grande                                          115475\n",
       "Barra do Braúna                                         2135\n",
       "Barra dos Coqueiros                                    75447\n",
       "Batalha                                                44923\n",
       "Baturité                                              127089\n",
       "Beberibe                                               10678\n",
       "Belo Jardim                                            58889\n",
       "Belo Monte                                             24741\n",
       "Berneck                                                64048\n",
       "Boa Esperança                                         157470\n",
       "Boa Vista                                              29780\n",
       "Boca do Córrego                                        23853\n",
       "Bons Ventos                                            63065\n",
       "Brasília                                              141319\n",
       "Breitener                                              25484\n",
       "Buriti                                                 65344\n",
       "CMPC (Antiga Aracruz Unidade Guaíba)                   30164\n",
       "CSP                                                    21837\n",
       "CST                                                   100116\n",
       "Caarapó                                                14638\n",
       "Cabo                                                   33884\n",
       "Cachoeira Caldeirão                                    25341\n",
       "Cachoeira Dourada                                     157470\n",
       "Caconde                                               157470\n",
       "Cagece                                                 29420\n",
       "Cajucoco                                               11687\n",
       "Camargos                                              157476\n",
       "Camaçari                                              157470\n",
       "Campina Grande                                         68920\n",
       "Campo Maior                                           125577\n",
       "Campos                                                157495\n",
       "Campos Novos                                          110603\n",
       "Cana Brava                                            145279\n",
       "Canastra                                              157470\n",
       "Candiota III                                           71104\n",
       "Canoa Quebrada                                         63641\n",
       "Canoas                                                142639\n",
       "Canoas I                                              157470\n",
       "Canoas II                                             157470\n",
       "Capivara                                              157474\n",
       "Caramuru Itumbiara                                     12598\n",
       "Carioba                                               157470\n",
       "Castro Alves                                           94429\n",
       "Cataventos Acaraú I                                     7007\n",
       "Caucaia                                               127065\n",
       "Caçador                                                43843\n",
       "Caçu                                                   75063\n",
       "Caçú I                                                 75063\n",
       "Cerro Chato I                                          35204\n",
       "Cerro Chato II                                         37195\n",
       "Cerro Chato III                                        38971\n",
       "Charqueadas                                           157471\n",
       "Chavantes                                             157470\n",
       "Cidade Nova                                            47370\n",
       "Cidreira 1                                             66688\n",
       "Coaracy Nunes                                          30692\n",
       "Cocal                                                 125337\n",
       "Cocal II                                               19773\n",
       "Codora                                                 57473\n",
       "Colorado                                              100932\n",
       "Coluna                                                 30188\n",
       "Colíder                                                  504\n",
       "Colônia                                                25005\n",
       "Conj. Acaraú II                                        15334\n",
       "Conj. Alvorada                                         39523\n",
       "Conj. Amazonas                                         27525\n",
       "Conj. Aracati II                                       15334\n",
       "Conj. Araripe III                                      18238\n",
       "Conj. Araçás                                           36859\n",
       "Conj. Areia Branca                                     15334\n",
       "Conj. Asa Branca                                       34508\n",
       "Conj. Atlântica                                        43531\n",
       "Conj. BJL                                               8735\n",
       "Conj. BW Guirapá I                                     26805\n",
       "Conj. BW Guirapá II                                    26805\n",
       "Conj. Babilônia                                         2135\n",
       "Conj. Baixa do Feijão                                  23781\n",
       "Conj. Barreiras                                        33956\n",
       "Conj. Biopav                                           18166\n",
       "Conj. Bloco Sul                                        21165\n",
       "Conj. Boca do Monte                                    33956\n",
       "Conj. Bom Jardim                                       43531\n",
       "Conj. Bom Jesus                                        15334\n",
       "Conj. Brisa Potiguar I                                 32612\n",
       "Conj. Brotas de Macaúbas                               15334\n",
       "Conj. Cabeço Preto II                                  19078\n",
       "Conj. Cachoeira Dourada                                47346\n",
       "Conj. Cacimbas                                          8183\n",
       "Conj. Caetité                                          26805\n",
       "Conj. Caetité 123                                      36979\n",
       "Conj. Caetité A                                        29660\n",
       "Conj. Caetés II                                        28484\n",
       "Conj. Calango 1                                        26805\n",
       "Conj. Calango 2                                        26805\n",
       "Conj. Calango 3                                        18238\n",
       "Conj. Calcário                                          1463\n",
       "Conj. Campo Formoso                                    28412\n",
       "Conj. Campo Largo                                       5351\n",
       "Conj. Campo dos Ventos                                 23877\n",
       "Conj. Carcará II                                       34868\n",
       "Conj. Carnaúbas                                        14614\n",
       "Conj. Casa Nova                                        11206\n",
       "Conj. Chapada I                                        28268\n",
       "Conj. Chapada II                                       30524\n",
       "Conj. Chapada III                                      26805\n",
       "Conj. Chapadinha                                       12550\n",
       "Conj. Chapadão                                         55913\n",
       "Conj. Complexo do Prata                                12262\n",
       "Conj. Cristal                                          11734\n",
       "Conj. Cristalândia                                     12550\n",
       "Conj. Curva dos Ventos                                 37123\n",
       "Conj. Cutia                                             2855\n",
       "Conj. Delfina                                          11734\n",
       "Conj. Dourados                                         16222\n",
       "Conj. Edéia                                            32588\n",
       "Conj. Fazenda                                          17302\n",
       "Conj. Faísa                                            14614\n",
       "Conj. Floresta                                         10199\n",
       "Conj. Gentio do Ouro I                                 26805\n",
       "Conj. Guaimbê                                           8735\n",
       "Conj. Guirapá                                          39523\n",
       "Conj. Horizonte                                         8735\n",
       "Conj. Icaraí                                           15334\n",
       "Conj. Itarema V                                        26805\n",
       "Conj. Ituverava                                        13870\n",
       "Conj. Jataí                                            50370\n",
       "Conj. Juazeiro Solar                                    1463\n",
       "Conj. Lagoa do Barro I                                  2207\n",
       "Conj. Lagoa dos Barros                                 14614\n",
       "Conj. Lajeado Grande                                   32588\n",
       "Conj. Lapa                                             14614\n",
       "Conj. Licínio de Almeida                               39523\n",
       "Conj. Livramento 2                                     43328\n",
       "Conj. Macacos                                          35540\n",
       "Conj. Mangue Seco                                      15334\n",
       "Conj. Marmeleiro 2                                     18238\n",
       "Conj. Modelo                                           36452\n",
       "Conj. Morro do Chapéu Sul                               8183\n",
       "Conj. Morro dos Ventos                                 41395\n",
       "Conj. Morro dos Ventos II                              35012\n",
       "Conj. Morrão                                           36859\n",
       "Conj. N. S. da Conceição                               39523\n",
       "Conj. Nova Olinda                                      11662\n",
       "Conj. Olho d'Água                                      33596\n",
       "Conj. Papagaios                                        41539\n",
       "Conj. Paracatu                                          1463\n",
       "Conj. Paranatama                                       27525\n",
       "Conj. Parecis                                          56753\n",
       "Conj. Paulino Neves                                    14614\n",
       "Conj. Pedra Branca                                     29732\n",
       "Conj. Pedra Cheirosa                                   13870\n",
       "Conj. Pelourinho                                       26804\n",
       "Conj. Pirapora                                         12406\n",
       "Conj. Pitombeira                                        1967\n",
       "Conj. Planaltina                                       39523\n",
       "Conj. Quinta 138 kV                                    34796\n",
       "Conj. Quinta 69 kV                                     34796\n",
       "Conj. Quirinópolis                                     56753\n",
       "Conj. Renascença                                       34868\n",
       "Conj. Renascença V                                     34508\n",
       "Conj. Riachão                                          15334\n",
       "Conj. Rio Alto                                          5855\n",
       "Conj. Rio Brilhante                                    34052\n",
       "Conj. Santa Cabeça                                     34052\n",
       "Conj. Santa Clara                                      41395\n",
       "Conj. Santa Rosália                                    20421\n",
       "Conj. Santa Vitória do Palmar                          38467\n",
       "Conj. Santo Inácio                                      9719\n",
       "Conj. Serra Azul                                       22629\n",
       "Conj. Serra da Babilônia                                1535\n",
       "Conj. Serra de Santana 1 e 2                           26805\n",
       "Conj. Serra de Santana 3                               26805\n",
       "Conj. São Basílio                                      22437\n",
       "Conj. São Clemente                                     23445\n",
       "Conj. São Miguel                                        8183\n",
       "Conj. São Pedro                                         2927\n",
       "Conj. Tacaratu                                         34124\n",
       "Conj. Taíba                                            15334\n",
       "Conj. Trairí                                           28268\n",
       "Conj. Umburanas                                         1463\n",
       "Conj. União dos Ventos                                 41371\n",
       "Conj. Ventos da Bahia                                  12358\n",
       "Conj. Ventos da Bahia 2                                 4391\n",
       "Conj. Viamão 3                                         17494\n",
       "Conj. Água Doce                                        43531\n",
       "Corumbá I                                             157470\n",
       "Corumbá III                                            80654\n",
       "Corumbá IV                                            111683\n",
       "Cotiporã                                               43843\n",
       "Crato                                                 126993\n",
       "Cristiano Rocha                                        47754\n",
       "Cubatão                                                67791\n",
       "Cuiabá                                                157470\n",
       "Curumim                                               126105\n",
       "Curuá-Una                                             157470\n",
       "Da Ilha                                                43843\n",
       "Daia                                                  123658\n",
       "Dardanelos                                             65104\n",
       "Delta 3 III                                            29516\n",
       "Distrito A                                             47250\n",
       "Distrito B                                             47250\n",
       "Distrito Industrial I                                  30236\n",
       "Distrito Industrial II                                 30260\n",
       "Do Atlântico                                           74415\n",
       "Dona Francisca                                        156726\n",
       "ERB Candeias                                           22846\n",
       "Eldorado                                               24261\n",
       "Electron (TG)                                          47370\n",
       "Emborcação                                            148711\n",
       "Embuaca                                                27069\n",
       "Enacel                                                 61937\n",
       "Energia Madeiras                                       87326\n",
       "Eng. José Gelásio da Rocha                             28580\n",
       "Eng. José Luiz Muller de Godoy Pereira                 74031\n",
       "Engenheiro Ernesto Jorge Dreher                        49050\n",
       "Engenheiro Henrique Kotzian                            25605\n",
       "Esmeralda                                              43843\n",
       "Esplanada (Antiga Jalles Machado)                      29516\n",
       "Espora                                                108299\n",
       "Estreito                                               68320\n",
       "Euclides da Cunha                                     157470\n",
       "Faísa I                                                27909\n",
       "Faísa II                                               25389\n",
       "Faísa III                                              27909\n",
       "Faísa IV                                               27765\n",
       "Faísa V                                                23853\n",
       "Ferreira Gomes                                         36715\n",
       "Figueira                                              157475\n",
       "Fleixeiras I                                           16125\n",
       "Flores 1                                               47250\n",
       "Flores 2                                               47250\n",
       "Flores 3                                               47250\n",
       "Flores 4                                               47250\n",
       "Fontes Nova                                           157470\n",
       "Fontes Solar I                                         30500\n",
       "Fontes Solar II                                        30476\n",
       "Fortaleza                                             133520\n",
       "Foz do Chapecó                                         72279\n",
       "Foz do Rio Choró                                       10678\n",
       "Francisco Gross (Antiga Santa Fé)                      57449\n",
       "Fundão                                                109763\n",
       "Funil                                                  17518\n",
       "Funil (Grande)                                        131409\n",
       "Funil (Paraíba do Sul)                                148715\n",
       "Furnas                                                157472\n",
       "Garibaldi                                              46122\n",
       "Geramar I                                              78591\n",
       "Geramar II                                             78591\n",
       "Global I                                               75855\n",
       "Global II                                              75855\n",
       "Goiasa                                                 29516\n",
       "Goiânia II                                             88118\n",
       "Gov. Bento Munhoz                                     148712\n",
       "Gov. Jayme Canet                                       53970\n",
       "Gov. José Richa                                       148711\n",
       "Gov. Ney Braga                                        148712\n",
       "Gov. Parigot de Souza                                 148711\n",
       "Governador Bento Munhoz da Rocha Netto                  8759\n",
       "Governador José Richa                                   8759\n",
       "Governador Ney Aminthas de Barros Braga                 8759\n",
       "Governador Pedro Viriato Parigot de Souza               8759\n",
       "Guajirú                                                18188\n",
       "Guaporé                                               137792\n",
       "Guarani                                                77199\n",
       "Guarani Cruz Alta                                      57473\n",
       "Guaíra Energética                                      46242\n",
       "Guilman Amorim                                        157470\n",
       "Henry Borden Ext.                                     148711\n",
       "Henry Borden Externa                                    8759\n",
       "Henry Borden Sub.                                     148712\n",
       "Henry Borden Subterrânea                                8759\n",
       "Ibirité                                               145399\n",
       "Ibitinga                                              157470\n",
       "Icaraizinho                                            81134\n",
       "Icaraí I                                               28677\n",
       "Icaraí II                                              29157\n",
       "Igarapava                                             157470\n",
       "Igarapé                                               157545\n",
       "Iguatu                                                127041\n",
       "Ilha Grande                                            23853\n",
       "Ilha Solteira                                         157470\n",
       "Ilha dos Pombos                                       157477\n",
       "Interlagos                                             57473\n",
       "Ipaussu                                                62129\n",
       "Ipojuca                                                33884\n",
       "Iranduba                                               47370\n",
       "Irapé                                                 109571\n",
       "Irara                                                  16942\n",
       "Itaenga                                                52146\n",
       "Itaipu                                                  8759\n",
       "Itaipu 50 Hz                                          157470\n",
       "Itaipu 60 Hz                                          148711\n",
       "Itapebi                                               139208\n",
       "Itaúba                                                157507\n",
       "Itiquira I                                            142591\n",
       "Itiquira II                                            28604\n",
       "Itumbiara                                             186220\n",
       "Itutinga                                              157470\n",
       "Itá                                                   157470\n",
       "J. Lacerda A                                          147247\n",
       "J. Lacerda B                                          148711\n",
       "J. Lacerda C                                          148716\n",
       "JB                                                    135583\n",
       "Jaboti                                                 30140\n",
       "Jacuí                                                 157470\n",
       "Jaguara                                               157470\n",
       "Jaguarari                                             126105\n",
       "Jaguari                                               157470\n",
       "Jaraqui                                                47754\n",
       "Jararaca                                               43843\n",
       "Jauru                                                 138056\n",
       "Jirau                                                  52290\n",
       "Jorge Lacerda I e II                                    8759\n",
       "Jorge Lacerda III                                       8759\n",
       "Jorge Lacerda IV                                        8759\n",
       "Juazeiro do Norte                                     127017\n",
       "Juba I                                                 61337\n",
       "Juba II                                                61313\n",
       "Juiz de Fora                                          149551\n",
       "Jupiá                                                 157470\n",
       "Jurumirim                                             157470\n",
       "Klabin Celulose                                        25341\n",
       "LDC Bioenergia Rio Brilhante                           14638\n",
       "Lago Azul                                              29516\n",
       "Lajari                                                  1871\n",
       "Lajeado                                               149743\n",
       "Limoeiro                                              157472\n",
       "Linha Emília                                           43843\n",
       "Ludesa                                                 63688\n",
       "Luiz Carlos Barreto                                   157483\n",
       "Luiz Gonzaga                                          157471\n",
       "Luiz O. R. Melo                                        70576\n",
       "Macabu                                                 19773\n",
       "Macaúbas                                               42067\n",
       "Machadinho                                            148207\n",
       "Malhadinha 1                                           19845\n",
       "Manauara                                               47922\n",
       "Mandu                                                  29852\n",
       "Mangue Seco 1                                          48162\n",
       "Mangue Seco 2                                          48354\n",
       "Mangue Seco 3                                          49362\n",
       "Mangue Seco 5                                          47323\n",
       "Manso                                                 157470\n",
       "Mar e Terra                                            28029\n",
       "Maracanaú I                                            70576\n",
       "Marambaia                                             125529\n",
       "Maranguape                                             30188\n",
       "Maranhão 3                                             42235\n",
       "Maranhão 4                                             51810\n",
       "Maranhão 5                                             50418\n",
       "Marimbondo                                            157470\n",
       "Marituba                                               26420\n",
       "Mascarenhas                                           157470\n",
       "Mascarenhas de Moraes                                 157470\n",
       "Mauá 3                                                 13894\n",
       "Mauá 7                                                 47370\n",
       "Mauá Bloco 1                                           47370\n",
       "Mauá Bloco 3                                           47514\n",
       "Mauá Bloco 4                                           47754\n",
       "Mauá Bloco 5A                                          47250\n",
       "Mauá Bloco 5B                                          47250\n",
       "Mauá Bloco 6                                           47370\n",
       "Miassaba 3                                             45235\n",
       "Miranda                                               157470\n",
       "Monjolinho                                             82358\n",
       "Monte Claro                                           122410\n",
       "Mosquitão                                              23469\n",
       "Mundaú                                                 14685\n",
       "Nazária                                               125529\n",
       "Nilo Peçanha                                          157470\n",
       "Nordeste Generation                                    25556\n",
       "Norte Fluminense                                      128865\n",
       "Nova Avanhandava                                      157470\n",
       "Nova Piratininga                                      145015\n",
       "Nova Ponte                                            157470\n",
       "Nova Venécia 2                                         45211\n",
       "Novo Horizonte                                         42067\n",
       "Nutepa                                                157470\n",
       "Osório                                                 90254\n",
       "Osório 2                                               37652\n",
       "Osório 3                                               37652\n",
       "Ourinhos                                              116242\n",
       "PEQUENAS CENTRAIS HIDROELÉTRICAS NA SE IACIARA         29516\n",
       "PEQUENAS CENTRAIS HIDROELÉTRICAS NA SE JAURU-CEMAT     29492\n",
       "PEQUENAS CENTRAIS HIDROELÉTRICAS NA SE JI-PARANA       28796\n",
       "PEQUENAS CENTRAIS HIDROELÉTRICAS NA SE PIMENTA BUE     28796\n",
       "PEQUENAS CENTRAIS HIDROELÉTRICAS NA SE VILHENA         29516\n",
       "PEQUENAS CENTRAIS TERMELETRICAS NA SE LONDRINA          5303\n",
       "PEQUENAS CENTRAIS TERMELETRICAS NA SE MARINGA          29300\n",
       "PEQUENAS USINAS HIDRELETRICAS REGIÃO DA RGE            29852\n",
       "PIE-RP                                                122577\n",
       "Pacajus                                                30116\n",
       "Palmeiras de Goiás                                     56993\n",
       "Paracuru                                               10678\n",
       "Paraibuna                                             157470\n",
       "Paraipaba                                              30140\n",
       "Parnamirim                                             26420\n",
       "Parnaíba IV                                            44491\n",
       "Parque Eólico de Osório                                 5759\n",
       "Parque Eólico dos Índios                                1080\n",
       "Passo Fundo                                           157473\n",
       "Passo Real                                            157475\n",
       "Passo São João                                         58937\n",
       "Pau Ferro I                                            83726\n",
       "Paulo Afonso I                                        157470\n",
       "Paulo Afonso II                                       157471\n",
       "Paulo Afonso III                                      157470\n",
       "Paulo Afonso IV                                       157471\n",
       "Pecém                                                 127161\n",
       "Pedra                                                  25605\n",
       "Pedra Branca                                           22702\n",
       "Pedra do Cavalo                                       124065\n",
       "Pedreira                                               17686\n",
       "Peixe Angical                                         110915\n",
       "Pequenas Centrais Hidrelétricas da Celtins                72\n",
       "Pequenas Centrais Hidrelétricas da Cemig              157470\n",
       "Pequenas Centrais Hidrelétricas da Cesp               111228\n",
       "Pequenas Centrais Hidrelétricas da Copel              157470\n",
       "Pequenas Centrais Hidrelétricas da Cpfl               157470\n",
       "Pequenas Centrais Hidrelétricas da Emae               157470\n",
       "Pequenas Centrais Hidroelétricas  da Enersul          111804\n",
       "Pequenas Centrais Hidroelétricas da Ceb               157471\n",
       "Pequenas Centrais Hidroelétricas da Ceee              157470\n",
       "Pequenas Centrais Hidroelétricas da Celesc            157470\n",
       "Pequenas Centrais Hidroelétricas da Celg              157470\n",
       "Pequenas Centrais Hidroelétricas da Cemat             157470\n",
       "Pequenas Centrais Hidroelétricas da Cerj              157470\n",
       "Pequenas Centrais Hidroelétricas da Chesf             157471\n",
       "Pequenas Centrais Hidroelétricas da Coelba               144\n",
       "Pequenas Centrais Hidroelétricas da Enorte               408\n",
       "Pequenas Centrais Hidroelétricas da Escelsa           157470\n",
       "Pequenas Centrais Termeletrica da Celg                    24\n",
       "Pequenas Centrais Termeletricas da Cemig                  48\n",
       "Pequenas Centrais Termeletricas da Cisfarma               48\n",
       "Pequenas Centrais Termeletricas da Coelba                432\n",
       "Pequenas Centrais Termeletricas da Enersul             80942\n",
       "Pequenas Centrais Termeletricas da PIE-RP                 24\n",
       "Pequenas Centrais Termelétricas da Ceee                41971\n",
       "Pequenas Centrais Termelétricas da Cemat               30716\n",
       "Pequenas Centrais Termelétricas da Cpfl                   72\n",
       "Pequenas Centrais Termelétricas de Furnas              12719\n",
       "Pereira Passos                                        157470\n",
       "Pernambuco III                                         44827\n",
       "Petrolina                                             126105\n",
       "Picada                                                109811\n",
       "Pimental                                               24741\n",
       "Pirajú                                                142759\n",
       "Piratininga                                           157470\n",
       "Ponta Negra                                            47754\n",
       "Ponta de Ubu                                           31940\n",
       "Ponte de Pedra                                        124905\n",
       "Porto                                                  33908\n",
       "Porto Colômbia                                        157470\n",
       "Porto Estrela                                         151638\n",
       "Porto Primavera                                       157470\n",
       "Porto das Pedras                                       63688\n",
       "Porto do Itaqui                                        53754\n",
       "Porto do Pecém I                                       59177\n",
       "Porto do Pecém II                                      48642\n",
       "Potiguar                                               85934\n",
       "Potiguar III                                           86366\n",
       "Praia Formosa                                          83006\n",
       "Praia do Morgado                                       63017\n",
       "Praias de Parajuru                                     10678\n",
       "Prazeres                                               33860\n",
       "Presidente Médici                                     157471\n",
       "Promissão                                             157473\n",
       "Prosperidade I                                          2879\n",
       "Quebra Queixo                                         131769\n",
       "Queimado                                              129033\n",
       "Queixada                                               31508\n",
       "Quirinópolis                                           64264\n",
       "RN 15 - Rio do Fogo                                     6695\n",
       "Refinaria Landulpho Alves                               8759\n",
       "Refinaria Landulpho Alves (RLAM)                       95439\n",
       "Rei dos Ventos 1                                       45187\n",
       "Rei dos Ventos 3                                       45187\n",
       "Retiro Baixo                                           77607\n",
       "Riachão I                                              17518\n",
       "Riachão II                                             17518\n",
       "Riachão IV                                             17518\n",
       "Riachão VI                                             17518\n",
       "Riachão VII                                            17518\n",
       "Ribeirão                                               21741\n",
       "Rio Acre                                               78639\n",
       "Rio Formoso                                            33860\n",
       "Rio Largo Brasympe                                     29228\n",
       "Rio Madeira                                            78591\n",
       "Rio do Fogo                                            85910\n",
       "Risoleta Neves                                        125505\n",
       "Rochedo                                                29852\n",
       "Rondon II                                              68176\n",
       "Rondonópolis                                           12262\n",
       "Rosal                                                 146551\n",
       "Rosana                                                157470\n",
       "Salto                                                  75927\n",
       "Salto Buriti                                             576\n",
       "Salto Curuá                                            86966\n",
       "Salto Grande (MG)                                     148711\n",
       "Salto Grande (SP)                                     148711\n",
       "Salto Grande MG                                         8759\n",
       "Salto Grande SP                                         8759\n",
       "Salto Osório                                          157474\n",
       "Salto Pilão                                            80366\n",
       "Salto Santiago                                        157470\n",
       "Salto Três de Maio                                        24\n",
       "Salto do Rio Verdinho                                  74439\n",
       "Samuel                                                 36716\n",
       "Sangradouro                                            93565\n",
       "Sangradouro 2                                          40579\n",
       "Sangradouro 3                                          43531\n",
       "Santa Branca                                          157470\n",
       "Santa Clara                                            17518\n",
       "Santa Clara (MG)                                      140121\n",
       "Santa Clara (PR)                                      108899\n",
       "Santa Cruz                                            157470\n",
       "Santa Gabriela                                         19773\n",
       "Santa Luzia I                                          24261\n",
       "Santa Rosa II                                          19773\n",
       "Santa Vitória                                          25989\n",
       "Santana Bloco 1                                        36140\n",
       "Santana Bloco 2                                        28940\n",
       "Santarém                                               38851\n",
       "Santo Antônio                                          61721\n",
       "Santo Antônio de Pádua                                 22989\n",
       "Santo Antônio do Jari                                  37891\n",
       "Seabra                                                 42067\n",
       "Seropédica                                            137863\n",
       "Serra da Mesa                                         157470\n",
       "Serra do Facão                                         74247\n",
       "Sete Gameleiras                                        22702\n",
       "Simplício                                              49410\n",
       "Sobradinho                                            157471\n",
       "Sobragi                                               157470\n",
       "Sol                                                   101940\n",
       "Suape                                                  33884\n",
       "Suape II                                               51810\n",
       "Suzano                                                 43675\n",
       "Sykué I                                                57449\n",
       "Sá Carvalho                                           155310\n",
       "São Borja                                              29108\n",
       "São Cristovão                                          22989\n",
       "São Domingos                                           30812\n",
       "São Fernando Açúcar e Álcool                            3192\n",
       "São Gonçalo                                           136833\n",
       "São Jerônimo                                          157470\n",
       "São Joaquim                                            57449\n",
       "São Jorge                                              22989\n",
       "São José                                              115666\n",
       "São José 2                                             35564\n",
       "São José Colina                                        19773\n",
       "São João                                               57449\n",
       "São Lourenço                                           31508\n",
       "São Manoel                                              9911\n",
       "São Pedro do Lago                                      22702\n",
       "São Salvador                                           83942\n",
       "São Sepé                                                 672\n",
       "São Simão                                             157470\n",
       "Sítio Grande                                           57473\n",
       "TEP                                                    29204\n",
       "Tambaqui                                               47754\n",
       "Taquaral                                               54233\n",
       "Taquaruçu                                             157470\n",
       "Taíba Andorinha                                        25053\n",
       "Taíba Águia                                            26325\n",
       "Teles Pires                                            30692\n",
       "Termobahia                                            143623\n",
       "Termocabo                                             126105\n",
       "Termocamaçari                                         151638\n",
       "Termoceará                                            144256\n",
       "Termomacaé                                            149527\n",
       "Termomanaus                                            83726\n",
       "Termonordeste                                          70120\n",
       "Termonorte 1                                           41684\n",
       "Termonorte II                                          80271\n",
       "Termoparaíba                                           69904\n",
       "Termopernambuco                                       130473\n",
       "Termorio                                              113794\n",
       "Theodomiro Carneiro Santiago (Emborcação)               8759\n",
       "Trairí                                                 18188\n",
       "Três Irmãos                                           157476\n",
       "Três Lagoas                                           126513\n",
       "Três Marias                                           157470\n",
       "Tubarão Brasympe                                       34868\n",
       "Tucuruí                                               157470\n",
       "U-50                                                    2135\n",
       "UHE Samuel                                             43555\n",
       "USI Carapina                                           33428\n",
       "USI Carrapicho                                         26420\n",
       "USI Civit                                              31940\n",
       "USI Companhia Petroquimica Do Nordeste                 35035\n",
       "USI Funil                                              20661\n",
       "USI Giasa                                              26420\n",
       "USI Jardim                                             29252\n",
       "USI Lagarto                                            26420\n",
       "USI Peri-Peri                                          26420\n",
       "USI Polo                                               26420\n",
       "USI Sete Lagoas                                        26994\n",
       "Uruguaiana                                            157473\n",
       "Usaciga                                                47202\n",
       "Usi PCH Conjunto Blumenau                              64480\n",
       "Usi PCH Conjunto Campo Grande                          64480\n",
       "Usi PCH Conjunto Curitiba                              52890\n",
       "Usi PCH Conjunto Nortems                               64480\n",
       "Usi PCH Conjunto Passo Fundo                           54233\n",
       "Usi PCH Pato Branco                                    52890\n",
       "Usi Pequenas Hidroeletricas da Ceron 1                 66809\n",
       "Usi Pequenas Hidroeletricas da Ceron 2                 66809\n",
       "Usi Pequenas Hidroeletricas da Ceron 3                 66809\n",
       "Vale do Açú                                            90637\n",
       "Vale do Rosário                                        46242\n",
       "Ventos da Andorinha                                      768\n",
       "Veracel                                                18525\n",
       "Verde 8                                                 5015\n",
       "Viana                                                  78543\n",
       "Volta Grande                                          183075\n",
       "Volta do Rio                                           62585\n",
       "Willian Arjona                                        186807\n",
       "Xangri-lá                                              33188\n",
       "Xanxerê                                                64480\n",
       "Xavantes                                              126825\n",
       "Xavantes Aruanã                                          528\n",
       "Xingó                                                 157470\n",
       "Ypê                                                     6551\n",
       "Água Vermelha                                         157470\n",
       "Índios                                                 90254\n",
       "Índios 2                                               21334\n",
       "Índios 3                                               21334\n",
       "dtype: int64"
      ]
     },
     "execution_count": 121,
     "metadata": {},
     "output_type": "execute_result"
    }
   ],
   "source": [
    "tabelas_mescladas.groupby(tabelas_mescladas['nom_usina']).size() "
   ]
  },
  {
   "cell_type": "code",
   "execution_count": 122,
   "metadata": {},
   "outputs": [
    {
     "data": {
      "text/plain": [
       "nom_tipo_combustivel\n",
       "Biomassa                 2202448\n",
       "Carvão                   1333515\n",
       "Eólica                   4911012\n",
       "Fotovoltaica              187940\n",
       "Gás                      4203898\n",
       "Hidráulica              23945989\n",
       "Nuclear                   314940\n",
       "Resíduos Industriais      397488\n",
       "Óleo Combustível         2341552\n",
       "Óleo Diesel              4492013\n",
       "dtype: int64"
      ]
     },
     "execution_count": 122,
     "metadata": {},
     "output_type": "execute_result"
    }
   ],
   "source": [
    "tabelas_mescladas.groupby(tabelas_mescladas['nom_tipo_combustivel']).size()"
   ]
  },
  {
   "cell_type": "markdown",
   "metadata": {},
   "source": [
    "### PLOTANDO EM UM GRAFÍCO AS COLUNAS "
   ]
  },
  {
   "cell_type": "code",
   "execution_count": 123,
   "metadata": {},
   "outputs": [
    {
     "data": {
      "image/png": "[encoded data removed]",
      "text/plain": [
       "<Figure size 2500x1500 with 4 Axes>"
      ]
     },
     "metadata": {},
     "output_type": "display_data"
    }
   ],
   "source": [
    "plt.rcParams[\"figure.figsize\"] = [25.00, 15.00]\n",
    "plt.rcParams[\"figure.autolayout\"] = True\n",
    "f, axes = plt.subplots(2, 2)\n",
    "\n",
    "sns.countplot(data = tabelas_mescladas, x=\"nom_tipousina\", ax=axes[0][0])\n",
    "sns.countplot(data = tabelas_mescladas, x=\"nom_tipo_combustivel\", ax=axes[0][1])\n",
    "sns.countplot(data = tabelas_mescladas, x=\"cod_modalidadeoperacao\", ax=axes[1][0])\n",
    "plt.show()"
   ]
  },
  {
   "cell_type": "code",
   "execution_count": 124,
   "metadata": {},
   "outputs": [
    {
     "data": {
      "image/png": "[encoded data removed]",
      "text/plain": [
       "<Figure size 2500x1500 with 1 Axes>"
      ]
     },
     "metadata": {},
     "output_type": "display_data"
    }
   ],
   "source": [
    "x = tabelas_mescladas['nom_estado'].value_counts().values \n",
    "y = tabelas_mescladas['nom_estado'].value_counts().index\n",
    "sns.barplot( x=x, y=y ) \n",
    "plt.show()"
   ]
  },
  {
   "cell_type": "code",
   "execution_count": 125,
   "metadata": {},
   "outputs": [
    {
     "data": {
      "image/png": "[encoded data removed]",
      "text/plain": [
       "<Figure size 2500x1500 with 1 Axes>"
      ]
     },
     "metadata": {},
     "output_type": "display_data"
    }
   ],
   "source": [
    "x = tabelas_mescladas['nom_tipo_combustivel'].value_counts().values\n",
    "y = tabelas_mescladas['nom_tipo_combustivel'].value_counts().index\n",
    "sns.barplot( x=x, y=y ) \n",
    "plt.show()"
   ]
  },
  {
   "cell_type": "code",
   "execution_count": 126,
   "metadata": {},
   "outputs": [
    {
     "data": {
      "text/html": [
       "<div>\n",
       "<style scoped>\n",
       "    .dataframe tbody tr th:only-of-type {\n",
       "        vertical-align: middle;\n",
       "    }\n",
       "\n",
       "    .dataframe tbody tr th {\n",
       "        vertical-align: top;\n",
       "    }\n",
       "\n",
       "    .dataframe thead th {\n",
       "        text-align: right;\n",
       "    }\n",
       "</style>\n",
       "<table border=\"1\" class=\"dataframe\">\n",
       "  <thead>\n",
       "    <tr style=\"text-align: right;\">\n",
       "      <th></th>\n",
       "      <th>din_instante</th>\n",
       "      <th>nom_subsistema</th>\n",
       "      <th>nom_estado</th>\n",
       "      <th>cod_modalidadeoperacao</th>\n",
       "      <th>nom_tipousina</th>\n",
       "      <th>nom_tipo_combustivel</th>\n",
       "      <th>nom_usina</th>\n",
       "      <th>val_geracao</th>\n",
       "    </tr>\n",
       "  </thead>\n",
       "  <tbody>\n",
       "    <tr>\n",
       "      <th>7063</th>\n",
       "      <td>2000-03-01 15:00:00</td>\n",
       "      <td>SUDESTE</td>\n",
       "      <td>RIO DE JANEIRO</td>\n",
       "      <td>TIPO I</td>\n",
       "      <td>HIDROELÉTRICA</td>\n",
       "      <td>Hidráulica</td>\n",
       "      <td>Funil (Paraíba do Sul)</td>\n",
       "      <td>0.4</td>\n",
       "    </tr>\n",
       "  </tbody>\n",
       "</table>\n",
       "</div>"
      ],
      "text/plain": [
       "            din_instante nom_subsistema      nom_estado  \\\n",
       "7063 2000-03-01 15:00:00        SUDESTE  RIO DE JANEIRO   \n",
       "\n",
       "     cod_modalidadeoperacao  nom_tipousina nom_tipo_combustivel  \\\n",
       "7063                 TIPO I  HIDROELÉTRICA           Hidráulica   \n",
       "\n",
       "                   nom_usina  val_geracao  \n",
       "7063  Funil (Paraíba do Sul)          0.4  "
      ]
     },
     "execution_count": 126,
     "metadata": {},
     "output_type": "execute_result"
    }
   ],
   "source": [
    "tabelas_mescladas.head(1)"
   ]
  },
  {
   "cell_type": "markdown",
   "metadata": {},
   "source": [
    "### VERIFICANDO AS MÉDIA E MEDIANA DA GERAÇÃO DE ENERGIA POR SUBSISTEMA"
   ]
  },
  {
   "cell_type": "code",
   "execution_count": 127,
   "metadata": {},
   "outputs": [
    {
     "data": {
      "text/html": [
       "<div>\n",
       "<style scoped>\n",
       "    .dataframe tbody tr th:only-of-type {\n",
       "        vertical-align: middle;\n",
       "    }\n",
       "\n",
       "    .dataframe tbody tr th {\n",
       "        vertical-align: top;\n",
       "    }\n",
       "\n",
       "    .dataframe thead th {\n",
       "        text-align: right;\n",
       "    }\n",
       "</style>\n",
       "<table border=\"1\" class=\"dataframe\">\n",
       "  <thead>\n",
       "    <tr style=\"text-align: right;\">\n",
       "      <th></th>\n",
       "      <th>Quantidade</th>\n",
       "      <th>Média Da Produção De Energia</th>\n",
       "      <th>Mediana Da Produção De Energia</th>\n",
       "    </tr>\n",
       "    <tr>\n",
       "      <th>nom_subsistema</th>\n",
       "      <th></th>\n",
       "      <th></th>\n",
       "      <th></th>\n",
       "    </tr>\n",
       "  </thead>\n",
       "  <tbody>\n",
       "    <tr>\n",
       "      <th>SUDESTE</th>\n",
       "      <td>22298067</td>\n",
       "      <td>196.905789</td>\n",
       "      <td>50.416</td>\n",
       "    </tr>\n",
       "    <tr>\n",
       "      <th>NORDESTE</th>\n",
       "      <td>11252276</td>\n",
       "      <td>92.624456</td>\n",
       "      <td>7.000</td>\n",
       "    </tr>\n",
       "    <tr>\n",
       "      <th>SUL</th>\n",
       "      <td>8263134</td>\n",
       "      <td>162.357707</td>\n",
       "      <td>37.975</td>\n",
       "    </tr>\n",
       "    <tr>\n",
       "      <th>NORTE</th>\n",
       "      <td>2359848</td>\n",
       "      <td>332.856408</td>\n",
       "      <td>25.200</td>\n",
       "    </tr>\n",
       "    <tr>\n",
       "      <th>PARAGUAI</th>\n",
       "      <td>157470</td>\n",
       "      <td>4500.987302</td>\n",
       "      <td>4690.704</td>\n",
       "    </tr>\n",
       "  </tbody>\n",
       "</table>\n",
       "</div>"
      ],
      "text/plain": [
       "                Quantidade  Média Da Produção De Energia  \\\n",
       "nom_subsistema                                             \n",
       "SUDESTE           22298067                    196.905789   \n",
       "NORDESTE          11252276                     92.624456   \n",
       "SUL                8263134                    162.357707   \n",
       "NORTE              2359848                    332.856408   \n",
       "PARAGUAI            157470                   4500.987302   \n",
       "\n",
       "                Mediana Da Produção De Energia  \n",
       "nom_subsistema                                  \n",
       "SUDESTE                                 50.416  \n",
       "NORDESTE                                 7.000  \n",
       "SUL                                     37.975  \n",
       "NORTE                                   25.200  \n",
       "PARAGUAI                              4690.704  "
      ]
     },
     "execution_count": 127,
     "metadata": {},
     "output_type": "execute_result"
    }
   ],
   "source": [
    "Quantidade = tabelas_mescladas.groupby([\"nom_subsistema\"])[\"val_geracao\"].count().rename('Quantidade')\n",
    "media = tabelas_mescladas.groupby(['nom_subsistema'])['val_geracao'].mean().rename('Média Da Produção De Energia')\n",
    "mediana =tabelas_mescladas.groupby(['nom_subsistema'])['val_geracao'].median().rename('Mediana Da Produção De Energia')\n",
    "\n",
    "# Dataframe para os resultados\n",
    "dados_usuarios = pd.DataFrame({\"Quantidade\":Quantidade,'Média Da Produção De Energia':media,'Mediana Da Produção De Energia':mediana})\n",
    "\n",
    "dados_usuarios.sort_values(\"Quantidade\", ascending=False).head(5)"
   ]
  },
  {
   "cell_type": "markdown",
   "metadata": {},
   "source": [
    "### VERIFICANDO AS MÉDIA E MEDIANA DA GERAÇÃO DE ENERGIA POR NOME DO ESTADO"
   ]
  },
  {
   "cell_type": "code",
   "execution_count": 128,
   "metadata": {},
   "outputs": [
    {
     "data": {
      "text/html": [
       "<div>\n",
       "<style scoped>\n",
       "    .dataframe tbody tr th:only-of-type {\n",
       "        vertical-align: middle;\n",
       "    }\n",
       "\n",
       "    .dataframe tbody tr th {\n",
       "        vertical-align: top;\n",
       "    }\n",
       "\n",
       "    .dataframe thead th {\n",
       "        text-align: right;\n",
       "    }\n",
       "</style>\n",
       "<table border=\"1\" class=\"dataframe\">\n",
       "  <thead>\n",
       "    <tr style=\"text-align: right;\">\n",
       "      <th></th>\n",
       "      <th>Quantidade</th>\n",
       "      <th>Média Da Produção De Energia</th>\n",
       "      <th>Mediana Da Produção De Energia</th>\n",
       "    </tr>\n",
       "    <tr>\n",
       "      <th>nom_estado</th>\n",
       "      <th></th>\n",
       "      <th></th>\n",
       "      <th></th>\n",
       "    </tr>\n",
       "  </thead>\n",
       "  <tbody>\n",
       "    <tr>\n",
       "      <th>SAO PAULO</th>\n",
       "      <td>6331095</td>\n",
       "      <td>193.083382</td>\n",
       "      <td>47.787</td>\n",
       "    </tr>\n",
       "    <tr>\n",
       "      <th>MINAS GERAIS</th>\n",
       "      <td>5147416</td>\n",
       "      <td>190.581203</td>\n",
       "      <td>71.270</td>\n",
       "    </tr>\n",
       "    <tr>\n",
       "      <th>RIO GRANDE DO SUL</th>\n",
       "      <td>4430668</td>\n",
       "      <td>59.137024</td>\n",
       "      <td>17.870</td>\n",
       "    </tr>\n",
       "    <tr>\n",
       "      <th>BAHIA</th>\n",
       "      <td>3735082</td>\n",
       "      <td>104.800233</td>\n",
       "      <td>19.000</td>\n",
       "    </tr>\n",
       "    <tr>\n",
       "      <th>CEARA</th>\n",
       "      <td>2952267</td>\n",
       "      <td>32.650226</td>\n",
       "      <td>1.211</td>\n",
       "    </tr>\n",
       "  </tbody>\n",
       "</table>\n",
       "</div>"
      ],
      "text/plain": [
       "                   Quantidade  Média Da Produção De Energia  \\\n",
       "nom_estado                                                    \n",
       "SAO PAULO             6331095                    193.083382   \n",
       "MINAS GERAIS          5147416                    190.581203   \n",
       "RIO GRANDE DO SUL     4430668                     59.137024   \n",
       "BAHIA                 3735082                    104.800233   \n",
       "CEARA                 2952267                     32.650226   \n",
       "\n",
       "                   Mediana Da Produção De Energia  \n",
       "nom_estado                                         \n",
       "SAO PAULO                                  47.787  \n",
       "MINAS GERAIS                               71.270  \n",
       "RIO GRANDE DO SUL                          17.870  \n",
       "BAHIA                                      19.000  \n",
       "CEARA                                       1.211  "
      ]
     },
     "execution_count": 128,
     "metadata": {},
     "output_type": "execute_result"
    }
   ],
   "source": [
    "Quantidade = tabelas_mescladas.groupby([\"nom_estado\"])[\"val_geracao\"].count().rename('Quantidade')\n",
    "media = tabelas_mescladas.groupby(['nom_estado'])['val_geracao'].mean().rename('Média Da Produção De Energia')\n",
    "mediana =tabelas_mescladas.groupby(['nom_estado'])['val_geracao'].median().rename('Mediana Da Produção De Energia')\n",
    "\n",
    "# Dataframe para os resultados\n",
    "dados_usuarios = pd.DataFrame({\"Quantidade\":Quantidade,'Média Da Produção De Energia':media,'Mediana Da Produção De Energia':mediana})\n",
    "\n",
    "dados_usuarios.sort_values(\"Quantidade\", ascending=False).head(5)"
   ]
  },
  {
   "cell_type": "markdown",
   "metadata": {},
   "source": [
    "### VERIFICANDO AS MÉDIA E MEDIANA DA GERAÇÃO DE ENERGIA POR MODELIDADE DE OPERAÇÃO"
   ]
  },
  {
   "cell_type": "code",
   "execution_count": 129,
   "metadata": {},
   "outputs": [
    {
     "data": {
      "text/html": [
       "<div>\n",
       "<style scoped>\n",
       "    .dataframe tbody tr th:only-of-type {\n",
       "        vertical-align: middle;\n",
       "    }\n",
       "\n",
       "    .dataframe tbody tr th {\n",
       "        vertical-align: top;\n",
       "    }\n",
       "\n",
       "    .dataframe thead th {\n",
       "        text-align: right;\n",
       "    }\n",
       "</style>\n",
       "<table border=\"1\" class=\"dataframe\">\n",
       "  <thead>\n",
       "    <tr style=\"text-align: right;\">\n",
       "      <th></th>\n",
       "      <th>Quantidade</th>\n",
       "      <th>Média Da Produção De Energia</th>\n",
       "      <th>Mediana Da Produção De Energia</th>\n",
       "    </tr>\n",
       "    <tr>\n",
       "      <th>cod_modalidadeoperacao</th>\n",
       "      <th></th>\n",
       "      <th></th>\n",
       "      <th></th>\n",
       "    </tr>\n",
       "  </thead>\n",
       "  <tbody>\n",
       "    <tr>\n",
       "      <th>TIPO I</th>\n",
       "      <td>28967573</td>\n",
       "      <td>270.399202</td>\n",
       "      <td>68.0000</td>\n",
       "    </tr>\n",
       "    <tr>\n",
       "      <th>TIPO III</th>\n",
       "      <td>4562991</td>\n",
       "      <td>16.402551</td>\n",
       "      <td>1.0000</td>\n",
       "    </tr>\n",
       "    <tr>\n",
       "      <th>Conjunto de Usinas</th>\n",
       "      <td>2914538</td>\n",
       "      <td>52.564609</td>\n",
       "      <td>39.6675</td>\n",
       "    </tr>\n",
       "    <tr>\n",
       "      <th>Pequenas Usinas (Tipo III)</th>\n",
       "      <td>2490865</td>\n",
       "      <td>57.650071</td>\n",
       "      <td>30.9700</td>\n",
       "    </tr>\n",
       "    <tr>\n",
       "      <th>TIPO II-C</th>\n",
       "      <td>2346082</td>\n",
       "      <td>13.096307</td>\n",
       "      <td>8.4680</td>\n",
       "    </tr>\n",
       "  </tbody>\n",
       "</table>\n",
       "</div>"
      ],
      "text/plain": [
       "                            Quantidade  Média Da Produção De Energia  \\\n",
       "cod_modalidadeoperacao                                                 \n",
       "TIPO I                        28967573                    270.399202   \n",
       "TIPO III                       4562991                     16.402551   \n",
       "Conjunto de Usinas             2914538                     52.564609   \n",
       "Pequenas Usinas (Tipo III)     2490865                     57.650071   \n",
       "TIPO II-C                      2346082                     13.096307   \n",
       "\n",
       "                            Mediana Da Produção De Energia  \n",
       "cod_modalidadeoperacao                                      \n",
       "TIPO I                                             68.0000  \n",
       "TIPO III                                            1.0000  \n",
       "Conjunto de Usinas                                 39.6675  \n",
       "Pequenas Usinas (Tipo III)                         30.9700  \n",
       "TIPO II-C                                           8.4680  "
      ]
     },
     "execution_count": 129,
     "metadata": {},
     "output_type": "execute_result"
    }
   ],
   "source": [
    "Quantidade = tabelas_mescladas.groupby([\"cod_modalidadeoperacao\"])[\"val_geracao\"].count().rename('Quantidade')\n",
    "media = tabelas_mescladas.groupby(['cod_modalidadeoperacao'])['val_geracao'].mean().rename('Média Da Produção De Energia')\n",
    "mediana =tabelas_mescladas.groupby(['cod_modalidadeoperacao'])['val_geracao'].median().rename('Mediana Da Produção De Energia')\n",
    "\n",
    "# Dataframe para os resultados\n",
    "dados_usuarios = pd.DataFrame({\"Quantidade\":Quantidade,'Média Da Produção De Energia':media,'Mediana Da Produção De Energia':mediana})\n",
    "\n",
    "dados_usuarios.sort_values(\"Quantidade\", ascending=False).head(5)"
   ]
  },
  {
   "cell_type": "markdown",
   "metadata": {},
   "source": [
    "### VERIFICANDO AS MÉDIA E MEDIANA DA GERAÇÃO DE ENERGIA POR TIPO DE USINA"
   ]
  },
  {
   "cell_type": "code",
   "execution_count": 130,
   "metadata": {},
   "outputs": [
    {
     "data": {
      "text/html": [
       "<div>\n",
       "<style scoped>\n",
       "    .dataframe tbody tr th:only-of-type {\n",
       "        vertical-align: middle;\n",
       "    }\n",
       "\n",
       "    .dataframe tbody tr th {\n",
       "        vertical-align: top;\n",
       "    }\n",
       "\n",
       "    .dataframe thead th {\n",
       "        text-align: right;\n",
       "    }\n",
       "</style>\n",
       "<table border=\"1\" class=\"dataframe\">\n",
       "  <thead>\n",
       "    <tr style=\"text-align: right;\">\n",
       "      <th></th>\n",
       "      <th>Quantidade</th>\n",
       "      <th>Média Da Produção De Energia</th>\n",
       "      <th>Mediana Da Produção De Energia</th>\n",
       "    </tr>\n",
       "    <tr>\n",
       "      <th>nom_tipousina</th>\n",
       "      <th></th>\n",
       "      <th></th>\n",
       "      <th></th>\n",
       "    </tr>\n",
       "  </thead>\n",
       "  <tbody>\n",
       "    <tr>\n",
       "      <th>HIDROELÉTRICA</th>\n",
       "      <td>23928303</td>\n",
       "      <td>291.247831</td>\n",
       "      <td>68.0300</td>\n",
       "    </tr>\n",
       "    <tr>\n",
       "      <th>TÉRMICA</th>\n",
       "      <td>14970914</td>\n",
       "      <td>59.091378</td>\n",
       "      <td>0.0000</td>\n",
       "    </tr>\n",
       "    <tr>\n",
       "      <th>EOLIELÉTRICA</th>\n",
       "      <td>4911012</td>\n",
       "      <td>32.177199</td>\n",
       "      <td>17.8640</td>\n",
       "    </tr>\n",
       "    <tr>\n",
       "      <th>NUCLEAR</th>\n",
       "      <td>314940</td>\n",
       "      <td>805.452736</td>\n",
       "      <td>646.3345</td>\n",
       "    </tr>\n",
       "    <tr>\n",
       "      <th>FOTOVOLTAICA</th>\n",
       "      <td>187940</td>\n",
       "      <td>17.497833</td>\n",
       "      <td>0.0000</td>\n",
       "    </tr>\n",
       "  </tbody>\n",
       "</table>\n",
       "</div>"
      ],
      "text/plain": [
       "               Quantidade  Média Da Produção De Energia  \\\n",
       "nom_tipousina                                             \n",
       "HIDROELÉTRICA    23928303                    291.247831   \n",
       "TÉRMICA          14970914                     59.091378   \n",
       "EOLIELÉTRICA      4911012                     32.177199   \n",
       "NUCLEAR            314940                    805.452736   \n",
       "FOTOVOLTAICA       187940                     17.497833   \n",
       "\n",
       "               Mediana Da Produção De Energia  \n",
       "nom_tipousina                                  \n",
       "HIDROELÉTRICA                         68.0300  \n",
       "TÉRMICA                                0.0000  \n",
       "EOLIELÉTRICA                          17.8640  \n",
       "NUCLEAR                              646.3345  \n",
       "FOTOVOLTAICA                           0.0000  "
      ]
     },
     "execution_count": 130,
     "metadata": {},
     "output_type": "execute_result"
    }
   ],
   "source": [
    "Quantidade = tabelas_mescladas.groupby([\"nom_tipousina\"])[\"val_geracao\"].count().rename('Quantidade')\n",
    "media = tabelas_mescladas.groupby(['nom_tipousina'])['val_geracao'].mean().rename('Média Da Produção De Energia')\n",
    "mediana =tabelas_mescladas.groupby(['nom_tipousina'])['val_geracao'].median().rename('Mediana Da Produção De Energia')\n",
    "\n",
    "# Dataframe para os resultados\n",
    "dados_usuarios = pd.DataFrame({\"Quantidade\":Quantidade,'Média Da Produção De Energia':media,'Mediana Da Produção De Energia':mediana})\n",
    "\n",
    "dados_usuarios.sort_values(\"Quantidade\", ascending=False).head(5)"
   ]
  },
  {
   "cell_type": "markdown",
   "metadata": {},
   "source": [
    "### VERIFICANDO AS MÉDIA E MEDIANA DA GERAÇÃO DE ENERGIA POR TIPO DE COMBUSTIVEL"
   ]
  },
  {
   "cell_type": "code",
   "execution_count": 131,
   "metadata": {},
   "outputs": [
    {
     "data": {
      "text/html": [
       "<div>\n",
       "<style scoped>\n",
       "    .dataframe tbody tr th:only-of-type {\n",
       "        vertical-align: middle;\n",
       "    }\n",
       "\n",
       "    .dataframe tbody tr th {\n",
       "        vertical-align: top;\n",
       "    }\n",
       "\n",
       "    .dataframe thead th {\n",
       "        text-align: right;\n",
       "    }\n",
       "</style>\n",
       "<table border=\"1\" class=\"dataframe\">\n",
       "  <thead>\n",
       "    <tr style=\"text-align: right;\">\n",
       "      <th></th>\n",
       "      <th>Quantidade</th>\n",
       "      <th>Média Da Produção De Energia</th>\n",
       "      <th>Mediana Da Produção De Energia</th>\n",
       "    </tr>\n",
       "    <tr>\n",
       "      <th>nom_tipo_combustivel</th>\n",
       "      <th></th>\n",
       "      <th></th>\n",
       "      <th></th>\n",
       "    </tr>\n",
       "  </thead>\n",
       "  <tbody>\n",
       "    <tr>\n",
       "      <th>Hidráulica</th>\n",
       "      <td>23945989</td>\n",
       "      <td>291.032729</td>\n",
       "      <td>68.000</td>\n",
       "    </tr>\n",
       "    <tr>\n",
       "      <th>Eólica</th>\n",
       "      <td>4911012</td>\n",
       "      <td>32.177199</td>\n",
       "      <td>17.864</td>\n",
       "    </tr>\n",
       "    <tr>\n",
       "      <th>Óleo Diesel</th>\n",
       "      <td>4492013</td>\n",
       "      <td>8.754909</td>\n",
       "      <td>0.000</td>\n",
       "    </tr>\n",
       "    <tr>\n",
       "      <th>Gás</th>\n",
       "      <td>4203898</td>\n",
       "      <td>122.555867</td>\n",
       "      <td>23.100</td>\n",
       "    </tr>\n",
       "    <tr>\n",
       "      <th>Óleo Combustível</th>\n",
       "      <td>2341552</td>\n",
       "      <td>25.366313</td>\n",
       "      <td>0.000</td>\n",
       "    </tr>\n",
       "  </tbody>\n",
       "</table>\n",
       "</div>"
      ],
      "text/plain": [
       "                      Quantidade  Média Da Produção De Energia  \\\n",
       "nom_tipo_combustivel                                             \n",
       "Hidráulica              23945989                    291.032729   \n",
       "Eólica                   4911012                     32.177199   \n",
       "Óleo Diesel              4492013                      8.754909   \n",
       "Gás                      4203898                    122.555867   \n",
       "Óleo Combustível         2341552                     25.366313   \n",
       "\n",
       "                      Mediana Da Produção De Energia  \n",
       "nom_tipo_combustivel                                  \n",
       "Hidráulica                                    68.000  \n",
       "Eólica                                        17.864  \n",
       "Óleo Diesel                                    0.000  \n",
       "Gás                                           23.100  \n",
       "Óleo Combustível                               0.000  "
      ]
     },
     "execution_count": 131,
     "metadata": {},
     "output_type": "execute_result"
    }
   ],
   "source": [
    "Quantidade = tabelas_mescladas.groupby([\"nom_tipo_combustivel\"])[\"val_geracao\"].count().rename('Quantidade')\n",
    "media = tabelas_mescladas.groupby(['nom_tipo_combustivel'])['val_geracao'].mean().rename('Média Da Produção De Energia')\n",
    "mediana =tabelas_mescladas.groupby(['nom_tipo_combustivel'])['val_geracao'].median().rename('Mediana Da Produção De Energia')\n",
    "\n",
    "# Dataframe para os resultados\n",
    "dados_usuarios = pd.DataFrame({\"Quantidade\":Quantidade,'Média Da Produção De Energia':media,'Mediana Da Produção De Energia':mediana})\n",
    "\n",
    "dados_usuarios.sort_values(\"Quantidade\", ascending=False).head(5)"
   ]
  },
  {
   "cell_type": "markdown",
   "metadata": {},
   "source": [
    "#### A ENERGIA QUE MAIS PRODUZIU FOI A ENERGIA HIDROELÉTRICA, MAS VAMOS FAZER UMA BREVE ANÁLISE EM QUAL ESTADO E A MODELIDADE DE OPERAÇÃO MAIS UTILIZADO"
   ]
  },
  {
   "cell_type": "code",
   "execution_count": 132,
   "metadata": {},
   "outputs": [
    {
     "data": {
      "text/html": [
       "<div>\n",
       "<style scoped>\n",
       "    .dataframe tbody tr th:only-of-type {\n",
       "        vertical-align: middle;\n",
       "    }\n",
       "\n",
       "    .dataframe tbody tr th {\n",
       "        vertical-align: top;\n",
       "    }\n",
       "\n",
       "    .dataframe thead th {\n",
       "        text-align: right;\n",
       "    }\n",
       "</style>\n",
       "<table border=\"1\" class=\"dataframe\">\n",
       "  <thead>\n",
       "    <tr style=\"text-align: right;\">\n",
       "      <th></th>\n",
       "      <th>din_instante</th>\n",
       "      <th>nom_subsistema</th>\n",
       "      <th>nom_estado</th>\n",
       "      <th>cod_modalidadeoperacao</th>\n",
       "      <th>nom_tipousina</th>\n",
       "      <th>nom_tipo_combustivel</th>\n",
       "      <th>nom_usina</th>\n",
       "      <th>val_geracao</th>\n",
       "    </tr>\n",
       "  </thead>\n",
       "  <tbody>\n",
       "    <tr>\n",
       "      <th>7063</th>\n",
       "      <td>2000-03-01 15:00:00</td>\n",
       "      <td>SUDESTE</td>\n",
       "      <td>RIO DE JANEIRO</td>\n",
       "      <td>TIPO I</td>\n",
       "      <td>HIDROELÉTRICA</td>\n",
       "      <td>Hidráulica</td>\n",
       "      <td>Funil (Paraíba do Sul)</td>\n",
       "      <td>0.4</td>\n",
       "    </tr>\n",
       "    <tr>\n",
       "      <th>7283</th>\n",
       "      <td>2000-03-01 17:00:00</td>\n",
       "      <td>SUDESTE</td>\n",
       "      <td>RIO DE JANEIRO</td>\n",
       "      <td>TIPO I</td>\n",
       "      <td>HIDROELÉTRICA</td>\n",
       "      <td>Hidráulica</td>\n",
       "      <td>Funil (Paraíba do Sul)</td>\n",
       "      <td>0.2</td>\n",
       "    </tr>\n",
       "    <tr>\n",
       "      <th>7731</th>\n",
       "      <td>2000-03-01 21:00:00</td>\n",
       "      <td>SUDESTE</td>\n",
       "      <td>RIO DE JANEIRO</td>\n",
       "      <td>TIPO I</td>\n",
       "      <td>HIDROELÉTRICA</td>\n",
       "      <td>Hidráulica</td>\n",
       "      <td>Funil (Paraíba do Sul)</td>\n",
       "      <td>0.7</td>\n",
       "    </tr>\n",
       "    <tr>\n",
       "      <th>8171</th>\n",
       "      <td>2000-04-01 01:00:00</td>\n",
       "      <td>SUDESTE</td>\n",
       "      <td>RIO DE JANEIRO</td>\n",
       "      <td>TIPO I</td>\n",
       "      <td>HIDROELÉTRICA</td>\n",
       "      <td>Hidráulica</td>\n",
       "      <td>Funil (Paraíba do Sul)</td>\n",
       "      <td>0.3</td>\n",
       "    </tr>\n",
       "    <tr>\n",
       "      <th>15082</th>\n",
       "      <td>2000-06-01 15:00:00</td>\n",
       "      <td>SUDESTE</td>\n",
       "      <td>SAO PAULO</td>\n",
       "      <td>TIPO I</td>\n",
       "      <td>HIDROELÉTRICA</td>\n",
       "      <td>Hidráulica</td>\n",
       "      <td>Limoeiro</td>\n",
       "      <td>0.9</td>\n",
       "    </tr>\n",
       "  </tbody>\n",
       "</table>\n",
       "</div>"
      ],
      "text/plain": [
       "             din_instante nom_subsistema      nom_estado  \\\n",
       "7063  2000-03-01 15:00:00        SUDESTE  RIO DE JANEIRO   \n",
       "7283  2000-03-01 17:00:00        SUDESTE  RIO DE JANEIRO   \n",
       "7731  2000-03-01 21:00:00        SUDESTE  RIO DE JANEIRO   \n",
       "8171  2000-04-01 01:00:00        SUDESTE  RIO DE JANEIRO   \n",
       "15082 2000-06-01 15:00:00        SUDESTE       SAO PAULO   \n",
       "\n",
       "      cod_modalidadeoperacao  nom_tipousina nom_tipo_combustivel  \\\n",
       "7063                  TIPO I  HIDROELÉTRICA           Hidráulica   \n",
       "7283                  TIPO I  HIDROELÉTRICA           Hidráulica   \n",
       "7731                  TIPO I  HIDROELÉTRICA           Hidráulica   \n",
       "8171                  TIPO I  HIDROELÉTRICA           Hidráulica   \n",
       "15082                 TIPO I  HIDROELÉTRICA           Hidráulica   \n",
       "\n",
       "                    nom_usina  val_geracao  \n",
       "7063   Funil (Paraíba do Sul)          0.4  \n",
       "7283   Funil (Paraíba do Sul)          0.2  \n",
       "7731   Funil (Paraíba do Sul)          0.7  \n",
       "8171   Funil (Paraíba do Sul)          0.3  \n",
       "15082                Limoeiro          0.9  "
      ]
     },
     "execution_count": 132,
     "metadata": {},
     "output_type": "execute_result"
    }
   ],
   "source": [
    "hidroeletrica = tabelas_mescladas.loc[tabelas_mescladas['nom_tipousina'] == 'HIDROELÉTRICA']\n",
    "hidroeletrica.head()"
   ]
  },
  {
   "cell_type": "code",
   "execution_count": 133,
   "metadata": {},
   "outputs": [
    {
     "data": {
      "image/png": "[encoded data removed]",
      "text/plain": [
       "<Figure size 2500x1500 with 1 Axes>"
      ]
     },
     "metadata": {},
     "output_type": "display_data"
    }
   ],
   "source": [
    "x = hidroeletrica['cod_modalidadeoperacao'].value_counts().values \n",
    "y = hidroeletrica['cod_modalidadeoperacao'].value_counts().index\n",
    "sns.barplot( x=x, y=y ) \n",
    "plt.show()"
   ]
  },
  {
   "cell_type": "code",
   "execution_count": 134,
   "metadata": {},
   "outputs": [
    {
     "data": {
      "image/png": "[encoded data removed]",
      "text/plain": [
       "<Figure size 2500x1500 with 1 Axes>"
      ]
     },
     "metadata": {},
     "output_type": "display_data"
    }
   ],
   "source": [
    "x = hidroeletrica['nom_estado'].value_counts().values \n",
    "y = hidroeletrica['nom_estado'].value_counts().index\n",
    "sns.barplot( x=x, y=y ) \n",
    "plt.show()"
   ]
  },
  {
   "cell_type": "markdown",
   "metadata": {},
   "source": [
    "### MÉDIA DE PRODUÇÃO DE ENERGIA HIDROELÉTRICA"
   ]
  },
  {
   "cell_type": "code",
   "execution_count": 135,
   "metadata": {},
   "outputs": [
    {
     "data": {
      "text/html": [
       "<div>\n",
       "<style scoped>\n",
       "    .dataframe tbody tr th:only-of-type {\n",
       "        vertical-align: middle;\n",
       "    }\n",
       "\n",
       "    .dataframe tbody tr th {\n",
       "        vertical-align: top;\n",
       "    }\n",
       "\n",
       "    .dataframe thead th {\n",
       "        text-align: right;\n",
       "    }\n",
       "</style>\n",
       "<table border=\"1\" class=\"dataframe\">\n",
       "  <thead>\n",
       "    <tr style=\"text-align: right;\">\n",
       "      <th></th>\n",
       "      <th>Quantidade</th>\n",
       "      <th>Média Da Produção De Energia</th>\n",
       "      <th>Mediana Da Produção De Energia</th>\n",
       "    </tr>\n",
       "    <tr>\n",
       "      <th>nom_estado</th>\n",
       "      <th></th>\n",
       "      <th></th>\n",
       "      <th></th>\n",
       "    </tr>\n",
       "  </thead>\n",
       "  <tbody>\n",
       "    <tr>\n",
       "      <th>z - INTERNACIONAL</th>\n",
       "      <td>157470</td>\n",
       "      <td>4500.987302</td>\n",
       "      <td>4690.704</td>\n",
       "    </tr>\n",
       "    <tr>\n",
       "      <th>ALAGOAS</th>\n",
       "      <td>157470</td>\n",
       "      <td>1699.203289</td>\n",
       "      <td>1674.900</td>\n",
       "    </tr>\n",
       "    <tr>\n",
       "      <th>PARA</th>\n",
       "      <td>492999</td>\n",
       "      <td>1336.888552</td>\n",
       "      <td>30.390</td>\n",
       "    </tr>\n",
       "    <tr>\n",
       "      <th>PARANA</th>\n",
       "      <td>1700259</td>\n",
       "      <td>826.721827</td>\n",
       "      <td>244.028</td>\n",
       "    </tr>\n",
       "    <tr>\n",
       "      <th>PERNAMBUCO</th>\n",
       "      <td>157471</td>\n",
       "      <td>690.017669</td>\n",
       "      <td>663.000</td>\n",
       "    </tr>\n",
       "  </tbody>\n",
       "</table>\n",
       "</div>"
      ],
      "text/plain": [
       "                   Quantidade  Média Da Produção De Energia  \\\n",
       "nom_estado                                                    \n",
       "z - INTERNACIONAL      157470                   4500.987302   \n",
       "ALAGOAS                157470                   1699.203289   \n",
       "PARA                   492999                   1336.888552   \n",
       "PARANA                1700259                    826.721827   \n",
       "PERNAMBUCO             157471                    690.017669   \n",
       "\n",
       "                   Mediana Da Produção De Energia  \n",
       "nom_estado                                         \n",
       "z - INTERNACIONAL                        4690.704  \n",
       "ALAGOAS                                  1674.900  \n",
       "PARA                                       30.390  \n",
       "PARANA                                    244.028  \n",
       "PERNAMBUCO                                663.000  "
      ]
     },
     "execution_count": 135,
     "metadata": {},
     "output_type": "execute_result"
    }
   ],
   "source": [
    "Quantidade = hidroeletrica.groupby([\"nom_estado\"])[\"val_geracao\"].count().rename('Quantidade')\n",
    "media = hidroeletrica.groupby(['nom_estado'])['val_geracao'].mean().rename('Média Da Produção De Energia')\n",
    "mediana =hidroeletrica.groupby(['nom_estado'])['val_geracao'].median().rename('Mediana Da Produção De Energia')\n",
    "\n",
    "# Dataframe para os resultados\n",
    "dados_usuarios = pd.DataFrame({\"Quantidade\":Quantidade,'Média Da Produção De Energia':media,'Mediana Da Produção De Energia':mediana})\n",
    "\n",
    "dados_usuarios.sort_values(\"Média Da Produção De Energia\", ascending=False).head(5)"
   ]
  },
  {
   "cell_type": "markdown",
   "metadata": {},
   "source": [
    "# CONSTRUÇÃO DA MAQUINA PREDITIVA"
   ]
  },
  {
   "cell_type": "markdown",
   "metadata": {},
   "source": [
    "## PRÉ-PROCESSAMENTO"
   ]
  },
  {
   "cell_type": "code",
   "execution_count": 136,
   "metadata": {},
   "outputs": [
    {
     "data": {
      "text/html": [
       "<div>\n",
       "<style scoped>\n",
       "    .dataframe tbody tr th:only-of-type {\n",
       "        vertical-align: middle;\n",
       "    }\n",
       "\n",
       "    .dataframe tbody tr th {\n",
       "        vertical-align: top;\n",
       "    }\n",
       "\n",
       "    .dataframe thead th {\n",
       "        text-align: right;\n",
       "    }\n",
       "</style>\n",
       "<table border=\"1\" class=\"dataframe\">\n",
       "  <thead>\n",
       "    <tr style=\"text-align: right;\">\n",
       "      <th></th>\n",
       "      <th>din_instante</th>\n",
       "      <th>nom_subsistema</th>\n",
       "      <th>nom_estado</th>\n",
       "      <th>cod_modalidadeoperacao</th>\n",
       "      <th>nom_tipousina</th>\n",
       "      <th>nom_tipo_combustivel</th>\n",
       "      <th>nom_usina</th>\n",
       "      <th>val_geracao</th>\n",
       "    </tr>\n",
       "  </thead>\n",
       "  <tbody>\n",
       "    <tr>\n",
       "      <th>4288651</th>\n",
       "      <td>2018-12-31 23:00:00</td>\n",
       "      <td>SUDESTE</td>\n",
       "      <td>SAO PAULO</td>\n",
       "      <td>TIPO III</td>\n",
       "      <td>TÉRMICA</td>\n",
       "      <td>Biomassa</td>\n",
       "      <td>Colorado</td>\n",
       "      <td>21.000</td>\n",
       "    </tr>\n",
       "    <tr>\n",
       "      <th>4288652</th>\n",
       "      <td>2018-12-31 23:00:00</td>\n",
       "      <td>SUDESTE</td>\n",
       "      <td>SAO PAULO</td>\n",
       "      <td>TIPO III</td>\n",
       "      <td>TÉRMICA</td>\n",
       "      <td>Biomassa</td>\n",
       "      <td>Guarani Cruz Alta</td>\n",
       "      <td>13.000</td>\n",
       "    </tr>\n",
       "    <tr>\n",
       "      <th>4288653</th>\n",
       "      <td>2018-12-31 23:00:00</td>\n",
       "      <td>SUDESTE</td>\n",
       "      <td>TOCANTINS</td>\n",
       "      <td>TIPO I</td>\n",
       "      <td>HIDROELÉTRICA</td>\n",
       "      <td>Hidráulica</td>\n",
       "      <td>São Salvador</td>\n",
       "      <td>119.600</td>\n",
       "    </tr>\n",
       "    <tr>\n",
       "      <th>4288654</th>\n",
       "      <td>2018-12-31 23:00:00</td>\n",
       "      <td>SUDESTE</td>\n",
       "      <td>TOCANTINS</td>\n",
       "      <td>TIPO I</td>\n",
       "      <td>HIDROELÉTRICA</td>\n",
       "      <td>Hidráulica</td>\n",
       "      <td>Lajeado</td>\n",
       "      <td>476.403</td>\n",
       "    </tr>\n",
       "    <tr>\n",
       "      <th>4288655</th>\n",
       "      <td>2018-12-31 23:00:00</td>\n",
       "      <td>SUDESTE</td>\n",
       "      <td>TOCANTINS</td>\n",
       "      <td>TIPO I</td>\n",
       "      <td>HIDROELÉTRICA</td>\n",
       "      <td>Hidráulica</td>\n",
       "      <td>Peixe Angical</td>\n",
       "      <td>301.851</td>\n",
       "    </tr>\n",
       "  </tbody>\n",
       "</table>\n",
       "</div>"
      ],
      "text/plain": [
       "               din_instante nom_subsistema nom_estado cod_modalidadeoperacao  \\\n",
       "4288651 2018-12-31 23:00:00        SUDESTE  SAO PAULO               TIPO III   \n",
       "4288652 2018-12-31 23:00:00        SUDESTE  SAO PAULO               TIPO III   \n",
       "4288653 2018-12-31 23:00:00        SUDESTE  TOCANTINS                 TIPO I   \n",
       "4288654 2018-12-31 23:00:00        SUDESTE  TOCANTINS                 TIPO I   \n",
       "4288655 2018-12-31 23:00:00        SUDESTE  TOCANTINS                 TIPO I   \n",
       "\n",
       "         nom_tipousina nom_tipo_combustivel          nom_usina  val_geracao  \n",
       "4288651        TÉRMICA             Biomassa           Colorado       21.000  \n",
       "4288652        TÉRMICA             Biomassa  Guarani Cruz Alta       13.000  \n",
       "4288653  HIDROELÉTRICA           Hidráulica       São Salvador      119.600  \n",
       "4288654  HIDROELÉTRICA           Hidráulica            Lajeado      476.403  \n",
       "4288655  HIDROELÉTRICA           Hidráulica      Peixe Angical      301.851  "
      ]
     },
     "execution_count": 136,
     "metadata": {},
     "output_type": "execute_result"
    }
   ],
   "source": [
    "tabelas_mescladas.tail()"
   ]
  },
  {
   "cell_type": "code",
   "execution_count": 137,
   "metadata": {},
   "outputs": [],
   "source": [
    "del tabelas_mescladas['nom_usina']"
   ]
  },
  {
   "cell_type": "code",
   "execution_count": 138,
   "metadata": {},
   "outputs": [
    {
     "data": {
      "text/html": [
       "<div>\n",
       "<style scoped>\n",
       "    .dataframe tbody tr th:only-of-type {\n",
       "        vertical-align: middle;\n",
       "    }\n",
       "\n",
       "    .dataframe tbody tr th {\n",
       "        vertical-align: top;\n",
       "    }\n",
       "\n",
       "    .dataframe thead th {\n",
       "        text-align: right;\n",
       "    }\n",
       "</style>\n",
       "<table border=\"1\" class=\"dataframe\">\n",
       "  <thead>\n",
       "    <tr style=\"text-align: right;\">\n",
       "      <th></th>\n",
       "      <th>din_instante</th>\n",
       "      <th>nom_subsistema</th>\n",
       "      <th>nom_estado</th>\n",
       "      <th>cod_modalidadeoperacao</th>\n",
       "      <th>nom_tipousina</th>\n",
       "      <th>nom_tipo_combustivel</th>\n",
       "      <th>val_geracao</th>\n",
       "    </tr>\n",
       "  </thead>\n",
       "  <tbody>\n",
       "    <tr>\n",
       "      <th>7063</th>\n",
       "      <td>2000-03-01 15:00:00</td>\n",
       "      <td>SUDESTE</td>\n",
       "      <td>RIO DE JANEIRO</td>\n",
       "      <td>TIPO I</td>\n",
       "      <td>HIDROELÉTRICA</td>\n",
       "      <td>Hidráulica</td>\n",
       "      <td>0.4</td>\n",
       "    </tr>\n",
       "  </tbody>\n",
       "</table>\n",
       "</div>"
      ],
      "text/plain": [
       "            din_instante nom_subsistema      nom_estado  \\\n",
       "7063 2000-03-01 15:00:00        SUDESTE  RIO DE JANEIRO   \n",
       "\n",
       "     cod_modalidadeoperacao  nom_tipousina nom_tipo_combustivel  val_geracao  \n",
       "7063                 TIPO I  HIDROELÉTRICA           Hidráulica          0.4  "
      ]
     },
     "execution_count": 138,
     "metadata": {},
     "output_type": "execute_result"
    }
   ],
   "source": [
    "tabelas_mescladas.head(1)"
   ]
  },
  {
   "cell_type": "code",
   "execution_count": 139,
   "metadata": {},
   "outputs": [],
   "source": [
    "lb = LabelEncoder()\n",
    "\n",
    "# Aplica o encoder nas variáveis que estão com string\n",
    "tabelas_mescladas['nom_subsistema'] = lb.fit_transform(tabelas_mescladas['nom_subsistema'])\n",
    "tabelas_mescladas['nom_estado'] = lb.fit_transform(tabelas_mescladas['nom_estado'])\n",
    "tabelas_mescladas['nom_tipousina'] = lb.fit_transform(tabelas_mescladas['nom_tipousina'])\n",
    "tabelas_mescladas['nom_tipo_combustivel'] = lb.fit_transform(tabelas_mescladas['nom_tipo_combustivel'])\n",
    "tabelas_mescladas['cod_modalidadeoperacao'] = lb.fit_transform(tabelas_mescladas['cod_modalidadeoperacao'])\n",
    "# Remove valores missing eventualmente gerados\n",
    "tabelas_mescladas.dropna(inplace = True)"
   ]
  },
  {
   "cell_type": "code",
   "execution_count": 140,
   "metadata": {},
   "outputs": [],
   "source": [
    "#Separa X e y  \n",
    "X = tabelas_mescladas[['nom_subsistema','nom_estado','cod_modalidadeoperacao','nom_tipousina','nom_tipo_combustivel']]\n",
    "y = tabelas_mescladas.iloc[:, -1]"
   ]
  },
  {
   "cell_type": "code",
   "execution_count": 141,
   "metadata": {},
   "outputs": [
    {
     "name": "stdout",
     "output_type": "stream",
     "text": [
      "<class 'pandas.core.frame.DataFrame'>\n",
      "Index: 44330795 entries, 7063 to 4288655\n",
      "Data columns (total 5 columns):\n",
      " #   Column                  Dtype\n",
      "---  ------                  -----\n",
      " 0   nom_subsistema          int32\n",
      " 1   nom_estado              int32\n",
      " 2   cod_modalidadeoperacao  int32\n",
      " 3   nom_tipousina           int32\n",
      " 4   nom_tipo_combustivel    int32\n",
      "dtypes: int32(5)\n",
      "memory usage: 1.2 GB\n"
     ]
    }
   ],
   "source": [
    "X.info()"
   ]
  },
  {
   "cell_type": "code",
   "execution_count": 142,
   "metadata": {},
   "outputs": [
    {
     "data": {
      "text/plain": [
       "7063    0.4\n",
       "Name: val_geracao, dtype: float64"
      ]
     },
     "execution_count": 142,
     "metadata": {},
     "output_type": "execute_result"
    }
   ],
   "source": [
    "y.head(1)"
   ]
  },
  {
   "cell_type": "code",
   "execution_count": 143,
   "metadata": {},
   "outputs": [
    {
     "data": {
      "image/png": "[encoded data removed]",
      "text/plain": [
       "<IPython.core.display.Image object>"
      ]
     },
     "metadata": {},
     "output_type": "display_data"
    }
   ],
   "source": [
    "from IPython.display import display, Image\n",
    "\n",
    "# Substitua 'caminho/para/sua/imagem.jpg' pelo caminho real para a sua imagem\n",
    "caminho_imagem = 'modelo importantes.PNG'\n",
    "\n",
    "# Exibir a imagem\n",
    "display(Image(filename=caminho_imagem))\n"
   ]
  },
  {
   "cell_type": "markdown",
   "metadata": {},
   "source": [
    "### AGRUPANDO OS DADOS POR ESTADO PARA A PREVISÃO"
   ]
  },
  {
   "cell_type": "code",
   "execution_count": 144,
   "metadata": {},
   "outputs": [
    {
     "data": {
      "text/html": [
       "<div>\n",
       "<style scoped>\n",
       "    .dataframe tbody tr th:only-of-type {\n",
       "        vertical-align: middle;\n",
       "    }\n",
       "\n",
       "    .dataframe tbody tr th {\n",
       "        vertical-align: top;\n",
       "    }\n",
       "\n",
       "    .dataframe thead th {\n",
       "        text-align: right;\n",
       "    }\n",
       "</style>\n",
       "<table border=\"1\" class=\"dataframe\">\n",
       "  <thead>\n",
       "    <tr style=\"text-align: right;\">\n",
       "      <th></th>\n",
       "      <th>din_instante</th>\n",
       "      <th>nom_estado</th>\n",
       "      <th>val_geracao</th>\n",
       "    </tr>\n",
       "  </thead>\n",
       "  <tbody>\n",
       "    <tr>\n",
       "      <th>7063</th>\n",
       "      <td>2000-03-01 15:00:00</td>\n",
       "      <td>18</td>\n",
       "      <td>0.4</td>\n",
       "    </tr>\n",
       "  </tbody>\n",
       "</table>\n",
       "</div>"
      ],
      "text/plain": [
       "            din_instante  nom_estado  val_geracao\n",
       "7063 2000-03-01 15:00:00          18          0.4"
      ]
     },
     "execution_count": 144,
     "metadata": {},
     "output_type": "execute_result"
    }
   ],
   "source": [
    "estado = tabelas_mescladas[['din_instante','nom_estado','val_geracao']]\n",
    "estado.head(1)"
   ]
  },
  {
   "cell_type": "markdown",
   "metadata": {},
   "source": [
    "### ALTERANDO OS NOMES DO INDEX E DA COLUNA "
   ]
  },
  {
   "cell_type": "code",
   "execution_count": 145,
   "metadata": {},
   "outputs": [],
   "source": [
    "estado = estado.rename(columns={'din_instante': 'ds'})"
   ]
  },
  {
   "cell_type": "code",
   "execution_count": 146,
   "metadata": {},
   "outputs": [],
   "source": [
    "estado = estado.rename(columns={'val_geracao': 'y'})\n"
   ]
  },
  {
   "cell_type": "code",
   "execution_count": 147,
   "metadata": {},
   "outputs": [
    {
     "data": {
      "text/html": [
       "<div>\n",
       "<style scoped>\n",
       "    .dataframe tbody tr th:only-of-type {\n",
       "        vertical-align: middle;\n",
       "    }\n",
       "\n",
       "    .dataframe tbody tr th {\n",
       "        vertical-align: top;\n",
       "    }\n",
       "\n",
       "    .dataframe thead th {\n",
       "        text-align: right;\n",
       "    }\n",
       "</style>\n",
       "<table border=\"1\" class=\"dataframe\">\n",
       "  <thead>\n",
       "    <tr style=\"text-align: right;\">\n",
       "      <th></th>\n",
       "      <th>ds</th>\n",
       "      <th>nom_estado</th>\n",
       "      <th>y</th>\n",
       "    </tr>\n",
       "  </thead>\n",
       "  <tbody>\n",
       "    <tr>\n",
       "      <th>7063</th>\n",
       "      <td>2000-03-01 15:00:00</td>\n",
       "      <td>18</td>\n",
       "      <td>0.4</td>\n",
       "    </tr>\n",
       "    <tr>\n",
       "      <th>7283</th>\n",
       "      <td>2000-03-01 17:00:00</td>\n",
       "      <td>18</td>\n",
       "      <td>0.2</td>\n",
       "    </tr>\n",
       "    <tr>\n",
       "      <th>7731</th>\n",
       "      <td>2000-03-01 21:00:00</td>\n",
       "      <td>18</td>\n",
       "      <td>0.7</td>\n",
       "    </tr>\n",
       "    <tr>\n",
       "      <th>8171</th>\n",
       "      <td>2000-04-01 01:00:00</td>\n",
       "      <td>18</td>\n",
       "      <td>0.3</td>\n",
       "    </tr>\n",
       "    <tr>\n",
       "      <th>15082</th>\n",
       "      <td>2000-06-01 15:00:00</td>\n",
       "      <td>23</td>\n",
       "      <td>0.9</td>\n",
       "    </tr>\n",
       "  </tbody>\n",
       "</table>\n",
       "</div>"
      ],
      "text/plain": [
       "                       ds  nom_estado    y\n",
       "7063  2000-03-01 15:00:00          18  0.4\n",
       "7283  2000-03-01 17:00:00          18  0.2\n",
       "7731  2000-03-01 21:00:00          18  0.7\n",
       "8171  2000-04-01 01:00:00          18  0.3\n",
       "15082 2000-06-01 15:00:00          23  0.9"
      ]
     },
     "execution_count": 147,
     "metadata": {},
     "output_type": "execute_result"
    }
   ],
   "source": [
    "estado.head()"
   ]
  },
  {
   "cell_type": "markdown",
   "metadata": {},
   "source": [
    "## Criado o modelo de IA\n",
    "**A MEMORIA ALOCADA NO MEU PC NÃO SUPORTOU A QUANTIDADE DE DADOS EXIGIDOS DE 2000 A 2018, TIVE QUE FAZER UMA AMOSTRA PRA TREINAR O MODELO**"
   ]
  },
  {
   "cell_type": "code",
   "execution_count": 148,
   "metadata": {},
   "outputs": [
    {
     "name": "stderr",
     "output_type": "stream",
     "text": [
      "10:57:12 - cmdstanpy - INFO - Chain [1] start processing\n",
      "11:08:28 - cmdstanpy - INFO - Chain [1] done processing\n"
     ]
    },
    {
     "data": {
      "text/plain": [
       "<prophet.forecaster.Prophet at 0x14fcccc3410>"
      ]
     },
     "execution_count": 148,
     "metadata": {},
     "output_type": "execute_result"
    }
   ],
   "source": [
    "# Biblioteca Prophet\n",
    "from prophet import Prophet\n",
    "\n",
    "# Criando uma amostra do conjunto de dados\n",
    "amostra_tamanho = 3000000\n",
    "amostra = estado.sample(amostra_tamanho)\n",
    "\n",
    "# modelo Prophet\n",
    "model = Prophet()\n",
    "\n",
    "# Ajuste o modelo aos dados históricos\n",
    "model.fit(amostra)"
   ]
  },
  {
   "cell_type": "markdown",
   "metadata": {},
   "source": [
    "## VALIDANDO O MODELO"
   ]
  },
  {
   "cell_type": "markdown",
   "metadata": {},
   "source": [
    "### IMPORTANDO, TRATANDO E MANIPULANDO DADOS 2019"
   ]
  },
  {
   "cell_type": "code",
   "execution_count": 149,
   "metadata": {},
   "outputs": [],
   "source": [
    "validacao = pd.read_csv('GERACAO_USINA_2019.csv', sep=';', decimal='.')"
   ]
  },
  {
   "cell_type": "code",
   "execution_count": 150,
   "metadata": {},
   "outputs": [],
   "source": [
    "validacao_val = validacao[['din_instante','nom_estado','val_geracao']]"
   ]
  },
  {
   "cell_type": "markdown",
   "metadata": {},
   "source": [
    "### CONVERETENDO O TIPO DAS VARIAVÉIS"
   ]
  },
  {
   "cell_type": "code",
   "execution_count": 151,
   "metadata": {},
   "outputs": [],
   "source": [
    "validacao_val['din_instante'] = pd.to_datetime(validacao_val['din_instante'], format='%Y-%m-%d %H:%M:%S')"
   ]
  },
  {
   "cell_type": "code",
   "execution_count": 152,
   "metadata": {},
   "outputs": [],
   "source": [
    "validacao_val['val_geracao'] = pd.to_numeric(validacao_val['val_geracao'], errors='coerce')"
   ]
  },
  {
   "cell_type": "code",
   "execution_count": 153,
   "metadata": {},
   "outputs": [],
   "source": [
    "validacao_val['nom_estado'] = lb.fit_transform(validacao_val['nom_estado'])\n",
    "# Remove valores missing eventualmente gerados\n",
    "validacao_val.dropna(inplace = True)"
   ]
  },
  {
   "cell_type": "markdown",
   "metadata": {},
   "source": [
    "### ALTERANDO O NOME DAS VARIAVÉIS"
   ]
  },
  {
   "cell_type": "code",
   "execution_count": 154,
   "metadata": {},
   "outputs": [],
   "source": [
    "validacao_val = validacao_val.rename(columns={'val_geracao': 'y'})"
   ]
  },
  {
   "cell_type": "code",
   "execution_count": 155,
   "metadata": {},
   "outputs": [],
   "source": [
    "validacao_val = validacao_val.rename(columns={'din_instante': 'ds'})"
   ]
  },
  {
   "cell_type": "code",
   "execution_count": 156,
   "metadata": {},
   "outputs": [
    {
     "data": {
      "text/html": [
       "<div>\n",
       "<style scoped>\n",
       "    .dataframe tbody tr th:only-of-type {\n",
       "        vertical-align: middle;\n",
       "    }\n",
       "\n",
       "    .dataframe tbody tr th {\n",
       "        vertical-align: top;\n",
       "    }\n",
       "\n",
       "    .dataframe thead th {\n",
       "        text-align: right;\n",
       "    }\n",
       "</style>\n",
       "<table border=\"1\" class=\"dataframe\">\n",
       "  <thead>\n",
       "    <tr style=\"text-align: right;\">\n",
       "      <th></th>\n",
       "      <th>ds</th>\n",
       "      <th>nom_estado</th>\n",
       "      <th>y</th>\n",
       "    </tr>\n",
       "  </thead>\n",
       "  <tbody>\n",
       "    <tr>\n",
       "      <th>0</th>\n",
       "      <td>2019-01-01</td>\n",
       "      <td>3</td>\n",
       "      <td>82.993</td>\n",
       "    </tr>\n",
       "  </tbody>\n",
       "</table>\n",
       "</div>"
      ],
      "text/plain": [
       "          ds  nom_estado       y\n",
       "0 2019-01-01           3  82.993"
      ]
     },
     "execution_count": 156,
     "metadata": {},
     "output_type": "execute_result"
    }
   ],
   "source": [
    "validacao_val.head(1)"
   ]
  },
  {
   "cell_type": "markdown",
   "metadata": {},
   "source": [
    "### IMPORTANDO, TRATANDO E MANIPULANDO DADOS 2020\n"
   ]
  },
  {
   "cell_type": "code",
   "execution_count": 157,
   "metadata": {},
   "outputs": [],
   "source": [
    "validacao1 = pd.read_csv('GERACAO_USINA_2020.csv', sep=';', decimal='.')"
   ]
  },
  {
   "cell_type": "code",
   "execution_count": 158,
   "metadata": {},
   "outputs": [],
   "source": [
    "validacao_val1 = validacao1[['din_instante','nom_estado','val_geracao']]"
   ]
  },
  {
   "cell_type": "markdown",
   "metadata": {},
   "source": [
    "### CONVERETENDO O TIPO DAS VARIAVÉIS"
   ]
  },
  {
   "cell_type": "code",
   "execution_count": 159,
   "metadata": {},
   "outputs": [],
   "source": [
    "validacao_val1['val_geracao'] = pd.to_numeric(validacao_val1['val_geracao'], errors='coerce')"
   ]
  },
  {
   "cell_type": "code",
   "execution_count": 160,
   "metadata": {},
   "outputs": [],
   "source": [
    "validacao_val1['din_instante'] = pd.to_datetime(validacao_val1['din_instante'], format='%Y-%m-%d %H:%M:%S')"
   ]
  },
  {
   "cell_type": "code",
   "execution_count": 161,
   "metadata": {},
   "outputs": [],
   "source": [
    "validacao_val1['nom_estado'] = lb.fit_transform(validacao_val1['nom_estado'])\n",
    "# Remove valores missing eventualmente gerados\n",
    "validacao_val1.dropna(inplace = True)"
   ]
  },
  {
   "cell_type": "markdown",
   "metadata": {},
   "source": [
    "### ALTERANDO O NOME DAS VARIAVEIS"
   ]
  },
  {
   "cell_type": "code",
   "execution_count": 162,
   "metadata": {},
   "outputs": [],
   "source": [
    "validacao_val1 = validacao_val1.rename(columns={'din_instante': 'ds'})"
   ]
  },
  {
   "cell_type": "code",
   "execution_count": 163,
   "metadata": {},
   "outputs": [],
   "source": [
    "validacao_val1 = validacao_val1.rename(columns={'val_geracao': 'y'})"
   ]
  },
  {
   "cell_type": "code",
   "execution_count": 164,
   "metadata": {},
   "outputs": [
    {
     "data": {
      "text/html": [
       "<div>\n",
       "<style scoped>\n",
       "    .dataframe tbody tr th:only-of-type {\n",
       "        vertical-align: middle;\n",
       "    }\n",
       "\n",
       "    .dataframe tbody tr th {\n",
       "        vertical-align: top;\n",
       "    }\n",
       "\n",
       "    .dataframe thead th {\n",
       "        text-align: right;\n",
       "    }\n",
       "</style>\n",
       "<table border=\"1\" class=\"dataframe\">\n",
       "  <thead>\n",
       "    <tr style=\"text-align: right;\">\n",
       "      <th></th>\n",
       "      <th>ds</th>\n",
       "      <th>nom_estado</th>\n",
       "      <th>y</th>\n",
       "    </tr>\n",
       "  </thead>\n",
       "  <tbody>\n",
       "    <tr>\n",
       "      <th>0</th>\n",
       "      <td>2020-01-01</td>\n",
       "      <td>3</td>\n",
       "      <td>143.411</td>\n",
       "    </tr>\n",
       "  </tbody>\n",
       "</table>\n",
       "</div>"
      ],
      "text/plain": [
       "          ds  nom_estado        y\n",
       "0 2020-01-01           3  143.411"
      ]
     },
     "execution_count": 164,
     "metadata": {},
     "output_type": "execute_result"
    }
   ],
   "source": [
    "validacao_val1.head(1)"
   ]
  },
  {
   "cell_type": "markdown",
   "metadata": {},
   "source": [
    "### JUNTANDO AS TABELAS DOS DADOS DE 2019  E DE 2020 PARA A VALIDAÇÃO - PREDIÇÃO"
   ]
  },
  {
   "cell_type": "code",
   "execution_count": 165,
   "metadata": {},
   "outputs": [
    {
     "data": {
      "text/html": [
       "<div>\n",
       "<style scoped>\n",
       "    .dataframe tbody tr th:only-of-type {\n",
       "        vertical-align: middle;\n",
       "    }\n",
       "\n",
       "    .dataframe tbody tr th {\n",
       "        vertical-align: top;\n",
       "    }\n",
       "\n",
       "    .dataframe thead th {\n",
       "        text-align: right;\n",
       "    }\n",
       "</style>\n",
       "<table border=\"1\" class=\"dataframe\">\n",
       "  <thead>\n",
       "    <tr style=\"text-align: right;\">\n",
       "      <th></th>\n",
       "      <th>ds</th>\n",
       "      <th>nom_estado</th>\n",
       "      <th>y</th>\n",
       "    </tr>\n",
       "  </thead>\n",
       "  <tbody>\n",
       "    <tr>\n",
       "      <th>0</th>\n",
       "      <td>2019-01-01</td>\n",
       "      <td>3</td>\n",
       "      <td>82.993</td>\n",
       "    </tr>\n",
       "    <tr>\n",
       "      <th>1</th>\n",
       "      <td>2019-01-01</td>\n",
       "      <td>3</td>\n",
       "      <td>14.032</td>\n",
       "    </tr>\n",
       "    <tr>\n",
       "      <th>2</th>\n",
       "      <td>2019-01-01</td>\n",
       "      <td>3</td>\n",
       "      <td>65.343</td>\n",
       "    </tr>\n",
       "    <tr>\n",
       "      <th>3</th>\n",
       "      <td>2019-01-01</td>\n",
       "      <td>3</td>\n",
       "      <td>50.980</td>\n",
       "    </tr>\n",
       "    <tr>\n",
       "      <th>4</th>\n",
       "      <td>2019-01-01</td>\n",
       "      <td>3</td>\n",
       "      <td>0.000</td>\n",
       "    </tr>\n",
       "  </tbody>\n",
       "</table>\n",
       "</div>"
      ],
      "text/plain": [
       "          ds  nom_estado       y\n",
       "0 2019-01-01           3  82.993\n",
       "1 2019-01-01           3  14.032\n",
       "2 2019-01-01           3  65.343\n",
       "3 2019-01-01           3  50.980\n",
       "4 2019-01-01           3   0.000"
      ]
     },
     "execution_count": 165,
     "metadata": {},
     "output_type": "execute_result"
    }
   ],
   "source": [
    "previsao = tabelas_mescladas = pd.concat([validacao_val, validacao_val1])\n",
    "previsao.head()"
   ]
  },
  {
   "cell_type": "code",
   "execution_count": 166,
   "metadata": {},
   "outputs": [
    {
     "data": {
      "text/plain": [
       "(8840498, 3)"
      ]
     },
     "execution_count": 166,
     "metadata": {},
     "output_type": "execute_result"
    }
   ],
   "source": [
    "previsao.shape"
   ]
  },
  {
   "cell_type": "markdown",
   "metadata": {},
   "source": [
    "### FAZENDO A PREDIÇÃO EM 1 MÊS"
   ]
  },
  {
   "cell_type": "code",
   "execution_count": 167,
   "metadata": {},
   "outputs": [],
   "source": [
    "# Criando uma amostra do conjunto de dados\n",
    "amostra_predicao = 340467\n",
    "previsao_teste = previsao.tail(amostra_predicao)  # Selecionando as últimas 'amostra_predicao' linhas para usar como conjunto de teste\n",
    "\n",
    "# Fazendo previsões para a variável 'previsao_teste' para um mês\n",
    "future_teste = model.make_future_dataframe(periods=31, freq='D')  # prevendo 1 mês\n",
    "forecast_teste = model.predict(future_teste)"
   ]
  },
  {
   "cell_type": "code",
   "execution_count": 168,
   "metadata": {},
   "outputs": [
    {
     "data": {
      "text/html": [
       "<div>\n",
       "<style scoped>\n",
       "    .dataframe tbody tr th:only-of-type {\n",
       "        vertical-align: middle;\n",
       "    }\n",
       "\n",
       "    .dataframe tbody tr th {\n",
       "        vertical-align: top;\n",
       "    }\n",
       "\n",
       "    .dataframe thead th {\n",
       "        text-align: right;\n",
       "    }\n",
       "</style>\n",
       "<table border=\"1\" class=\"dataframe\">\n",
       "  <thead>\n",
       "    <tr style=\"text-align: right;\">\n",
       "      <th></th>\n",
       "      <th>ds</th>\n",
       "      <th>trend</th>\n",
       "      <th>yhat_lower</th>\n",
       "      <th>yhat_upper</th>\n",
       "      <th>trend_lower</th>\n",
       "      <th>trend_upper</th>\n",
       "      <th>additive_terms</th>\n",
       "      <th>additive_terms_lower</th>\n",
       "      <th>additive_terms_upper</th>\n",
       "      <th>daily</th>\n",
       "      <th>daily_lower</th>\n",
       "      <th>daily_upper</th>\n",
       "      <th>weekly</th>\n",
       "      <th>weekly_lower</th>\n",
       "      <th>weekly_upper</th>\n",
       "      <th>yearly</th>\n",
       "      <th>yearly_lower</th>\n",
       "      <th>yearly_upper</th>\n",
       "      <th>multiplicative_terms</th>\n",
       "      <th>multiplicative_terms_lower</th>\n",
       "      <th>multiplicative_terms_upper</th>\n",
       "      <th>yhat</th>\n",
       "    </tr>\n",
       "  </thead>\n",
       "  <tbody>\n",
       "    <tr>\n",
       "      <th>0</th>\n",
       "      <td>2000-02-04 07:00:00</td>\n",
       "      <td>422.153839</td>\n",
       "      <td>-290.010775</td>\n",
       "      <td>1139.126322</td>\n",
       "      <td>422.153839</td>\n",
       "      <td>422.153839</td>\n",
       "      <td>3.976699</td>\n",
       "      <td>3.976699</td>\n",
       "      <td>3.976699</td>\n",
       "      <td>-14.131524</td>\n",
       "      <td>-14.131524</td>\n",
       "      <td>-14.131524</td>\n",
       "      <td>7.470678</td>\n",
       "      <td>7.470678</td>\n",
       "      <td>7.470678</td>\n",
       "      <td>10.637544</td>\n",
       "      <td>10.637544</td>\n",
       "      <td>10.637544</td>\n",
       "      <td>0.0</td>\n",
       "      <td>0.0</td>\n",
       "      <td>0.0</td>\n",
       "      <td>426.130537</td>\n",
       "    </tr>\n",
       "  </tbody>\n",
       "</table>\n",
       "</div>"
      ],
      "text/plain": [
       "                   ds       trend  yhat_lower   yhat_upper  trend_lower  \\\n",
       "0 2000-02-04 07:00:00  422.153839 -290.010775  1139.126322   422.153839   \n",
       "\n",
       "   trend_upper  additive_terms  additive_terms_lower  additive_terms_upper  \\\n",
       "0   422.153839        3.976699              3.976699              3.976699   \n",
       "\n",
       "       daily  daily_lower  daily_upper    weekly  weekly_lower  weekly_upper  \\\n",
       "0 -14.131524   -14.131524   -14.131524  7.470678      7.470678      7.470678   \n",
       "\n",
       "      yearly  yearly_lower  yearly_upper  multiplicative_terms  \\\n",
       "0  10.637544     10.637544     10.637544                   0.0   \n",
       "\n",
       "   multiplicative_terms_lower  multiplicative_terms_upper        yhat  \n",
       "0                         0.0                         0.0  426.130537  "
      ]
     },
     "execution_count": 168,
     "metadata": {},
     "output_type": "execute_result"
    }
   ],
   "source": [
    "forecast_teste.head(1)"
   ]
  },
  {
   "cell_type": "markdown",
   "metadata": {},
   "source": [
    "## Visualizando o Resultado"
   ]
  },
  {
   "cell_type": "code",
   "execution_count": 182,
   "metadata": {},
   "outputs": [
    {
     "data": {
      "image/png": "[encoded data removed]",
      "text/plain": [
       "<Figure size 1000x600 with 1 Axes>"
      ]
     },
     "metadata": {},
     "output_type": "display_data"
    }
   ],
   "source": [
    "# Criando um gráfico\n",
    "plt.figure(figsize=(10, 6))\n",
    "plt.plot(forecast_values.index, forecast_values.values, label='Previsão')\n",
    "plt.xlabel('Resultado Dos Dias de Predição')\n",
    "plt.ylabel('Energia')\n",
    "plt.title('Previsão de Energia para Janeiro de 2021')\n",
    "plt.legend()\n",
    "plt.grid(True)\n",
    "plt.show()\n"
   ]
  },
  {
   "cell_type": "code",
   "execution_count": 170,
   "metadata": {},
   "outputs": [
    {
     "name": "stdout",
     "output_type": "stream",
     "text": [
      "157502    129.055048\n",
      "157503    133.764763\n",
      "157504    131.073130\n",
      "157505    130.419323\n",
      "157506    102.765448\n",
      "157507    111.372013\n",
      "157508    138.021948\n",
      "157509    135.051935\n",
      "157510    140.357466\n",
      "157511    138.155738\n",
      "157512    137.879325\n",
      "157513    110.486182\n",
      "157514    119.235163\n",
      "157515    145.910031\n",
      "157516    142.850730\n",
      "157517    147.958316\n",
      "157518    145.457680\n",
      "157519    144.791001\n",
      "157520    116.927487\n",
      "157521    125.138604\n",
      "157522    151.221764\n",
      "157523    147.531256\n",
      "157524    151.982832\n",
      "157525    148.816083\n",
      "157526    147.487556\n",
      "157527    118.980166\n",
      "157528    126.578128\n",
      "157529    152.090378\n",
      "157530    147.881274\n",
      "157531    151.874986\n",
      "157532    148.317735\n",
      "Name: yhat, dtype: float64\n"
     ]
    }
   ],
   "source": [
    "# Acessando os valores da previsão\n",
    "forecast_values = forecast_teste['yhat'].tail(31)\n",
    "\n",
    "# Imprimindo os valores da previsão\n",
    "print(forecast_values)"
   ]
  },
  {
   "cell_type": "markdown",
   "metadata": {},
   "source": [
    "### AVALIANDO O MODELO"
   ]
  },
  {
   "cell_type": "code",
   "execution_count": 173,
   "metadata": {},
   "outputs": [
    {
     "name": "stdout",
     "output_type": "stream",
     "text": [
      "Erro Absoluto Médio (MAE): 220.16513523932733\n",
      "Raiz do Erro Quadrático Médio (RMSE): 416.3215574666702\n"
     ]
    }
   ],
   "source": [
    "# Redimensionando o conjunto de dados de teste para corresponder ao tamanho do conjunto de dados de previsão\n",
    "previsao_teste = previsao.sample(len(forecast_teste))\n",
    "\n",
    "# Obtendo os valores verdadeiros e previstos\n",
    "y_true = previsao_teste['y'].values \n",
    "y_pred = forecast_teste['yhat'].values\n",
    "\n",
    "# Calcular o Erro Absoluto Médio (MAE)\n",
    "mae = np.mean(np.abs(y_true - y_pred))\n",
    "print(f\"Erro Absoluto Médio (MAE): {mae}\")\n",
    "\n",
    "# Calcular o Erro Quadrático Médio (RMSE)\n",
    "rmse = np.sqrt(mean_squared_error(y_true, y_pred))\n",
    "print(f\"Raiz do Erro Quadrático Médio (RMSE): {rmse}\")\n"
   ]
  }
 ],
 "metadata": {
  "kernelspec": {
   "display_name": "Python 3",
   "language": "python",
   "name": "python3"
  },
  "language_info": {
   "codemirror_mode": {
    "name": "ipython",
    "version": 3
   },
   "file_extension": ".py",
   "mimetype": "text/x-python",
   "name": "python",
   "nbconvert_exporter": "python",
   "pygments_lexer": "ipython3",
   "version": "3.11.6"
  }
 },
 "nbformat": 4,
 "nbformat_minor": 2
}
